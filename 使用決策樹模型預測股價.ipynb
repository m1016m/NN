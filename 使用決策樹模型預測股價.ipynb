{
  "nbformat": 4,
  "nbformat_minor": 0,
  "metadata": {
    "colab": {
      "name": "使用決策樹模型預測股價.ipynb",
      "provenance": [],
      "authorship_tag": "ABX9TyMcQdYbP1x3k1pMo+UyvImS",
      "include_colab_link": true
    },
    "kernelspec": {
      "name": "python3",
      "display_name": "Python 3"
    },
    "language_info": {
      "name": "python"
    }
  },
  "cells": [
    {
      "cell_type": "markdown",
      "metadata": {
        "id": "view-in-github",
        "colab_type": "text"
      },
      "source": [
        "<a href=\"https://colab.research.google.com/github/m1016m/NN/blob/master/%E4%BD%BF%E7%94%A8%E6%B1%BA%E7%AD%96%E6%A8%B9%E6%A8%A1%E5%9E%8B%E9%A0%90%E6%B8%AC%E8%82%A1%E5%83%B9.ipynb\" target=\"_parent\"><img src=\"https://colab.research.google.com/assets/colab-badge.svg\" alt=\"Open In Colab\"/></a>"
      ]
    },
    {
      "cell_type": "code",
      "metadata": {
        "id": "E01cuH53bxfU"
      },
      "source": [
        ""
      ],
      "execution_count": null,
      "outputs": []
    },
    {
      "cell_type": "markdown",
      "metadata": {
        "id": "1dlfUGB8b_Ax"
      },
      "source": [
        "### 使用決策樹模型預測股價"
      ]
    },
    {
      "cell_type": "code",
      "metadata": {
        "id": "Zru8IX7gcG6I"
      },
      "source": [
        "import pandas as pd\n",
        "import numpy as np\n",
        "import matplotlib.pyplot as plt\n",
        "from sklearn.tree import DecisionTreeRegressor\n",
        "from sklearn.model_selection import train_test_split"
      ],
      "execution_count": 1,
      "outputs": []
    },
    {
      "cell_type": "markdown",
      "metadata": {
        "id": "VgSdj7Q_cQT_"
      },
      "source": [
        "設定常數"
      ]
    },
    {
      "cell_type": "code",
      "metadata": {
        "id": "YM8rsn9mcKg8"
      },
      "source": [
        "# 訓練樣本數比例\n",
        "SPLIT_RATIO = 0.8"
      ],
      "execution_count": 3,
      "outputs": []
    },
    {
      "cell_type": "code",
      "metadata": {
        "colab": {
          "resources": {
            "http://localhost:8080/nbextensions/google.colab/files.js": {
              "data": "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",
              "ok": true,
              "headers": [
                [
                  "content-type",
                  "application/javascript"
                ]
              ],
              "status": 200,
              "status_text": ""
            }
          },
          "base_uri": "https://localhost:8080/",
          "height": 76
        },
        "id": "wNg9mW97cTyD",
        "outputId": "d78b5da3-f62c-4008-c333-6617b51d8519"
      },
      "source": [
        "#上載 csv\n",
        "from google.colab import files\n",
        "\n",
        "uploaded = files.upload()"
      ],
      "execution_count": 4,
      "outputs": [
        {
          "output_type": "display_data",
          "data": {
            "text/html": [
              "\n",
              "     <input type=\"file\" id=\"files-7953a800-69bc-4059-b6b2-472047cbfaa6\" name=\"files[]\" multiple disabled\n",
              "        style=\"border:none\" />\n",
              "     <output id=\"result-7953a800-69bc-4059-b6b2-472047cbfaa6\">\n",
              "      Upload widget is only available when the cell has been executed in the\n",
              "      current browser session. Please rerun this cell to enable.\n",
              "      </output>\n",
              "      <script src=\"/nbextensions/google.colab/files.js\"></script> "
            ],
            "text/plain": [
              "<IPython.core.display.HTML object>"
            ]
          },
          "metadata": {
            "tags": []
          }
        },
        {
          "output_type": "stream",
          "text": [
            "Saving SPY_2018.csv to SPY_2018.csv\n"
          ],
          "name": "stdout"
        }
      ]
    },
    {
      "cell_type": "code",
      "metadata": {
        "colab": {
          "base_uri": "https://localhost:8080/"
        },
        "id": "KHOjMRlKc87s",
        "outputId": "b5a73e9c-927b-4378-b780-c6091e249dbe"
      },
      "source": [
        "# 確認 2.csv 是否已上載\n",
        "!ls *.* -l"
      ],
      "execution_count": 5,
      "outputs": [
        {
          "output_type": "stream",
          "text": [
            "-rw-r--r-- 1 root root 40210 Mar 24 04:18 SPY_2018.csv\n"
          ],
          "name": "stdout"
        }
      ]
    },
    {
      "cell_type": "code",
      "metadata": {
        "colab": {
          "base_uri": "https://localhost:8080/"
        },
        "id": "cHCbwJY0dG-h",
        "outputId": "072c0c43-ea02-48fc-edee-ea08d532cbdf"
      },
      "source": [
        "# use Pandas to read 2.csv\n",
        "import pandas as pd\n",
        "df = pd.read_csv('SPY_2018.csv')\n",
        "print(df)"
      ],
      "execution_count": 7,
      "outputs": [
        {
          "output_type": "stream",
          "text": [
            "           Date        Open        High  ...       Close   Adj Close    Volume\n",
            "0    2018-01-02  267.839996  268.809998  ...  268.769989  258.858276  86655700\n",
            "1    2018-01-03  268.959991  270.640015  ...  270.470001  260.495544  90070400\n",
            "2    2018-01-04  271.200012  272.160004  ...  271.609985  261.593475  80636400\n",
            "3    2018-01-05  272.510010  273.559998  ...  273.420013  263.336731  83524000\n",
            "4    2018-01-08  273.309998  274.100006  ...  273.920013  263.818329  57319200\n",
            "..          ...         ...         ...  ...         ...         ...       ...\n",
            "529  2020-02-10  331.230011  334.750000  ...  334.679993  334.679993  42070000\n",
            "530  2020-02-11  336.160004  337.019989  ...  335.260010  335.260010  54864500\n",
            "531  2020-02-12  336.829987  337.649994  ...  337.420013  337.420013  43992700\n",
            "532  2020-02-13  335.859985  338.119995  ...  337.059998  337.059998  54501900\n",
            "533  2020-02-14  337.510010  337.730011  ...  337.600006  337.600006  64524200\n",
            "\n",
            "[534 rows x 7 columns]\n"
          ],
          "name": "stdout"
        }
      ]
    },
    {
      "cell_type": "markdown",
      "metadata": {
        "id": "KN6pRydGn-_0"
      },
      "source": [
        "加入資料"
      ]
    },
    {
      "cell_type": "code",
      "metadata": {
        "id": "h6d2_1pBdIr4"
      },
      "source": [
        "spy_prices = pd.read_csv('SPY_2018.csv')"
      ],
      "execution_count": 9,
      "outputs": []
    },
    {
      "cell_type": "markdown",
      "metadata": {
        "id": "UtkLNCa-oKKJ"
      },
      "source": [
        "檢查資料完整性"
      ]
    },
    {
      "cell_type": "code",
      "metadata": {
        "colab": {
          "base_uri": "https://localhost:8080/"
        },
        "id": "-tqBecqIoERz",
        "outputId": "d68fc217-a484-44f0-82fb-f62d418ed8a5"
      },
      "source": [
        "spy_prices.isnull().sum()"
      ],
      "execution_count": 10,
      "outputs": [
        {
          "output_type": "execute_result",
          "data": {
            "text/plain": [
              "Date         0\n",
              "Open         0\n",
              "High         0\n",
              "Low          0\n",
              "Close        0\n",
              "Adj Close    0\n",
              "Volume       0\n",
              "dtype: int64"
            ]
          },
          "metadata": {
            "tags": []
          },
          "execution_count": 10
        }
      ]
    },
    {
      "cell_type": "markdown",
      "metadata": {
        "id": "u9f7fLQioWaH"
      },
      "source": [
        "拆分 `訓練資料`、`測試資料`"
      ]
    },
    {
      "cell_type": "code",
      "metadata": {
        "id": "6eoL-yogoOFP"
      },
      "source": [
        "# 特徵 Features\n",
        "x = spy_prices.loc[:, 'High':'Volume']\n",
        "# 標籤 Label\n",
        "y = spy_prices.loc[:, 'Open']"
      ],
      "execution_count": 14,
      "outputs": []
    },
    {
      "cell_type": "markdown",
      "metadata": {
        "id": "gWU3hNNhpF2E"
      },
      "source": [
        "X_train,X_test, y_train, y_test =sklearn.model_selection.train_test_split(train_data,train_target,test_size=0.4, random_state=0,stratify=y_train)\n",
        "# train_data：所要劃分的樣本特徵集\n",
        "\n",
        "# train_target：所要劃分的樣本結果\n",
        "\n",
        "# test_size：樣本佔比，如果是整數的話就是樣本數量\n",
        "\n",
        "# random_state：是随机数的种子。\n",
        "# 随机数种子：其实就是该组随机数的编号，在需要重复试验的时候，保证得到一组一样的随机数。比如你每次都填1，其他参数一样的情况下你得到的随机数组是一样的。但填0或不填，每次都会不一样。\n",
        "\n",
        "stratify是为了保持split前类的分布。比如有100个数据，80个属于A类，20个属于B类。如果train_test_split(... test_size=0.25, stratify = y_all), 那么split之后数据如下： \n",
        "training: 75个数据，其中60个属于A类，15个属于B类。 \n",
        "testing: 25个数据，其中20个属于A类，5个属于B类。 \n",
        "\n",
        "用了stratify参数，training集和testing集的类的比例是 A：B= 4：1，等同于split前的比例（80：20）。通常在这种类分布不平衡的情况下会用到stratify。\n",
        "\n",
        "将stratify=X就是按照X中的比例分配 \n",
        "\n",
        "将stratify=y就是按照y中的比例分配 \n"
      ]
    },
    {
      "cell_type": "code",
      "metadata": {
        "id": "CkfHi_2mokbi"
      },
      "source": [
        "x_train, x_test, y_train, y_test = train_test_split(x, y, train_size=SPLIT_RATIO, random_state=5)"
      ],
      "execution_count": 15,
      "outputs": []
    },
    {
      "cell_type": "code",
      "metadata": {
        "colab": {
          "base_uri": "https://localhost:8080/",
          "height": 204
        },
        "id": "ihaTMNMtpveN",
        "outputId": "cf276f06-30da-4c49-a31c-5e3a3122fabf"
      },
      "source": [
        "x_train.tail()"
      ],
      "execution_count": 16,
      "outputs": [
        {
          "output_type": "execute_result",
          "data": {
            "text/html": [
              "<div>\n",
              "<style scoped>\n",
              "    .dataframe tbody tr th:only-of-type {\n",
              "        vertical-align: middle;\n",
              "    }\n",
              "\n",
              "    .dataframe tbody tr th {\n",
              "        vertical-align: top;\n",
              "    }\n",
              "\n",
              "    .dataframe thead th {\n",
              "        text-align: right;\n",
              "    }\n",
              "</style>\n",
              "<table border=\"1\" class=\"dataframe\">\n",
              "  <thead>\n",
              "    <tr style=\"text-align: right;\">\n",
              "      <th></th>\n",
              "      <th>High</th>\n",
              "      <th>Low</th>\n",
              "      <th>Close</th>\n",
              "      <th>Adj Close</th>\n",
              "      <th>Volume</th>\n",
              "    </tr>\n",
              "  </thead>\n",
              "  <tbody>\n",
              "    <tr>\n",
              "      <th>8</th>\n",
              "      <td>278.109985</td>\n",
              "      <td>276.079987</td>\n",
              "      <td>277.920013</td>\n",
              "      <td>267.670837</td>\n",
              "      <td>90816100</td>\n",
              "    </tr>\n",
              "    <tr>\n",
              "      <th>73</th>\n",
              "      <td>271.299988</td>\n",
              "      <td>269.869995</td>\n",
              "      <td>270.390015</td>\n",
              "      <td>261.461487</td>\n",
              "      <td>57303900</td>\n",
              "    </tr>\n",
              "    <tr>\n",
              "      <th>400</th>\n",
              "      <td>288.040009</td>\n",
              "      <td>284.279999</td>\n",
              "      <td>287.799988</td>\n",
              "      <td>285.075470</td>\n",
              "      <td>120711700</td>\n",
              "    </tr>\n",
              "    <tr>\n",
              "      <th>118</th>\n",
              "      <td>275.980011</td>\n",
              "      <td>273.679993</td>\n",
              "      <td>274.239990</td>\n",
              "      <td>266.375122</td>\n",
              "      <td>71061400</td>\n",
              "    </tr>\n",
              "    <tr>\n",
              "      <th>206</th>\n",
              "      <td>271.809998</td>\n",
              "      <td>266.230011</td>\n",
              "      <td>270.079987</td>\n",
              "      <td>263.521942</td>\n",
              "      <td>138061500</td>\n",
              "    </tr>\n",
              "  </tbody>\n",
              "</table>\n",
              "</div>"
            ],
            "text/plain": [
              "           High         Low       Close   Adj Close     Volume\n",
              "8    278.109985  276.079987  277.920013  267.670837   90816100\n",
              "73   271.299988  269.869995  270.390015  261.461487   57303900\n",
              "400  288.040009  284.279999  287.799988  285.075470  120711700\n",
              "118  275.980011  273.679993  274.239990  266.375122   71061400\n",
              "206  271.809998  266.230011  270.079987  263.521942  138061500"
            ]
          },
          "metadata": {
            "tags": []
          },
          "execution_count": 16
        }
      ]
    },
    {
      "cell_type": "code",
      "metadata": {
        "colab": {
          "base_uri": "https://localhost:8080/"
        },
        "id": "F-fCKZV_pyhD",
        "outputId": "ce921a9d-4ad5-4d08-8204-643ab1e3430c"
      },
      "source": [
        "y_train.tail()"
      ],
      "execution_count": 17,
      "outputs": [
        {
          "output_type": "execute_result",
          "data": {
            "text/plain": [
              "8      276.420013\n",
              "73     270.690002\n",
              "400    285.910004\n",
              "118    275.959991\n",
              "206    267.380005\n",
              "Name: Open, dtype: float64"
            ]
          },
          "metadata": {
            "tags": []
          },
          "execution_count": 17
        }
      ]
    },
    {
      "cell_type": "markdown",
      "metadata": {
        "id": "DnDuCNosqq0O"
      },
      "source": [
        "## 建立決策樹模型"
      ]
    },
    {
      "cell_type": "markdown",
      "metadata": {
        "id": "mKiqF_HZqxdJ"
      },
      "source": [
        "max_depth 為決策深度，可以防止過擬和"
      ]
    },
    {
      "cell_type": "code",
      "metadata": {
        "id": "RzU4v845qm1w"
      },
      "source": [
        "Model_5 = DecisionTreeRegressor(max_depth=5)\n",
        "Model_7 = DecisionTreeRegressor(max_depth=7)"
      ],
      "execution_count": 18,
      "outputs": []
    },
    {
      "cell_type": "code",
      "metadata": {
        "colab": {
          "base_uri": "https://localhost:8080/",
          "height": 171
        },
        "id": "rvCbkj2OrxmU",
        "outputId": "390365d0-cbb3-48f5-f943-aad55dc64beb"
      },
      "source": [
        "'''\n",
        "scikit-learn中有两类决策树，它们均采用优化的CART决策树算法。\n",
        "'''\n",
        "from sklearn.tree import DecisionTreeRegressor\n",
        "'''\n",
        "回归决策树\n",
        "'''\n",
        "DecisionTreeRegressor(criterion=\"mse\",\n",
        "                         splitter=\"best\",\n",
        "                         max_depth=None,\n",
        "                         min_samples_split=2,\n",
        "                         min_samples_leaf=1,\n",
        "                         min_weight_fraction_leaf=0.,\n",
        "                         max_features=None,\n",
        "                         random_state=None,\n",
        "                         max_leaf_nodes=None,\n",
        "                         min_impurity_decrease=0.,\n",
        "                         min_impurity_split=None,\n",
        "                         presort=False)\n",
        "'''\n",
        "参数含义：\n",
        "1.criterion:string, optional (default=\"mse\")\n",
        "            它指定了切分质量的评价准则。默认为'mse'(mean squared error)。\n",
        "2.splitter:string, optional (default=\"best\")\n",
        "            它指定了在每个节点切分的策略。有两种切分策咯：\n",
        "            (1).splitter='best':表示选择最优的切分特征和切分点。\n",
        "            (2).splitter='random':表示随机切分。\n",
        "3.max_depth:int or None, optional (default=None)\n",
        "             指定树的最大深度。如果为None，则表示树的深度不限，直到\n",
        "             每个叶子都是纯净的，即叶节点中所有样本都属于同一个类别，\n",
        "             或者叶子节点中包含小于min_samples_split个样本。\n",
        "4.min_samples_split:int, float, optional (default=2)\n",
        "             整数或者浮点数，默认为2。它指定了分裂一个内部节点(非叶子节点)\n",
        "             需要的最小样本数。如果为浮点数(0到1之间)，最少样本分割数为ceil(min_samples_split * n_samples)\n",
        "5.min_samples_leaf:int, float, optional (default=1)\n",
        "             整数或者浮点数，默认为1。它指定了每个叶子节点包含的最少样本数。\n",
        "             如果为浮点数(0到1之间)，每个叶子节点包含的最少样本数为ceil(min_samples_leaf * n_samples)\n",
        "6.min_weight_fraction_leaf:float, optional (default=0.)\n",
        "             它指定了叶子节点中样本的最小权重系数。默认情况下样本有相同的权重。\n",
        "7.max_feature:int, float, string or None, optional (default=None)\n",
        "             可以是整数，浮点数，字符串或者None。默认为None。\n",
        "             (1).如果是整数，则每次节点分裂只考虑max_feature个特征。\n",
        "             (2).如果是浮点数(0到1之间)，则每次分裂节点的时候只考虑int(max_features * n_features)个特征。\n",
        "             (3).如果是字符串'auto',max_features=n_features。\n",
        "             (4).如果是字符串'sqrt',max_features=sqrt(n_features)。\n",
        "             (5).如果是字符串'log2',max_features=log2(n_features)。\n",
        "             (6).如果是None，max_feature=n_feature。\n",
        "8.random_state:int, RandomState instance or None, optional (default=None)\n",
        "             (1).如果为整数，则它指定了随机数生成器的种子。\n",
        "             (2).如果为RandomState实例，则指定了随机数生成器。\n",
        "             (3).如果为None，则使用默认的随机数生成器。\n",
        "9.max_leaf_nodes:int or None, optional (default=None)\n",
        "             (1).如果为None，则叶子节点数量不限。\n",
        "             (2).如果不为None，则max_depth被忽略。\n",
        "10.min_impurity_decrease:float, optional (default=0.)\n",
        "             如果节点的分裂导致不纯度的减少(分裂后样本比分裂前更加纯净)大于或等于min_impurity_decrease，则分裂该节点。\n",
        "             个人理解这个参数应该是针对分类问题时才有意义。这里的不纯度应该是指基尼指数。\n",
        "             回归生成树采用的是平方误差最小化策略。分类生成树采用的是基尼指数最小化策略。\n",
        "             加权不纯度的减少量计算公式为：\n",
        "             min_impurity_decrease=N_t / N * (impurity - N_t_R / N_t * right_impurity\n",
        "                                - N_t_L / N_t * left_impurity)\n",
        "             其中N是样本的总数，N_t是当前节点的样本数，N_t_L是分裂后左子节点的样本数，\n",
        "             N_t_R是分裂后右子节点的样本数。impurity指当前节点的基尼指数，right_impurity指\n",
        "             分裂后右子节点的基尼指数。left_impurity指分裂后左子节点的基尼指数。\n",
        "11.min_impurity_split:float\n",
        "             树生长过程中早停止的阈值。如果当前节点的不纯度高于阈值，节点将分裂，否则它是叶子节点。\n",
        "             这个参数已经被弃用。用min_impurity_decrease代替了min_impurity_split。\n",
        "12.presort： bool, optional (default=False)\n",
        "             指定是否需要提前排序数据从而加速寻找最优切分的过程。设置为True时，对于大数据集\n",
        "             会减慢总体的训练过程；但是对于一个小数据集或者设定了最大深度的情况下，会加速训练过程。\n",
        "属性：\n",
        "1.feature_importances_ : array of shape = [n_features]\n",
        "             特征重要性。该值越高，该特征越重要。\n",
        "             特征的重要性为该特征导致的评价准则的（标准化的）总减少量。它也被称为基尼的重要性\n",
        "2.max_feature_:int\n",
        "             max_features推断值。\n",
        "3.n_features_：int\n",
        "             执行fit的时候，特征的数量。\n",
        "4.n_outputs_ : int\n",
        "             执行fit的时候，输出的数量。\n",
        "5.tree_ : 底层的Tree对象。\n",
        "Notes：\n",
        "控制树大小的参数的默认值（例如``max_depth``，``min_samples_leaf``等）导致完全成长和未剪枝的树，\n",
        "这些树在某些数据集上可能表现很好。为减少内存消耗，应通过设置这些参数值来控制树的复杂度和大小。\n",
        "方法：\n",
        "1.fit(X,y):训练模型。\n",
        "2.predict(X):预测。\n",
        "'''\n",
        " \n",
        "from sklearn.tree import DecisionTreeClassifier\n",
        "'''\n",
        "分类决策树\n",
        "'''\n",
        "DecisionTreeClassifier(criterion=\"gini\",\n",
        "                 splitter=\"best\",\n",
        "                 max_depth=None,\n",
        "                 min_samples_split=2,\n",
        "                 min_samples_leaf=1,\n",
        "                 min_weight_fraction_leaf=0.,\n",
        "                 max_features=None,\n",
        "                 random_state=None,\n",
        "                 max_leaf_nodes=None,\n",
        "                 min_impurity_decrease=0.,\n",
        "                 min_impurity_split=None,\n",
        "                 class_weight=None,\n",
        "                 presort=False)\n",
        "'''\n",
        "参数含义：\n",
        "1.criterion:string, optional (default=\"gini\")\n",
        "            (1).criterion='gini',分裂节点时评价准则是Gini指数。\n",
        "            (2).criterion='entropy',分裂节点时的评价指标是信息增益。\n",
        "2.max_depth:int or None, optional (default=None)。指定树的最大深度。\n",
        "            如果为None，表示树的深度不限。直到所有的叶子节点都是纯净的，即叶子节点\n",
        "            中所有的样本点都属于同一个类别。或者每个叶子节点包含的样本数小于min_samples_split。\n",
        "3.splitter:string, optional (default=\"best\")。指定分裂节点时的策略。\n",
        "           (1).splitter='best',表示选择最优的分裂策略。\n",
        "           (2).splitter='random',表示选择最好的随机切分策略。\n",
        "4.min_samples_split:int, float, optional (default=2)。表示分裂一个内部节点需要的做少样本数。\n",
        "           (1).如果为整数，则min_samples_split就是最少样本数。\n",
        "           (2).如果为浮点数(0到1之间)，则每次分裂最少样本数为ceil(min_samples_split * n_samples)\n",
        "5.min_samples_leaf: int, float, optional (default=1)。指定每个叶子节点需要的最少样本数。\n",
        "           (1).如果为整数，则min_samples_split就是最少样本数。\n",
        "           (2).如果为浮点数(0到1之间)，则每个叶子节点最少样本数为ceil(min_samples_leaf * n_samples)\n",
        "6.min_weight_fraction_leaf:float, optional (default=0.)\n",
        "           指定叶子节点中样本的最小权重。\n",
        "7.max_features:int, float, string or None, optional (default=None).\n",
        "           搜寻最佳划分的时候考虑的特征数量。\n",
        "           (1).如果为整数，每次分裂只考虑max_features个特征。\n",
        "           (2).如果为浮点数(0到1之间)，每次切分只考虑int(max_features * n_features)个特征。\n",
        "           (3).如果为'auto'或者'sqrt',则每次切分只考虑sqrt(n_features)个特征\n",
        "           (4).如果为'log2',则每次切分只考虑log2(n_features)个特征。\n",
        "           (5).如果为None,则每次切分考虑n_features个特征。\n",
        "           (6).如果已经考虑了max_features个特征，但还是没有找到一个有效的切分，那么还会继续寻找\n",
        "           下一个特征，直到找到一个有效的切分为止。\n",
        "8.random_state:int, RandomState instance or None, optional (default=None)\n",
        "           (1).如果为整数，则它指定了随机数生成器的种子。\n",
        "           (2).如果为RandomState实例，则指定了随机数生成器。\n",
        "           (3).如果为None，则使用默认的随机数生成器。\n",
        "9.max_leaf_nodes: int or None, optional (default=None)。指定了叶子节点的最大数量。\n",
        "           (1).如果为None,叶子节点数量不限。\n",
        "           (2).如果为整数，则max_depth被忽略。\n",
        "10.min_impurity_decrease:float, optional (default=0.)\n",
        "         如果节点的分裂导致不纯度的减少(分裂后样本比分裂前更加纯净)大于或等于min_impurity_decrease，则分裂该节点。\n",
        "         加权不纯度的减少量计算公式为：\n",
        "         min_impurity_decrease=N_t / N * (impurity - N_t_R / N_t * right_impurity\n",
        "                            - N_t_L / N_t * left_impurity)\n",
        "         其中N是样本的总数，N_t是当前节点的样本数，N_t_L是分裂后左子节点的样本数，\n",
        "         N_t_R是分裂后右子节点的样本数。impurity指当前节点的基尼指数，right_impurity指\n",
        "         分裂后右子节点的基尼指数。left_impurity指分裂后左子节点的基尼指数。\n",
        "11.min_impurity_split:float\n",
        "         树生长过程中早停止的阈值。如果当前节点的不纯度高于阈值，节点将分裂，否则它是叶子节点。\n",
        "         这个参数已经被弃用。用min_impurity_decrease代替了min_impurity_split。\n",
        "12.class_weight:dict, list of dicts, \"balanced\" or None, default=None\n",
        "         类别权重的形式为{class_label: weight}\n",
        "         (1).如果没有给出每个类别的权重，则每个类别的权重都为1。\n",
        "         (2).如果class_weight='balanced'，则分类的权重与样本中每个类别出现的频率成反比。\n",
        "         计算公式为：n_samples / (n_classes * np.bincount(y))\n",
        "         (3).如果sample_weight提供了样本权重(由fit方法提供)，则这些权重都会乘以sample_weight。\n",
        "13.presort:bool, optional (default=False)\n",
        "        指定是否需要提前排序数据从而加速训练中寻找最优切分的过程。设置为True时，对于大数据集\n",
        "        会减慢总体的训练过程；但是对于一个小数据集或者设定了最大深度的情况下，会加速训练过程。\n",
        "属性:\n",
        "1.classes_:array of shape = [n_classes] or a list of such arrays\n",
        "        类别的标签值。\n",
        "2.feature_importances_ : array of shape = [n_features]\n",
        "        特征重要性。越高，特征越重要。\n",
        "        特征的重要性为该特征导致的评价准则的（标准化的）总减少量。它也被称为基尼的重要性\n",
        "3.max_features_ : int\n",
        "        max_features的推断值。\n",
        "4.n_classes_ : int or list\n",
        "        类别的数量\n",
        "5.n_features_ : int\n",
        "        执行fit后，特征的数量\n",
        "6.n_outputs_ : int\n",
        "        执行fit后，输出的数量\n",
        "7.tree_ : Tree object\n",
        "        树对象，即底层的决策树。\n",
        "方法:\n",
        "1.fit(X,y):训练模型。\n",
        "2.predict(X):预测\n",
        "3.predict_log_poba(X):预测X为各个类别的概率对数值。\n",
        "4.predict_proba(X):预测X为各个类别的概率值。\n",
        "'''"
      ],
      "execution_count": 20,
      "outputs": [
        {
          "output_type": "execute_result",
          "data": {
            "application/vnd.google.colaboratory.intrinsic+json": {
              "type": "string"
            },
            "text/plain": [
              "'\\n参数含义：\\n1.criterion:string, optional (default=\"gini\")\\n            (1).criterion=\\'gini\\',分裂节点时评价准则是Gini指数。\\n            (2).criterion=\\'entropy\\',分裂节点时的评价指标是信息增益。\\n2.max_depth:int or None, optional (default=None)。指定树的最大深度。\\n            如果为None，表示树的深度不限。直到所有的叶子节点都是纯净的，即叶子节点\\n            中所有的样本点都属于同一个类别。或者每个叶子节点包含的样本数小于min_samples_split。\\n3.splitter:string, optional (default=\"best\")。指定分裂节点时的策略。\\n           (1).splitter=\\'best\\',表示选择最优的分裂策略。\\n           (2).splitter=\\'random\\',表示选择最好的随机切分策略。\\n4.min_samples_split:int, float, optional (default=2)。表示分裂一个内部节点需要的做少样本数。\\n           (1).如果为整数，则min_samples_split就是最少样本数。\\n           (2).如果为浮点数(0到1之间)，则每次分裂最少样本数为ceil(min_samples_split * n_samples)\\n5.min_samples_leaf: int, float, optional (default=1)。指定每个叶子节点需要的最少样本数。\\n           (1).如果为整数，则min_samples_split就是最少样本数。\\n           (2).如果为浮点数(0到1之间)，则每个叶子节点最少样本数为ceil(min_samples_leaf * n_samples)\\n6.min_weight_fraction_leaf:float, optional (default=0.)\\n           指定叶子节点中样本的最小权重。\\n7.max_features:int, float, string or None, optional (default=None).\\n           搜寻最佳划分的时候考虑的特征数量。\\n           (1).如果为整数，每次分裂只考虑max_features个特征。\\n           (2).如果为浮点数(0到1之间)，每次切分只考虑int(max_features * n_features)个特征。\\n           (3).如果为\\'auto\\'或者\\'sqrt\\',则每次切分只考虑sqrt(n_features)个特征\\n           (4).如果为\\'log2\\',则每次切分只考虑log2(n_features)个特征。\\n           (5).如果为None,则每次切分考虑n_features个特征。\\n           (6).如果已经考虑了max_features个特征，但还是没有找到一个有效的切分，那么还会继续寻找\\n           下一个特征，直到找到一个有效的切分为止。\\n8.random_state:int, RandomState instance or None, optional (default=None)\\n           (1).如果为整数，则它指定了随机数生成器的种子。\\n           (2).如果为RandomState实例，则指定了随机数生成器。\\n           (3).如果为None，则使用默认的随机数生成器。\\n9.max_leaf_nodes: int or None, optional (default=None)。指定了叶子节点的最大数量。\\n           (1).如果为None,叶子节点数量不限。\\n           (2).如果为整数，则max_depth被忽略。\\n10.min_impurity_decrease:float, optional (default=0.)\\n         如果节点的分裂导致不纯度的减少(分裂后样本比分裂前更加纯净)大于或等于min_impurity_decrease，则分裂该节点。\\n         加权不纯度的减少量计算公式为：\\n         min_impurity_decrease=N_t / N * (impurity - N_t_R / N_t * right_impurity\\n                            - N_t_L / N_t * left_impurity)\\n         其中N是样本的总数，N_t是当前节点的样本数，N_t_L是分裂后左子节点的样本数，\\n         N_t_R是分裂后右子节点的样本数。impurity指当前节点的基尼指数，right_impurity指\\n         分裂后右子节点的基尼指数。left_impurity指分裂后左子节点的基尼指数。\\n11.min_impurity_split:float\\n         树生长过程中早停止的阈值。如果当前节点的不纯度高于阈值，节点将分裂，否则它是叶子节点。\\n         这个参数已经被弃用。用min_impurity_decrease代替了min_impurity_split。\\n12.class_weight:dict, list of dicts, \"balanced\" or None, default=None\\n         类别权重的形式为{class_label: weight}\\n         (1).如果没有给出每个类别的权重，则每个类别的权重都为1。\\n         (2).如果class_weight=\\'balanced\\'，则分类的权重与样本中每个类别出现的频率成反比。\\n         计算公式为：n_samples / (n_classes * np.bincount(y))\\n         (3).如果sample_weight提供了样本权重(由fit方法提供)，则这些权重都会乘以sample_weight。\\n13.presort:bool, optional (default=False)\\n        指定是否需要提前排序数据从而加速训练中寻找最优切分的过程。设置为True时，对于大数据集\\n        会减慢总体的训练过程；但是对于一个小数据集或者设定了最大深度的情况下，会加速训练过程。\\n属性:\\n1.classes_:array of shape = [n_classes] or a list of such arrays\\n        类别的标签值。\\n2.feature_importances_ : array of shape = [n_features]\\n        特征重要性。越高，特征越重要。\\n        特征的重要性为该特征导致的评价准则的（标准化的）总减少量。它也被称为基尼的重要性\\n3.max_features_ : int\\n        max_features的推断值。\\n4.n_classes_ : int or list\\n        类别的数量\\n5.n_features_ : int\\n        执行fit后，特征的数量\\n6.n_outputs_ : int\\n        执行fit后，输出的数量\\n7.tree_ : Tree object\\n        树对象，即底层的决策树。\\n方法:\\n1.fit(X,y):训练模型。\\n2.predict(X):预测\\n3.predict_log_poba(X):预测X为各个类别的概率对数值。\\n4.predict_proba(X):预测X为各个类别的概率值。\\n'"
            ]
          },
          "metadata": {
            "tags": []
          },
          "execution_count": 20
        }
      ]
    },
    {
      "cell_type": "code",
      "metadata": {
        "colab": {
          "base_uri": "https://localhost:8080/"
        },
        "id": "T8GbKKPvqtfF",
        "outputId": "cc606487-0a51-4390-f4a0-211117c2ac2f"
      },
      "source": [
        "Model_5.fit(x_train, y_train)\n",
        "\n",
        "Model_7.fit(x_train, y_train)"
      ],
      "execution_count": 19,
      "outputs": [
        {
          "output_type": "execute_result",
          "data": {
            "text/plain": [
              "DecisionTreeRegressor(ccp_alpha=0.0, criterion='mse', max_depth=7,\n",
              "                      max_features=None, max_leaf_nodes=None,\n",
              "                      min_impurity_decrease=0.0, min_impurity_split=None,\n",
              "                      min_samples_leaf=1, min_samples_split=2,\n",
              "                      min_weight_fraction_leaf=0.0, presort='deprecated',\n",
              "                      random_state=None, splitter='best')"
            ]
          },
          "metadata": {
            "tags": []
          },
          "execution_count": 19
        }
      ]
    },
    {
      "cell_type": "markdown",
      "metadata": {
        "id": "-xD7-xw5r-qq"
      },
      "source": [
        "預測價格"
      ]
    },
    {
      "cell_type": "code",
      "metadata": {
        "id": "FdsChFuBq6zU"
      },
      "source": [
        "y_predict_5 = Model_5.predict(x_test)\n",
        "\n",
        "y_predict_7 = Model_7.predict(x_test)"
      ],
      "execution_count": 21,
      "outputs": []
    },
    {
      "cell_type": "markdown",
      "metadata": {
        "id": "e_xgKrTXsGAG"
      },
      "source": [
        "使用 MSE 評估訓練結果\n",
        "\n",
        "均方誤差（MSE）度量的是預測值和實際觀測值間差的平方的均值。它只考慮誤差的平均大小，不考慮其方向。但由於經過平方，與真實值偏離較多的預測值會比偏離較少的預測值受到更為嚴重的懲罰。再加上 MSE 的數學特性很好，這使得計算梯度變得更容易。"
      ]
    },
    {
      "cell_type": "code",
      "metadata": {
        "id": "gg6WRZoAsBw7"
      },
      "source": [
        "from sklearn.metrics import mean_squared_error"
      ],
      "execution_count": 22,
      "outputs": []
    },
    {
      "cell_type": "markdown",
      "metadata": {
        "id": "49lxONj5seQ6"
      },
      "source": [
        "決策深度 5 的誤差"
      ]
    },
    {
      "cell_type": "code",
      "metadata": {
        "colab": {
          "base_uri": "https://localhost:8080/"
        },
        "id": "vjBJ8sS0sbi0",
        "outputId": "601924af-9d64-4553-ad64-c591d94e6e5c"
      },
      "source": [
        "mean_squared_error(y_test, y_predict_5)"
      ],
      "execution_count": 23,
      "outputs": [
        {
          "output_type": "execute_result",
          "data": {
            "text/plain": [
              "2.3966936751833803"
            ]
          },
          "metadata": {
            "tags": []
          },
          "execution_count": 23
        }
      ]
    },
    {
      "cell_type": "markdown",
      "metadata": {
        "id": "pHIhqiugsmd7"
      },
      "source": [
        "決策深度 7 的誤差"
      ]
    },
    {
      "cell_type": "code",
      "metadata": {
        "colab": {
          "base_uri": "https://localhost:8080/"
        },
        "id": "u-QGqzFLsi0g",
        "outputId": "075c2a63-eccc-4bf7-8282-4fa10f5b482f"
      },
      "source": [
        "mean_squared_error(y_test, y_predict_7)"
      ],
      "execution_count": 24,
      "outputs": [
        {
          "output_type": "execute_result",
          "data": {
            "text/plain": [
              "1.9591316527469624"
            ]
          },
          "metadata": {
            "tags": []
          },
          "execution_count": 24
        }
      ]
    },
    {
      "cell_type": "code",
      "metadata": {
        "id": "SBQbK-UZsprr"
      },
      "source": [
        "prediction_5 = Model_5.predict(x_test)\n",
        "prediction_7 = Model_7.predict(x_test)"
      ],
      "execution_count": 25,
      "outputs": []
    },
    {
      "cell_type": "code",
      "metadata": {
        "colab": {
          "base_uri": "https://localhost:8080/",
          "height": 359
        },
        "id": "oX_NCcxLssnR",
        "outputId": "ff75cf0d-4103-49c4-e756-a9764b69b8ff"
      },
      "source": [
        "table = pd.DataFrame(y_test[:10])\n",
        "table['模型決策深度 5'] = prediction_5[:10]\n",
        "table['模型決策深度 7'] = prediction_7[:10]\n",
        "table"
      ],
      "execution_count": 26,
      "outputs": [
        {
          "output_type": "execute_result",
          "data": {
            "text/html": [
              "<div>\n",
              "<style scoped>\n",
              "    .dataframe tbody tr th:only-of-type {\n",
              "        vertical-align: middle;\n",
              "    }\n",
              "\n",
              "    .dataframe tbody tr th {\n",
              "        vertical-align: top;\n",
              "    }\n",
              "\n",
              "    .dataframe thead th {\n",
              "        text-align: right;\n",
              "    }\n",
              "</style>\n",
              "<table border=\"1\" class=\"dataframe\">\n",
              "  <thead>\n",
              "    <tr style=\"text-align: right;\">\n",
              "      <th></th>\n",
              "      <th>Open</th>\n",
              "      <th>模型決策深度 5</th>\n",
              "      <th>模型決策深度 7</th>\n",
              "    </tr>\n",
              "  </thead>\n",
              "  <tbody>\n",
              "    <tr>\n",
              "      <th>51</th>\n",
              "      <td>274.500000</td>\n",
              "      <td>272.472943</td>\n",
              "      <td>272.984003</td>\n",
              "    </tr>\n",
              "    <tr>\n",
              "      <th>279</th>\n",
              "      <td>272.420013</td>\n",
              "      <td>272.472943</td>\n",
              "      <td>272.984003</td>\n",
              "    </tr>\n",
              "    <tr>\n",
              "      <th>301</th>\n",
              "      <td>280.540009</td>\n",
              "      <td>280.882001</td>\n",
              "      <td>281.434998</td>\n",
              "    </tr>\n",
              "    <tr>\n",
              "      <th>236</th>\n",
              "      <td>263.369995</td>\n",
              "      <td>262.190500</td>\n",
              "      <td>259.930001</td>\n",
              "    </tr>\n",
              "    <tr>\n",
              "      <th>390</th>\n",
              "      <td>299.140015</td>\n",
              "      <td>300.192383</td>\n",
              "      <td>299.320007</td>\n",
              "    </tr>\n",
              "    <tr>\n",
              "      <th>305</th>\n",
              "      <td>280.640015</td>\n",
              "      <td>282.550002</td>\n",
              "      <td>282.636668</td>\n",
              "    </tr>\n",
              "    <tr>\n",
              "      <th>297</th>\n",
              "      <td>275.260010</td>\n",
              "      <td>276.727855</td>\n",
              "      <td>276.368886</td>\n",
              "    </tr>\n",
              "    <tr>\n",
              "      <th>439</th>\n",
              "      <td>297.739990</td>\n",
              "      <td>297.181250</td>\n",
              "      <td>297.114164</td>\n",
              "    </tr>\n",
              "    <tr>\n",
              "      <th>438</th>\n",
              "      <td>295.970001</td>\n",
              "      <td>297.181250</td>\n",
              "      <td>296.110001</td>\n",
              "    </tr>\n",
              "    <tr>\n",
              "      <th>451</th>\n",
              "      <td>299.679993</td>\n",
              "      <td>300.192383</td>\n",
              "      <td>299.320007</td>\n",
              "    </tr>\n",
              "  </tbody>\n",
              "</table>\n",
              "</div>"
            ],
            "text/plain": [
              "           Open    模型決策深度 5    模型決策深度 7\n",
              "51   274.500000  272.472943  272.984003\n",
              "279  272.420013  272.472943  272.984003\n",
              "301  280.540009  280.882001  281.434998\n",
              "236  263.369995  262.190500  259.930001\n",
              "390  299.140015  300.192383  299.320007\n",
              "305  280.640015  282.550002  282.636668\n",
              "297  275.260010  276.727855  276.368886\n",
              "439  297.739990  297.181250  297.114164\n",
              "438  295.970001  297.181250  296.110001\n",
              "451  299.679993  300.192383  299.320007"
            ]
          },
          "metadata": {
            "tags": []
          },
          "execution_count": 26
        }
      ]
    },
    {
      "cell_type": "markdown",
      "metadata": {
        "id": "TuHYq0QasytU"
      },
      "source": [
        "# 結論"
      ]
    },
    {
      "cell_type": "markdown",
      "metadata": {
        "id": "Zpcj6vOjs21C"
      },
      "source": [
        "我們無法利用 `決策樹` 預測股價，因為我們的預測存在巨大的誤差，但其實我們只參考了當日的價格、交易量，還有很多市場因素我們沒有考慮到：\n",
        "\n",
        "- 時間序列\n",
        "- 市場走向\n",
        "- 價格波動率\n",
        "- 市場信心度\n",
        "\n",
        "而且使用了單一決策模型，無法泛化到各種情況，我們可以試著用 `隨機森林` 模型來看看成果"
      ]
    },
    {
      "cell_type": "code",
      "metadata": {
        "id": "5fso1PvMs6ju"
      },
      "source": [
        ""
      ],
      "execution_count": null,
      "outputs": []
    }
  ]
}