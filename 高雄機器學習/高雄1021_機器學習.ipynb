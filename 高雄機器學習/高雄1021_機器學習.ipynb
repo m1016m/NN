{
 "cells": [
  {
   "cell_type": "code",
   "execution_count": 4,
   "metadata": {},
   "outputs": [],
   "source": [
    "# 感知机接收多个输入信号，输出一个信号。这里所说的“信号”可以想像成电流或河流那样具备“流动性”的东西。像电流流过导线，向前方输送电子一样，\n",
    "# 感知机的信号也会形成流，向前方输送信息。但是，和实际的电流不同的是，感知机的信号只有“流/ 不流”（1/0）两种取值。在本书中，0对应“不传递信号”\n",
    "# ，1 对应“传递信号”。\n",
    "\n",
    "# x1、x2 是输入信号，y 是输出信号，w1、w2 是权重（w是weight 的首字母）。图中的○称为“神经元”或者“节点”。输入信号被送往神经元时，会被\n",
    "\n",
    "# 分别乘以固定的权重（w1x1、w2x2）。神经元会计算传送过来的信号的总和，只有当这个总和超过某个界限值时，才会输出1。这也称为“神经元被激活” \n",
    "\n",
    "# 。这里将这个界限值称为阈值，用符号θ 表示。\n",
    "\n",
    "#![title](img/picture.png)"
   ]
  },
  {
   "cell_type": "markdown",
   "metadata": {},
   "source": [
    "![title](img/1.png)"
   ]
  },
  {
   "cell_type": "markdown",
   "metadata": {},
   "source": [
    "#感知机的运行原理只有这些！把上述内容用数学式来表示\n",
    "![title](img/2.png)"
   ]
  },
  {
   "cell_type": "code",
   "execution_count": 5,
   "metadata": {},
   "outputs": [],
   "source": [
    "# 感知机的多个输入信号都有各自固有的权重，这些权重发挥着控制各个信号的重要性的作用。也就是说，权重越大，对应该权重的信号的重要性就越高。\n",
    "\n",
    "# 权重相当于电流里所说的电阻。电阻是决定电流流动难度的参数，电阻越低，通过的电流就越大。而感知机的权重则是值越大，通过的信号就越大。不管\n",
    "# 是电阻还是权重，在控制信号流动难度（或者流动容易度）这一点上的作用都是一样的。\n",
    "\n",
    "# （AND gate）\n",
    "\n",
    "#   x1      x2      y\n",
    "#   0       0       0\n",
    "#   1       0       0\n",
    "#   0       1       0\n",
    "#   1       1       1\n",
    "\n",
    "#（NAND gate）\n",
    "#   x1      x2      y\n",
    "#   0       0       1\n",
    "#   1       0       1\n",
    "#   0       1       1\n",
    "#   1       1       0\n",
    "\n",
    "#（OR gate）\n",
    "#   x1      x2      y\n",
    "#   0       0       0\n",
    "#   1       0       1\n",
    "#   0       1       1\n",
    "#   1       1       1"
   ]
  },
  {
   "cell_type": "code",
   "execution_count": 7,
   "metadata": {},
   "outputs": [
    {
     "name": "stdout",
     "output_type": "stream",
     "text": [
      "0\n",
      "0\n",
      "0\n",
      "1\n"
     ]
    }
   ],
   "source": [
    "def AND(x1, x2):\n",
    "    w1, w2, theta = 0.5, 0.5, 0.7\n",
    "    tmp = x1*w1 + x2*w2\n",
    "    if tmp <= theta:\n",
    "        return 0\n",
    "    elif tmp > theta:\n",
    "        return 1\n",
    "\n",
    "print(AND(0, 0)) # 输出0\n",
    "print(AND(1, 0)) # 输出0\n",
    "print(AND(0, 1)) # 输出0\n",
    "print(AND(1, 1)) # 输出1"
   ]
  },
  {
   "cell_type": "code",
   "execution_count": 9,
   "metadata": {},
   "outputs": [
    {
     "name": "stdout",
     "output_type": "stream",
     "text": [
      "反及閘(NAND)含權重的總和超過臨界值(theta)回傳0\n",
      "1\n",
      "1\n",
      "1\n",
      "0\n"
     ]
    }
   ],
   "source": [
    "print ('反及閘(NAND)含權重的總和超過臨界值(theta)回傳0')\n",
    "def NAND(x1 , x2):\n",
    "    w1, w2, theta = 0.5, 0.5, 0.7\n",
    "    tmp = x1 * w1 + x2 * w2\n",
    "    if tmp <= theta :\n",
    "        return 1\n",
    "    elif tmp > theta :\n",
    "        return 0\n",
    "print (NAND (0 , 0))\n",
    "print (NAND (1 , 0))\n",
    "print (NAND (0 , 1))\n",
    "print (NAND (1 , 1))"
   ]
  },
  {
   "cell_type": "code",
   "execution_count": null,
   "metadata": {},
   "outputs": [],
   "source": [
    "print ('或閘(OR)只要有一個輸入訊號為1，就會輸出1')\n",
    "def OR(x1 , x2):\n",
    "    w1, w2, theta = 0.5, 0.5, 0.7\n",
    "    tmp = x1 * w1 + x2 * w2\n",
    "    if tmp <= 0 :\n",
    "        return 0\n",
    "    else :\n",
    "        return 1\n",
    "print (OR (0 , 0))\n",
    "print (OR (1 , 0))\n",
    "print (OR (0 , 1))\n",
    "print (OR (1 , 1))\n",
    "print ()"
   ]
  },
  {
   "cell_type": "code",
   "execution_count": 8,
   "metadata": {},
   "outputs": [],
   "source": [
    "# 导入权重和偏置 b 称为偏置，w1 和w2 称为权重。如式（2.2）所示，感知机会计算输入信号和权重的乘积，然后加上偏置，如果这个值大于0 则输出1\n",
    "# ，否则输出0。"
   ]
  },
  {
   "cell_type": "markdown",
   "metadata": {},
   "source": [
    "![title](img/3.png)"
   ]
  },
  {
   "cell_type": "code",
   "execution_count": 11,
   "metadata": {},
   "outputs": [
    {
     "name": "stdout",
     "output_type": "stream",
     "text": [
      "導入權重(w)和偏權值(bias)\n",
      "0\n",
      "0\n",
      "0\n",
      "1\n"
     ]
    }
   ],
   "source": [
    "# 偏置和权重w1、w2 的作用是不一样的。具体地说，w1 和w2 是控制输入信号的重要性的参数，而偏置是调整神经元被激活的容易程度（输出信号为1 的程度）\n",
    "# 的参数。比如，若b 为−0.1，则只要输入信号的加权总和超过0.1，神经元就会被激活。但是如果b为−20.0，则输入信号的加权总和必须超过20.0，神经元\n",
    "# 才会被激活。\n",
    "#導入權重(w)和偏權值(bias)\n",
    "import numpy as np\n",
    "print ('導入權重(w)和偏權值(bias)')\n",
    "def AND(x1 , x2):\n",
    "    x = np.array([x1 , x2])\n",
    "    w = np.array([0.5 , 0.5])\n",
    "    b = -0.7#調整發火難度的參數\n",
    "    #假設b = -0.1 輸入的加權總合只要超過0.1神經元就會發火，假設b = -20.0 輸入的加權總合必須超過20.0神經元才會發火\n",
    "    tmp = np.sum(w * x) + b\n",
    "    if tmp <= 0 :\n",
    "        return 0\n",
    "    elif tmp > 0 :\n",
    "        return 1\n",
    "\n",
    "print (AND (0 , 0))\n",
    "print (AND (1 , 0))\n",
    "print (AND (0 , 1))\n",
    "print (AND (1 , 1))"
   ]
  },
  {
   "cell_type": "code",
   "execution_count": 12,
   "metadata": {},
   "outputs": [
    {
     "name": "stdout",
     "output_type": "stream",
     "text": [
      "NAND的權重和偏權值剛好相反\n",
      "1\n",
      "1\n",
      "1\n",
      "0\n"
     ]
    }
   ],
   "source": [
    "print ('NAND的權重和偏權值剛好相反')\n",
    "def NAND(x1 , x2):\n",
    "    x = np.array([x1 , x2])\n",
    "    w = np.array([-0.5 , -0.5])\n",
    "    b = 0.7#調整發火難度的參數\n",
    "    #假設b = -0.1 輸入的加權總合只要超過0.1神經元就會發火，假設b = -20.0 輸入的加權總合必須超過20.0神經元才會發火\n",
    "    tmp = np.sum(w * x) + b\n",
    "    if tmp <= 0 :\n",
    "        return 0\n",
    "    elif tmp > 0 :\n",
    "        return 1\n",
    "\n",
    "print (NAND (0 , 0))\n",
    "print (NAND (1 , 0))\n",
    "print (NAND (0 , 1))\n",
    "print (NAND (1 , 1))"
   ]
  },
  {
   "cell_type": "code",
   "execution_count": 14,
   "metadata": {},
   "outputs": [
    {
     "name": "stdout",
     "output_type": "stream",
     "text": [
      "0\n",
      "1\n",
      "1\n",
      "1\n"
     ]
    }
   ],
   "source": [
    "def OR(x1 , x2):\n",
    "    x = np.array([x1 , x2])\n",
    "    w = np.array([0.5 , 0.5])\n",
    "    b = -0.2#調整發火難度的參數\n",
    "    #假設b = -0.1 輸入的加權總合只要超過0.1神經元就會發火，假設b = -20.0 輸入的加權總合必須超過20.0神經元才會發火\n",
    "    tmp = np.sum(w * x) + b\n",
    "    if tmp <= 0 :\n",
    "        return 0\n",
    "    elif tmp > 0 :\n",
    "        return 1\n",
    "\n",
    "print (OR (0 , 0))\n",
    "print (OR (1 , 0))\n",
    "print (OR (0 , 1))\n",
    "print (OR (1 , 1))"
   ]
  },
  {
   "cell_type": "code",
   "execution_count": 15,
   "metadata": {},
   "outputs": [
    {
     "name": "stdout",
     "output_type": "stream",
     "text": [
      "執行互斥或閘\n",
      "0\n",
      "1\n",
      "1\n",
      "0\n"
     ]
    }
   ],
   "source": [
    "#當x1 or x2之中有一個是1時，就會輸出1。叫做XOR\n",
    "#(0 , 0) 0 (1 , 0) 1  (0 , 1) 1 (1 , 1) 0單層感知機無法表示出以繪圖呈現\n",
    "\n",
    "def step_function(x) :\n",
    "    if x > 0:\n",
    "        return 1\n",
    "    else :\n",
    "        return 0\n",
    "print ('執行互斥或閘')\n",
    "def XOR(x1 , x2):\n",
    "    s1 = NAND (x1 , x2)\n",
    "    s2 = OR (x1 , x2)\n",
    "    y = AND (s1 , s2)\n",
    "    return y\n",
    "\n",
    "print (XOR (0 , 0))\n",
    "print (XOR (1 , 0))\n",
    "print (XOR (0 , 1))\n",
    "print (XOR (1 , 1))"
   ]
  },
  {
   "cell_type": "markdown",
   "metadata": {},
   "source": [
    "#多层感知机\n",
    "![title](img/4.png)"
   ]
  },
  {
   "cell_type": "code",
   "execution_count": 20,
   "metadata": {},
   "outputs": [],
   "source": [
    "# 先在第0 层和第1 层的神经元之间进行信号的传送和接收，然后在第1 层和第2 层之间进行信号的传送和接收，具体如下所示。\n",
    "# 1. 第0 层的两个神经元接收输入信号，并将信号发送至第1 层的神经元。\n",
    "# 2. 第1 层的神经元将信号发送至第2 层的神经元，第2 层的神经元输出y。"
   ]
  },
  {
   "cell_type": "code",
   "execution_count": 21,
   "metadata": {},
   "outputs": [],
   "source": [
    "# 神經網路\n",
    "# 神经网络的一个重要性质是它可以自动地从数据中学习到合适的权重参数\n",
    "# 激活函数 y = h(b + w1x1 + w2x2)的h（x）函数会将输入信号的总和转换为输出信号，这种函数一般称为激活函数（activation function）。\n",
    "# 如“激活”一词所示，激活函数的作用在于决定如何来激活输入信号的总和，。激活函数是连接感知机和神经网络的桥梁"
   ]
  },
  {
   "cell_type": "markdown",
   "metadata": {},
   "source": [
    "![title](img/5.png)"
   ]
  },
  {
   "cell_type": "code",
   "execution_count": 22,
   "metadata": {},
   "outputs": [],
   "source": [
    "# 上面‘是一個輸入是二維、輸出也是二維的神經網路。中間叫做隱藏層，圖二的例子有2個隱藏層，每層各有3個神經元，每個神經元都是像之前說明的運作\n",
    "# 方式運作的。雖然沒有明確的定義，但一般隱藏層達3層或3層以上，就會稱為「深度」神經網路。"
   ]
  },
  {
   "cell_type": "markdown",
   "metadata": {},
   "source": [
    "![title](img/6.png)"
   ]
  },
  {
   "cell_type": "code",
   "execution_count": 24,
   "metadata": {},
   "outputs": [
    {
     "name": "stdout",
     "output_type": "stream",
     "text": [
      "[0 0 0 0 0 0 0 0 0 0 0 0 0 0 0 0 0 0 0 0 0 0 0 0 0 0 0 0 0 0 0 0 0 0 0 0 0\n",
      " 0 0 0 0 0 0 0 0 0 0 0 0 0 0 1 1 1 1 1 1 1 1 1 1 1 1 1 1 1 1 1 1 1 1 1 1 1\n",
      " 1 1 1 1 1 1 1 1 1 1 1 1 1 1 1 1 1 1 1 1 1 1 1 1 1 1]\n"
     ]
    },
    {
     "data": {
      "image/png": "[encoded data removed]",
      "text/plain": [
       "<Figure size 432x288 with 1 Axes>"
      ]
     },
     "metadata": {},
     "output_type": "display_data"
    },
    {
     "name": "stdout",
     "output_type": "stream",
     "text": [
      "None\n"
     ]
    }
   ],
   "source": [
    "# 常見的激勵函數選擇有 sigmoid, tanh, Relu，實用上最常使用 ReLU ，一些變形如 Leaky ReLU, Maxout 也可以試試，tanh 和 sigmoid\n",
    "# 盡量別用,截至目前為止，在深度學習領域 Relu 激勵函數蔚為主流\n",
    "# exp(−x)表示e−x 的意思。e是纳皮尔常数2.7182\n",
    "# sigmoid函数看上去有些复杂，但它也仅仅是个函数而已。而函数就是给定某个输入后，会返回某个输出的转换器\n",
    "import numpy as np\n",
    "import pandas as pd\n",
    "import matplotlib.pylab as plt\n",
    " #階梯函數是以0為界線，輸出從0切換到1 (或從1切換到0)\n",
    "def step_function(x) :\n",
    "    return np.array(x > 0,dtype = np.int)\n",
    "\n",
    "x = np.arange(-5.0 , 5.0 ,0.1)\n",
    "y = step_function(x)\n",
    "print(y)\n",
    "plt.plot(x , y)\n",
    "plt.ylim(-0.1 , 1.1)#設定y軸的範圍\n",
    "print(plt.show())"
   ]
  },
  {
   "cell_type": "code",
   "execution_count": 25,
   "metadata": {},
   "outputs": [
    {
     "name": "stdout",
     "output_type": "stream",
     "text": [
      "[0.26894142 0.73105858 0.88079708]\n",
      "[0.00669285 0.00739154 0.00816257 0.0090133  0.0099518  0.01098694\n",
      " 0.01212843 0.01338692 0.01477403 0.0163025  0.01798621 0.01984031\n",
      " 0.02188127 0.02412702 0.02659699 0.02931223 0.03229546 0.03557119\n",
      " 0.03916572 0.04310725 0.04742587 0.05215356 0.05732418 0.06297336\n",
      " 0.06913842 0.07585818 0.0831727  0.09112296 0.09975049 0.10909682\n",
      " 0.11920292 0.13010847 0.14185106 0.15446527 0.16798161 0.18242552\n",
      " 0.19781611 0.21416502 0.23147522 0.24973989 0.26894142 0.2890505\n",
      " 0.31002552 0.33181223 0.35434369 0.37754067 0.40131234 0.42555748\n",
      " 0.450166   0.47502081 0.5        0.52497919 0.549834   0.57444252\n",
      " 0.59868766 0.62245933 0.64565631 0.66818777 0.68997448 0.7109495\n",
      " 0.73105858 0.75026011 0.76852478 0.78583498 0.80218389 0.81757448\n",
      " 0.83201839 0.84553473 0.85814894 0.86989153 0.88079708 0.89090318\n",
      " 0.90024951 0.90887704 0.9168273  0.92414182 0.93086158 0.93702664\n",
      " 0.94267582 0.94784644 0.95257413 0.95689275 0.96083428 0.96442881\n",
      " 0.96770454 0.97068777 0.97340301 0.97587298 0.97811873 0.98015969\n",
      " 0.98201379 0.9836975  0.98522597 0.98661308 0.98787157 0.98901306\n",
      " 0.9900482  0.9909867  0.99183743 0.99260846]\n"
     ]
    },
    {
     "data": {
      "image/png": "[encoded data removed]",
      "text/plain": [
       "<Figure size 432x288 with 1 Axes>"
      ]
     },
     "metadata": {},
     "output_type": "display_data"
    },
    {
     "name": "stdout",
     "output_type": "stream",
     "text": [
      "None\n"
     ]
    }
   ],
   "source": [
    "#sigmoid\n",
    "# sigmoid 函数用Python可以像下面这样写出式表示的sigmoid 函数。\n",
    "# def sigmoid(x):\n",
    "#     return 1 / (1 + np.exp(-x))\n",
    "\n",
    "def sigmoid( x ) :\n",
    "    return 1 / (1 + np.exp(-x))\n",
    "\n",
    "x = np.array([-1.0, 1.0, 2.0])\n",
    "y = sigmoid(x)\n",
    "print (y)\n",
    "\n",
    "#sigmoid繪圖\n",
    "def sigmoid( x ) :\n",
    "    return 1 / (1 + np.exp(-x))\n",
    "\n",
    "x = np.arange(-5.0 , 5.0 ,0.1)\n",
    "y = sigmoid(x)\n",
    "print (y)\n",
    "plt.plot(x , y)\n",
    "plt.ylim(-0.1 , 1.1)#設定y軸的範圍\n",
    "print(plt.show())"
   ]
  },
  {
   "cell_type": "code",
   "execution_count": 26,
   "metadata": {},
   "outputs": [
    {
     "name": "stdout",
     "output_type": "stream",
     "text": [
      "[0.  0.  0.  0.  0.  0.  0.  0.  0.  0.  0.  0.  0.  0.  0.  0.  0.  0.\n",
      " 0.  0.  0.  0.  0.  0.  0.  0.  0.  0.  0.  0.  0.  0.  0.  0.  0.  0.\n",
      " 0.  0.  0.  0.  0.  0.  0.  0.  0.  0.  0.  0.  0.  0.  0.  0.1 0.2 0.3\n",
      " 0.4 0.5 0.6 0.7 0.8 0.9 1.  1.1 1.2 1.3 1.4 1.5 1.6 1.7 1.8 1.9 2.  2.1\n",
      " 2.2 2.3 2.4 2.5 2.6 2.7 2.8 2.9 3.  3.1 3.2 3.3 3.4 3.5 3.6 3.7 3.8 3.9\n",
      " 4.  4.1 4.2 4.3 4.4 4.5 4.6 4.7 4.8 4.9]\n"
     ]
    },
    {
     "data": {
      "image/png": "[encoded data removed]",
      "text/plain": [
       "<Figure size 432x288 with 1 Axes>"
      ]
     },
     "metadata": {},
     "output_type": "display_data"
    },
    {
     "name": "stdout",
     "output_type": "stream",
     "text": [
      "None\n"
     ]
    }
   ],
   "source": [
    "# ReLU函数在输入大于0 时，直接输出该值；在输入小于等于0 时，输出0\n",
    "# ReLU 函数是一个非常简单的函数。因此，ReLU函数的实现也很简单，可以写成如下形式。\n",
    "# def relu(x):\n",
    "#     return np.maximum(0, x)\n",
    "\n",
    "#relu繪圖  np.maximum：(X, Y, out=None) X 与 Y 逐位比较取其大者；最少接收两个参数\n",
    "def relu( x ) :\n",
    "    return np.maximum(0 , x)\n",
    "\n",
    "x = np.arange(-5.0 , 5.0 ,0.1)\n",
    "y = relu(x)\n",
    "print (y)\n",
    "plt.plot(x , y)\n",
    "plt.ylim(-0.1 , 1.1)#設定y軸的範圍\n",
    "print(plt.show())"
   ]
  },
  {
   "cell_type": "markdown",
   "metadata": {},
   "source": [
    "#矩阵乘法 橫的乘直的\n",
    "![title](img/7.png)"
   ]
  },
  {
   "cell_type": "code",
   "execution_count": 27,
   "metadata": {},
   "outputs": [
    {
     "name": "stdout",
     "output_type": "stream",
     "text": [
      "(2, 3)\n",
      "(3, 2)\n"
     ]
    },
    {
     "data": {
      "text/plain": [
       "array([[22, 28],\n",
       "       [49, 64]])"
      ]
     },
     "execution_count": 27,
     "metadata": {},
     "output_type": "execute_result"
    }
   ],
   "source": [
    "#A B都是2 × 2 的矩阵，它们的乘积可以通过NumPy 的np.dot()函数计算（乘积也称为点积）。np.dot()接收两个NumPy数组作为参数，并返回数组的乘积\n",
    "#2 × 3的矩阵和3 × 2 的矩阵的乘积可按如下形式用Python来实现。\n",
    "A = np.array([[1,2,3], [4,5,6]])\n",
    "print(A.shape)\n",
    "#(2, 3)\n",
    "B = np.array([[1,2], [3,4], [5,6]])\n",
    "print(B.shape)\n",
    "#(3, 2)\n",
    "np.dot(A, B)"
   ]
  },
  {
   "cell_type": "markdown",
   "metadata": {},
   "source": [
    "#在矩阵的乘积运算中，对应维度的元素个数要保持一致\n",
    "![title](img/8.png)\n",
    "![title](img/9.png)"
   ]
  },
  {
   "cell_type": "code",
   "execution_count": 28,
   "metadata": {},
   "outputs": [
    {
     "name": "stdout",
     "output_type": "stream",
     "text": [
      "[[22 28]\n",
      " [49 64]]\n",
      "[23 53 83]\n"
     ]
    }
   ],
   "source": [
    "#多維矩陣相乘必須 Ａ矩陣第一維的元素數量（行數）與Ｂ矩陣第0維的元素數量（列數）必須相同\n",
    "#例如 A = np.array([[1 , 2 ,3] , [4 , 5 ,6]]) 2 * 3 矩陣  B = np.array([[1 , 2 ] , [3 ,4 ] ,[5 ,6]]) 3 * 2\n",
    "C = np.array([[1 , 2 ,3] , [4 , 5 ,6]]) # 2 * 3 矩陣  \n",
    "D = np.array([[1 , 2 ] , [3 ,4 ] ,[5 ,6]]) # 3 * 2\n",
    "print(np.dot(C, D))\n",
    "\n",
    "E = np.array([[1 , 2] , [4 , 5]])# 2 * 2 矩陣\n",
    "# print(np.dot(C, E)) 會發生錯誤 因為 C矩陣第一維的元素數量（行數）與E矩陣第0維的元素數量（列數）不同\n",
    "#F是二維矩陣，G是一維矩陣，遵循同樣讓對應維度的元素數量一致\n",
    "F = np.array([[1 , 2],[3, 4],[5 , 6]])\n",
    "G = np.array([7 , 8])\n",
    "print(np.dot(F , G))"
   ]
  },
  {
   "cell_type": "markdown",
   "metadata": {},
   "source": [
    "#通过矩阵的乘积进行神经网络的运算这个神经网络省略了偏置和激活函数，只有权重\n",
    "![title](img/10.png)"
   ]
  },
  {
   "cell_type": "code",
   "execution_count": 29,
   "metadata": {},
   "outputs": [
    {
     "name": "stdout",
     "output_type": "stream",
     "text": [
      "[ 5 11 17]\n"
     ]
    }
   ],
   "source": [
    "#神經網路的乘積 (一層)\n",
    "# X是輸入值  W是權重  Y是輸出值\n",
    "X = np.array([1 , 2])\n",
    "W = np.array([[1 , 3 , 5],[2 , 4 , 6]])\n",
    "Y = np.dot(X , W)\n",
    "print(Y)"
   ]
  },
  {
   "cell_type": "markdown",
   "metadata": {},
   "source": [
    "#3 层神经网络的实现\n",
    "![title](img/11.png)\n",
    "#各层间信号传递的实现\n",
    "![title](img/12.png)"
   ]
  },
  {
   "cell_type": "markdown",
   "metadata": {},
   "source": [
    "#計算式\n",
    "![title](img/13.png)"
   ]
  },
  {
   "cell_type": "markdown",
   "metadata": {},
   "source": [
    "#如果使用矩阵的乘法运算，则可以将第1 层的加权和表示成下面的式\n",
    "![title](img/14.png)"
   ]
  },
  {
   "cell_type": "code",
   "execution_count": 31,
   "metadata": {},
   "outputs": [
    {
     "name": "stdout",
     "output_type": "stream",
     "text": [
      "(2, 3)\n",
      "(2,)\n",
      "(3,)\n",
      "[0.3 0.7 1.1]\n",
      "[0.57444252 0.66818777 0.75026011]\n"
     ]
    }
   ],
   "source": [
    "#用NumPy多维数组来实现式（3.9），这里将输入信号、权重、偏置设置成任意值\n",
    "#神經網路的乘積 (一層)\n",
    "X = np.array([1.0, 0.5])\n",
    "W1 = np.array([[0.1, 0.3, 0.5], [0.2, 0.4, 0.6]])\n",
    "B1 = np.array([0.1, 0.2, 0.3])\n",
    "print(W1.shape) # (2, 3)\n",
    "print(X.shape) # (2,)\n",
    "print(B1.shape) # (3,)\n",
    "A1 = np.dot(X, W1) + B1\n",
    "Z1 = sigmoid(A1)\n",
    "print(A1) # [0.3, 0.7, 1.1]\n",
    "print(Z1) # [0.57444252, 0.66818777, 0.75026011]"
   ]
  },
  {
   "cell_type": "markdown",
   "metadata": {},
   "source": [
    "#从输入层到第1 层的信号传递\n",
    "![title](img/15.png)"
   ]
  },
  {
   "cell_type": "code",
   "execution_count": 33,
   "metadata": {},
   "outputs": [
    {
     "name": "stdout",
     "output_type": "stream",
     "text": [
      "(2,)\n",
      "(2, 3)\n",
      "(3,)\n",
      "[0.3 0.7 1.1]\n",
      "[0.57444252 0.66818777 0.75026011]\n"
     ]
    }
   ],
   "source": [
    "#从输入层到第1 层的信号传递\n",
    "#多層神經網路 加權總和  A(1) = X*W(1) + B(1)\n",
    "#先處理第 0 層\n",
    "def sigmoid(x) :\n",
    "    return 1 / (1 + np.exp(-x))\n",
    "X = np.array([1.0 , 0.5])\n",
    "W = np.array([[0.1 , 0.3 , 0.5] , [0.2 , 0.4 , 0.6]])\n",
    "B1 = np.array([0.1 , 0.2 , 0.3])\n",
    "print(X.shape)\n",
    "print(W.shape)\n",
    "print(B1.shape)\n",
    "\n",
    "A1 = X.dot(W) + B1\n",
    "Z1 = sigmoid(A1)\n",
    "print(A1)\n",
    "print(Z1)"
   ]
  },
  {
   "cell_type": "markdown",
   "metadata": {},
   "source": [
    "#第1 层到第2 层的信号传递\n",
    "![title](img/16.png)"
   ]
  },
  {
   "cell_type": "code",
   "execution_count": 34,
   "metadata": {},
   "outputs": [
    {
     "name": "stdout",
     "output_type": "stream",
     "text": [
      "(3,)\n",
      "(2, 3)\n",
      "(3,)\n",
      "[0.51615984 1.21402696]\n",
      "[0.62624937 0.7710107 ]\n"
     ]
    }
   ],
   "source": [
    "#處理第 1 層\n",
    "W2 = np.array([[0.1 , 0.4] , [0.2 , 0.5], [0.3 , 0.6]])\n",
    "B2 = np.array([0.1 , 0.2])\n",
    "print(Z1.shape)\n",
    "print(W.shape)\n",
    "print(B1.shape)\n",
    "\n",
    "A2 = np.dot(Z1 , W2) + B2\n",
    "Z2 = sigmoid(A2)\n",
    "print(A2)\n",
    "print(Z2)"
   ]
  },
  {
   "cell_type": "markdown",
   "metadata": {},
   "source": [
    "#从第2 层到输出层的信号传递\n",
    "![title](img/17.png)"
   ]
  },
  {
   "cell_type": "code",
   "execution_count": 35,
   "metadata": {},
   "outputs": [
    {
     "name": "stdout",
     "output_type": "stream",
     "text": [
      "[0.31682708 0.69627909]\n"
     ]
    }
   ],
   "source": [
    "#最後一層輸出\n",
    "def identity_function (x) :\n",
    "    return x\n",
    "\n",
    "W3 = np.array([[0.1 , 0.3] , [0.2 , 0.4]])\n",
    "B3 = np.array([0.1 , 0.2])\n",
    "\n",
    "A3 = np.dot(Z2 , W3) + B3\n",
    "Y = identity_function (A3)# or Y = A3\n",
    "print(Y)"
   ]
  },
  {
   "cell_type": "code",
   "execution_count": 36,
   "metadata": {},
   "outputs": [
    {
     "name": "stdout",
     "output_type": "stream",
     "text": [
      "[0.31682708 0.69627909]\n"
     ]
    }
   ],
   "source": [
    "# 输出层所用的激活函数，要根据求解问题的性质决定。一般地，回归问题可以使用恒等函数，二元分类问题可以使用sigmoid 函数，多元分类问题可以使用\n",
    "# softmax 函数\n",
    "# init_network()函数会进行权重和偏置的初始化，并将它们保存在字典变量network中。这个字典变量network中保存了每一层所需的参数（权重和偏置）\n",
    "# forward()函数中则封装了将输入信号转换为输出信号的处理过程。\n",
    "def init_network():\n",
    "    network = {}\n",
    "    network['W1'] = np.array([[0.1, 0.3, 0.5], [0.2, 0.4, 0.6]])\n",
    "    network['b1'] = np.array([0.1, 0.2, 0.3])\n",
    "    network['W2'] = np.array([[0.1, 0.4], [0.2, 0.5], [0.3, 0.6]])\n",
    "    network['b2'] = np.array([0.1, 0.2])\n",
    "    network['W3'] = np.array([[0.1, 0.3], [0.2, 0.4]])\n",
    "    network['b3'] = np.array([0.1, 0.2])\n",
    "    return network\n",
    "def forward(network, x):\n",
    "    W1, W2, W3 = network['W1'], network['W2'], network['W3']\n",
    "    b1, b2, b3 = network['b1'], network['b2'], network['b3']\n",
    "    a1 = np.dot(x, W1) + b1\n",
    "    z1 = sigmoid(a1)\n",
    "    a2 = np.dot(z1, W2) + b2\n",
    "    z2 = sigmoid(a2)\n",
    "    a3 = np.dot(z2, W3) + b3\n",
    "    y = identity_function(a3)\n",
    "    return y\n",
    "network = init_network()\n",
    "x = np.array([1.0, 0.5])\n",
    "y = forward(network, x)\n",
    "print(y) # [ 0.31682708 0.69627909]"
   ]
  },
  {
   "cell_type": "code",
   "execution_count": 37,
   "metadata": {},
   "outputs": [
    {
     "name": "stdout",
     "output_type": "stream",
     "text": [
      "[0.01821127 0.24519181 0.73659691]\n"
     ]
    },
    {
     "data": {
      "text/plain": [
       "1.0"
      ]
     },
     "execution_count": 37,
     "metadata": {},
     "output_type": "execute_result"
    }
   ],
   "source": [
    "# 机器学习的问题大致可以分为分类问题和回归问题。分类问题是数据属于哪一个类别的问题。比如，区分图像中的人是男性还是女性的问题就是分类问题。\n",
    "# 而回归问题是根据某个输入预测一个（连续的）数值的问题。比如，根据一个人的图像预测这个人的体重的问题就是回归问题（类似“57.4kg”这样的预测）\n",
    "#softmax函数的输出是0.0 到1.0之间的实数。softmax函数的输出值的总和是1。输出总和为1 是softmax 函数的一个重要性质。正因为有了这个性质，\n",
    "#我们才可以把softmax 函数的输出解释为“概率”。\n",
    "\n",
    "def softmax(a):\n",
    "    c = np.max(a)\n",
    "    exp_a = np.exp(a - c) # 溢出对策\n",
    "    sum_exp_a = np.sum(exp_a)\n",
    "    y = exp_a / sum_exp_a\n",
    "    return y\n",
    "a = np.array([0.3, 2.9, 4.0])\n",
    "y = softmax(a)\n",
    "print(y)\n",
    "#[ 0.01821127 0.24519181 0.73659691]\n",
    "np.sum(y)\n",
    "#1.0\n",
    "\n",
    "# 上面的例子可以解释成y[0]的概率是0.018（1.8%），y[1]的概率是0.245（24.5%），y[2]的概率是0.737（73.7%）。从概率的结果来看，可以说\n",
    "# “因为第2 个元素的概率最高，所以答案是第2 个类别”。而且，还可以回答“有74%的概率是第2 个类别，有25%的概率是第1 个类别，有1%的概率是\n",
    "# 第0 个类别”。也就是说，通过使用softmax 函数，我们可以用概率的（统计的）方法处理问题。\n",
    "\n",
    "# 求解机器学习问题的步骤可以分为“学习”A 和“推理”两个阶段。首先，在学习阶段进行模型的学习B，然后，在推理阶段，用学到的模型对未知的数据进行推理\n",
    "# （分类）。如前所述，推理阶段一般会省略输出层的softmax 函数。"
   ]
  },
  {
   "cell_type": "code",
   "execution_count": null,
   "metadata": {},
   "outputs": [],
   "source": [
    "#P067\n",
    "#MNIST Sample MNIST的图像数据是28 像素× 28 像素的灰度图像（1 通道）\n",
    "# MNIST的图像数据是28 像素× 28 像素的灰度图像（1 通道），各个像素的取值在0 到255 之间。每个图像数据都相应地标有“7”“2”“1”等标签。\n",
    "# 使用mnist.py中的load_mnist()函数，就可以按下述方式轻松读入MNIST数据\n",
    "# import sys, os\n",
    "# os.chdir('/Users/shuhuimeng/ch03/')\n",
    "# sys.path.append(os.pardir)  \n",
    "import sys, os\n",
    "sys.path.append(os.pardir)\n",
    "import numpy as np\n",
    "from dataset.mnist import load_mnist\n",
    "from PIL import Image\n",
    "\n",
    "def img_show(img):\n",
    "    pil_img = Image.fromarray(np.uint8(img))\n",
    "    pil_img.show()\n",
    "\n",
    "(x_train, t_train), (x_test, t_test) = load_mnist(flatten=True, normalize=False)\n",
    "\n",
    "img = x_train[0]\n",
    "label = t_train[0]\n",
    "# 输出各个数据的形状\n",
    "print(label)\n",
    "print(img.shape)# 把图像的形状变成原来的尺寸\n",
    "img = img.reshape(28, 28)\n",
    "print(img.shape)\n",
    "print(x_train.shape) # (60000, 784)\n",
    "\n",
    "print(t_train.shape) # (60000,)\n",
    "print(x_test.shape) # (10000, 784)\n",
    "print(t_test.shape) # (10000,)\n",
    "img_show(img)\n",
    "\n",
    "# load_mnist函数以“( 训练图像, 训练标签)，( 测试图像，测试标签)”的形式返回读入的MNIST数据。此外，还可以像load_mnist(normalize=True,\n",
    "\n",
    "# flatten=True, one_hot_label=False) 这样，设置3 个参数。第1 个参数normalize设置是否将输入图像正规化为0.0～1.0 的值。如果将该参数设置\n",
    "\n",
    "# 为False，则输入图像的像素会保持原来的0～255。第2 个参数flatten设置是否展开输入图像（变成一维数组）。如果将该参数设置为False，则输入图\n",
    "\n",
    "# 像为1 × 28 × 28 的三维数组；若设置为True，则输入图像会保存为由784 个元素构成的一维数组。第3 个参数one_hot_label设置是否将标签保存为\n",
    "\n",
    "# onehot表示（one-hot representation）。one-hot 表示是仅正确解标签为1，其余皆为0 的数组，就像[0,0,1,0,0,0,0,0,0,0]这样。\n",
    "\n",
    "# 当one_hot_label为False时，只是像7、2这样简单保存正确解标签；当one_hot_label为True时，标签则保存为one-hot 表示。"
   ]
  },
  {
   "cell_type": "code",
   "execution_count": null,
   "metadata": {},
   "outputs": [],
   "source": []
  }
 ],
 "metadata": {
  "kernelspec": {
   "display_name": "Python 3",
   "language": "python",
   "name": "python3"
  },
  "language_info": {
   "codemirror_mode": {
    "name": "ipython",
    "version": 3
   },
   "file_extension": ".py",
   "mimetype": "text/x-python",
   "name": "python",
   "nbconvert_exporter": "python",
   "pygments_lexer": "ipython3",
   "version": "3.6.7"
  }
 },
 "nbformat": 4,
 "nbformat_minor": 2
}
