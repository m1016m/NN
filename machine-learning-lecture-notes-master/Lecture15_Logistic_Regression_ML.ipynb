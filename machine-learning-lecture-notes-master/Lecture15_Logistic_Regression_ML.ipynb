{
 "cells": [
  {
   "cell_type": "markdown",
   "metadata": {},
   "source": [
    "# Logistic regression"
   ]
  },
  {
   "cell_type": "code",
   "execution_count": 1,
   "metadata": {},
   "outputs": [],
   "source": [
    "import numpy as np\n",
    "import matplotlib.pyplot as plt"
   ]
  },
  {
   "cell_type": "markdown",
   "metadata": {},
   "source": [
    "## 1. Sigmoid 함수"
   ]
  },
  {
   "cell_type": "markdown",
   "metadata": {},
   "source": [
    "$$y=\\frac{1}{1 + \\text{exp}{(-x)}}$$"
   ]
  },
  {
   "cell_type": "code",
   "execution_count": 2,
   "metadata": {},
   "outputs": [
    {
     "data": {
      "text/plain": [
       "[-10, 10, -0.1, 1.1]"
      ]
     },
     "execution_count": 2,
     "metadata": {},
     "output_type": "execute_result"
    },
    {
     "data": {
      "image/png": "[encoded data removed]",
      "text/plain": [
       "<matplotlib.figure.Figure at 0x10ed9aba8>"
      ]
     },
     "metadata": {
      "needs_background": "light"
     },
     "output_type": "display_data"
    }
   ],
   "source": [
    "# Sigmoid 함수를 그리는 방법\n",
    "\n",
    "# x 범위를 -10 ~ 10까지로 합니다.\n",
    "x = np.linspace(-10, 10, 100)\n",
    "\n",
    "# y 값\n",
    "y = 1 / (1 + np.exp(-x))\n",
    "\n",
    "plt.figure(figsize=(9, 3))\n",
    "plt.plot([-10, 10], [0, 0], \"k-\")  # x 축\n",
    "plt.plot([-10, 10], [0.5, 0.5], \"k:\")  # y = 0.5 직선\n",
    "plt.plot([-10, 10], [1, 1], \"k:\")  # y = 1 직선\n",
    "plt.plot([0, 0], [-1.1, 1.1], \"k-\")  # y 축\n",
    "plt.plot(x, y, \"b-\", linewidth=2, label=r\"$\\sigma(t) = \\frac{1}{1 + e^{-x}}$\")  # Sigmoid 곡선\n",
    "plt.xlabel(\"x\")\n",
    "plt.legend(loc=\"upper left\", fontsize=20)\n",
    "plt.axis([-10, 10, -0.1, 1.1])"
   ]
  },
  {
   "cell_type": "markdown",
   "metadata": {},
   "source": [
    "## 2. 독일 신용 평가 데이터를 이용하여 돈을 갚을 수 있는지의 여부를 결정하는 분류기를 만들자."
   ]
  },
  {
   "cell_type": "code",
   "execution_count": 3,
   "metadata": {},
   "outputs": [],
   "source": [
    "import pandas as pd\n",
    "\n",
    "pd.options.display.max_columns=None\n",
    "pd.options.display.max_rows=None\n",
    "pd.options.display.max_colwidth=1000000"
   ]
  },
  {
   "cell_type": "markdown",
   "metadata": {},
   "source": [
    "## (1) 데이터 로딩"
   ]
  },
  {
   "cell_type": "code",
   "execution_count": 4,
   "metadata": {},
   "outputs": [],
   "source": [
    "path = 'https://archive.ics.uci.edu/ml/machine-learning-databases/statlog/german/german.data'\n",
    "dataset = pd.read_csv(path, delimiter=' ', header=None)"
   ]
  },
  {
   "cell_type": "code",
   "execution_count": 5,
   "metadata": {},
   "outputs": [
    {
     "name": "stdout",
     "output_type": "stream",
     "text": [
      "(1000, 21)\n"
     ]
    },
    {
     "data": {
      "text/html": [
       "<div>\n",
       "<style scoped>\n",
       "    .dataframe tbody tr th:only-of-type {\n",
       "        vertical-align: middle;\n",
       "    }\n",
       "\n",
       "    .dataframe tbody tr th {\n",
       "        vertical-align: top;\n",
       "    }\n",
       "\n",
       "    .dataframe thead th {\n",
       "        text-align: right;\n",
       "    }\n",
       "</style>\n",
       "<table border=\"1\" class=\"dataframe\">\n",
       "  <thead>\n",
       "    <tr style=\"text-align: right;\">\n",
       "      <th></th>\n",
       "      <th>0</th>\n",
       "      <th>1</th>\n",
       "      <th>2</th>\n",
       "      <th>3</th>\n",
       "      <th>4</th>\n",
       "      <th>5</th>\n",
       "      <th>6</th>\n",
       "      <th>7</th>\n",
       "      <th>8</th>\n",
       "      <th>9</th>\n",
       "      <th>10</th>\n",
       "      <th>11</th>\n",
       "      <th>12</th>\n",
       "      <th>13</th>\n",
       "      <th>14</th>\n",
       "      <th>15</th>\n",
       "      <th>16</th>\n",
       "      <th>17</th>\n",
       "      <th>18</th>\n",
       "      <th>19</th>\n",
       "      <th>20</th>\n",
       "    </tr>\n",
       "  </thead>\n",
       "  <tbody>\n",
       "    <tr>\n",
       "      <th>0</th>\n",
       "      <td>A11</td>\n",
       "      <td>6</td>\n",
       "      <td>A34</td>\n",
       "      <td>A43</td>\n",
       "      <td>1169</td>\n",
       "      <td>A65</td>\n",
       "      <td>A75</td>\n",
       "      <td>4</td>\n",
       "      <td>A93</td>\n",
       "      <td>A101</td>\n",
       "      <td>4</td>\n",
       "      <td>A121</td>\n",
       "      <td>67</td>\n",
       "      <td>A143</td>\n",
       "      <td>A152</td>\n",
       "      <td>2</td>\n",
       "      <td>A173</td>\n",
       "      <td>1</td>\n",
       "      <td>A192</td>\n",
       "      <td>A201</td>\n",
       "      <td>1</td>\n",
       "    </tr>\n",
       "    <tr>\n",
       "      <th>1</th>\n",
       "      <td>A12</td>\n",
       "      <td>48</td>\n",
       "      <td>A32</td>\n",
       "      <td>A43</td>\n",
       "      <td>5951</td>\n",
       "      <td>A61</td>\n",
       "      <td>A73</td>\n",
       "      <td>2</td>\n",
       "      <td>A92</td>\n",
       "      <td>A101</td>\n",
       "      <td>2</td>\n",
       "      <td>A121</td>\n",
       "      <td>22</td>\n",
       "      <td>A143</td>\n",
       "      <td>A152</td>\n",
       "      <td>1</td>\n",
       "      <td>A173</td>\n",
       "      <td>1</td>\n",
       "      <td>A191</td>\n",
       "      <td>A201</td>\n",
       "      <td>2</td>\n",
       "    </tr>\n",
       "    <tr>\n",
       "      <th>2</th>\n",
       "      <td>A14</td>\n",
       "      <td>12</td>\n",
       "      <td>A34</td>\n",
       "      <td>A46</td>\n",
       "      <td>2096</td>\n",
       "      <td>A61</td>\n",
       "      <td>A74</td>\n",
       "      <td>2</td>\n",
       "      <td>A93</td>\n",
       "      <td>A101</td>\n",
       "      <td>3</td>\n",
       "      <td>A121</td>\n",
       "      <td>49</td>\n",
       "      <td>A143</td>\n",
       "      <td>A152</td>\n",
       "      <td>1</td>\n",
       "      <td>A172</td>\n",
       "      <td>2</td>\n",
       "      <td>A191</td>\n",
       "      <td>A201</td>\n",
       "      <td>1</td>\n",
       "    </tr>\n",
       "    <tr>\n",
       "      <th>3</th>\n",
       "      <td>A11</td>\n",
       "      <td>42</td>\n",
       "      <td>A32</td>\n",
       "      <td>A42</td>\n",
       "      <td>7882</td>\n",
       "      <td>A61</td>\n",
       "      <td>A74</td>\n",
       "      <td>2</td>\n",
       "      <td>A93</td>\n",
       "      <td>A103</td>\n",
       "      <td>4</td>\n",
       "      <td>A122</td>\n",
       "      <td>45</td>\n",
       "      <td>A143</td>\n",
       "      <td>A153</td>\n",
       "      <td>1</td>\n",
       "      <td>A173</td>\n",
       "      <td>2</td>\n",
       "      <td>A191</td>\n",
       "      <td>A201</td>\n",
       "      <td>1</td>\n",
       "    </tr>\n",
       "    <tr>\n",
       "      <th>4</th>\n",
       "      <td>A11</td>\n",
       "      <td>24</td>\n",
       "      <td>A33</td>\n",
       "      <td>A40</td>\n",
       "      <td>4870</td>\n",
       "      <td>A61</td>\n",
       "      <td>A73</td>\n",
       "      <td>3</td>\n",
       "      <td>A93</td>\n",
       "      <td>A101</td>\n",
       "      <td>4</td>\n",
       "      <td>A124</td>\n",
       "      <td>53</td>\n",
       "      <td>A143</td>\n",
       "      <td>A153</td>\n",
       "      <td>2</td>\n",
       "      <td>A173</td>\n",
       "      <td>2</td>\n",
       "      <td>A191</td>\n",
       "      <td>A201</td>\n",
       "      <td>2</td>\n",
       "    </tr>\n",
       "  </tbody>\n",
       "</table>\n",
       "</div>"
      ],
      "text/plain": [
       "    0   1    2    3     4    5    6   7    8     9   10    11  12    13    14  \\\n",
       "0  A11   6  A34  A43  1169  A65  A75   4  A93  A101   4  A121  67  A143  A152   \n",
       "1  A12  48  A32  A43  5951  A61  A73   2  A92  A101   2  A121  22  A143  A152   \n",
       "2  A14  12  A34  A46  2096  A61  A74   2  A93  A101   3  A121  49  A143  A152   \n",
       "3  A11  42  A32  A42  7882  A61  A74   2  A93  A103   4  A122  45  A143  A153   \n",
       "4  A11  24  A33  A40  4870  A61  A73   3  A93  A101   4  A124  53  A143  A153   \n",
       "\n",
       "   15    16  17    18    19  20  \n",
       "0   2  A173   1  A192  A201   1  \n",
       "1   1  A173   1  A191  A201   2  \n",
       "2   1  A172   2  A191  A201   1  \n",
       "3   1  A173   2  A191  A201   1  \n",
       "4   2  A173   2  A191  A201   2  "
      ]
     },
     "execution_count": 5,
     "metadata": {},
     "output_type": "execute_result"
    }
   ],
   "source": [
    "print(dataset.shape)\n",
    "dataset.head()"
   ]
  },
  {
   "cell_type": "code",
   "execution_count": 6,
   "metadata": {},
   "outputs": [],
   "source": [
    "COL = [\n",
    "    'Status_of_existing_checking_account', \n",
    "    'Duration_in_month',\n",
    "    'Credit_history',\n",
    "    'Purpose', \n",
    "    'Credit_amount', \n",
    "    'Savings_account_bonds', \n",
    "    'Present_employment_since', \n",
    "    'Installment_rate_in_percentage_of_disposable_income',\n",
    "    'Personal_status_and_sex',\n",
    "    'Other_debtors_guarantors',\n",
    "    'Present_residence_since', \n",
    "    'Property', \n",
    "    'Age_in_years', \n",
    "    'Other_installment_plans', \n",
    "    'Housing',\n",
    "    'Number_of_existing_credits_at_this_bank',\n",
    "    'Job',\n",
    "    'Number_of_people_being_liable_to_provide_maintenance_for',\n",
    "    'Telephone',\n",
    "    'foreign_worker',\n",
    "    'Target'\n",
    "]"
   ]
  },
  {
   "cell_type": "code",
   "execution_count": 7,
   "metadata": {},
   "outputs": [
    {
     "data": {
      "text/html": [
       "<div>\n",
       "<style scoped>\n",
       "    .dataframe tbody tr th:only-of-type {\n",
       "        vertical-align: middle;\n",
       "    }\n",
       "\n",
       "    .dataframe tbody tr th {\n",
       "        vertical-align: top;\n",
       "    }\n",
       "\n",
       "    .dataframe thead th {\n",
       "        text-align: right;\n",
       "    }\n",
       "</style>\n",
       "<table border=\"1\" class=\"dataframe\">\n",
       "  <thead>\n",
       "    <tr style=\"text-align: right;\">\n",
       "      <th></th>\n",
       "      <th>Status_of_existing_checking_account</th>\n",
       "      <th>Duration_in_month</th>\n",
       "      <th>Credit_history</th>\n",
       "      <th>Purpose</th>\n",
       "      <th>Credit_amount</th>\n",
       "      <th>Savings_account_bonds</th>\n",
       "      <th>Present_employment_since</th>\n",
       "      <th>Installment_rate_in_percentage_of_disposable_income</th>\n",
       "      <th>Personal_status_and_sex</th>\n",
       "      <th>Other_debtors_guarantors</th>\n",
       "      <th>Present_residence_since</th>\n",
       "      <th>Property</th>\n",
       "      <th>Age_in_years</th>\n",
       "      <th>Other_installment_plans</th>\n",
       "      <th>Housing</th>\n",
       "      <th>Number_of_existing_credits_at_this_bank</th>\n",
       "      <th>Job</th>\n",
       "      <th>Number_of_people_being_liable_to_provide_maintenance_for</th>\n",
       "      <th>Telephone</th>\n",
       "      <th>foreign_worker</th>\n",
       "      <th>Target</th>\n",
       "    </tr>\n",
       "  </thead>\n",
       "  <tbody>\n",
       "    <tr>\n",
       "      <th>0</th>\n",
       "      <td>A11</td>\n",
       "      <td>6</td>\n",
       "      <td>A34</td>\n",
       "      <td>A43</td>\n",
       "      <td>1169</td>\n",
       "      <td>A65</td>\n",
       "      <td>A75</td>\n",
       "      <td>4</td>\n",
       "      <td>A93</td>\n",
       "      <td>A101</td>\n",
       "      <td>4</td>\n",
       "      <td>A121</td>\n",
       "      <td>67</td>\n",
       "      <td>A143</td>\n",
       "      <td>A152</td>\n",
       "      <td>2</td>\n",
       "      <td>A173</td>\n",
       "      <td>1</td>\n",
       "      <td>A192</td>\n",
       "      <td>A201</td>\n",
       "      <td>1</td>\n",
       "    </tr>\n",
       "    <tr>\n",
       "      <th>1</th>\n",
       "      <td>A12</td>\n",
       "      <td>48</td>\n",
       "      <td>A32</td>\n",
       "      <td>A43</td>\n",
       "      <td>5951</td>\n",
       "      <td>A61</td>\n",
       "      <td>A73</td>\n",
       "      <td>2</td>\n",
       "      <td>A92</td>\n",
       "      <td>A101</td>\n",
       "      <td>2</td>\n",
       "      <td>A121</td>\n",
       "      <td>22</td>\n",
       "      <td>A143</td>\n",
       "      <td>A152</td>\n",
       "      <td>1</td>\n",
       "      <td>A173</td>\n",
       "      <td>1</td>\n",
       "      <td>A191</td>\n",
       "      <td>A201</td>\n",
       "      <td>2</td>\n",
       "    </tr>\n",
       "    <tr>\n",
       "      <th>2</th>\n",
       "      <td>A14</td>\n",
       "      <td>12</td>\n",
       "      <td>A34</td>\n",
       "      <td>A46</td>\n",
       "      <td>2096</td>\n",
       "      <td>A61</td>\n",
       "      <td>A74</td>\n",
       "      <td>2</td>\n",
       "      <td>A93</td>\n",
       "      <td>A101</td>\n",
       "      <td>3</td>\n",
       "      <td>A121</td>\n",
       "      <td>49</td>\n",
       "      <td>A143</td>\n",
       "      <td>A152</td>\n",
       "      <td>1</td>\n",
       "      <td>A172</td>\n",
       "      <td>2</td>\n",
       "      <td>A191</td>\n",
       "      <td>A201</td>\n",
       "      <td>1</td>\n",
       "    </tr>\n",
       "    <tr>\n",
       "      <th>3</th>\n",
       "      <td>A11</td>\n",
       "      <td>42</td>\n",
       "      <td>A32</td>\n",
       "      <td>A42</td>\n",
       "      <td>7882</td>\n",
       "      <td>A61</td>\n",
       "      <td>A74</td>\n",
       "      <td>2</td>\n",
       "      <td>A93</td>\n",
       "      <td>A103</td>\n",
       "      <td>4</td>\n",
       "      <td>A122</td>\n",
       "      <td>45</td>\n",
       "      <td>A143</td>\n",
       "      <td>A153</td>\n",
       "      <td>1</td>\n",
       "      <td>A173</td>\n",
       "      <td>2</td>\n",
       "      <td>A191</td>\n",
       "      <td>A201</td>\n",
       "      <td>1</td>\n",
       "    </tr>\n",
       "    <tr>\n",
       "      <th>4</th>\n",
       "      <td>A11</td>\n",
       "      <td>24</td>\n",
       "      <td>A33</td>\n",
       "      <td>A40</td>\n",
       "      <td>4870</td>\n",
       "      <td>A61</td>\n",
       "      <td>A73</td>\n",
       "      <td>3</td>\n",
       "      <td>A93</td>\n",
       "      <td>A101</td>\n",
       "      <td>4</td>\n",
       "      <td>A124</td>\n",
       "      <td>53</td>\n",
       "      <td>A143</td>\n",
       "      <td>A153</td>\n",
       "      <td>2</td>\n",
       "      <td>A173</td>\n",
       "      <td>2</td>\n",
       "      <td>A191</td>\n",
       "      <td>A201</td>\n",
       "      <td>2</td>\n",
       "    </tr>\n",
       "  </tbody>\n",
       "</table>\n",
       "</div>"
      ],
      "text/plain": [
       "  Status_of_existing_checking_account  Duration_in_month Credit_history  \\\n",
       "0                                 A11                  6            A34   \n",
       "1                                 A12                 48            A32   \n",
       "2                                 A14                 12            A34   \n",
       "3                                 A11                 42            A32   \n",
       "4                                 A11                 24            A33   \n",
       "\n",
       "  Purpose  Credit_amount Savings_account_bonds Present_employment_since  \\\n",
       "0     A43           1169                   A65                      A75   \n",
       "1     A43           5951                   A61                      A73   \n",
       "2     A46           2096                   A61                      A74   \n",
       "3     A42           7882                   A61                      A74   \n",
       "4     A40           4870                   A61                      A73   \n",
       "\n",
       "   Installment_rate_in_percentage_of_disposable_income  \\\n",
       "0                                                    4   \n",
       "1                                                    2   \n",
       "2                                                    2   \n",
       "3                                                    2   \n",
       "4                                                    3   \n",
       "\n",
       "  Personal_status_and_sex Other_debtors_guarantors  Present_residence_since  \\\n",
       "0                     A93                     A101                        4   \n",
       "1                     A92                     A101                        2   \n",
       "2                     A93                     A101                        3   \n",
       "3                     A93                     A103                        4   \n",
       "4                     A93                     A101                        4   \n",
       "\n",
       "  Property  Age_in_years Other_installment_plans Housing  \\\n",
       "0     A121            67                    A143    A152   \n",
       "1     A121            22                    A143    A152   \n",
       "2     A121            49                    A143    A152   \n",
       "3     A122            45                    A143    A153   \n",
       "4     A124            53                    A143    A153   \n",
       "\n",
       "   Number_of_existing_credits_at_this_bank   Job  \\\n",
       "0                                        2  A173   \n",
       "1                                        1  A173   \n",
       "2                                        1  A172   \n",
       "3                                        1  A173   \n",
       "4                                        2  A173   \n",
       "\n",
       "   Number_of_people_being_liable_to_provide_maintenance_for Telephone  \\\n",
       "0                                                         1      A192   \n",
       "1                                                         1      A191   \n",
       "2                                                         2      A191   \n",
       "3                                                         2      A191   \n",
       "4                                                         2      A191   \n",
       "\n",
       "  foreign_worker  Target  \n",
       "0           A201       1  \n",
       "1           A201       2  \n",
       "2           A201       1  \n",
       "3           A201       1  \n",
       "4           A201       2  "
      ]
     },
     "execution_count": 7,
     "metadata": {},
     "output_type": "execute_result"
    }
   ],
   "source": [
    "dataset.columns = COL\n",
    "dataset.head()"
   ]
  },
  {
   "cell_type": "code",
   "execution_count": 8,
   "metadata": {},
   "outputs": [],
   "source": [
    "# Target value를 0,1로 바꾸자.\n",
    "dataset['Target'] = dataset['Target'] - 1"
   ]
  },
  {
   "cell_type": "code",
   "execution_count": 9,
   "metadata": {},
   "outputs": [
    {
     "data": {
      "text/plain": [
       "0    0\n",
       "1    1\n",
       "2    0\n",
       "3    0\n",
       "4    1\n",
       "Name: Target, dtype: int64"
      ]
     },
     "execution_count": 9,
     "metadata": {},
     "output_type": "execute_result"
    }
   ],
   "source": [
    "dataset['Target'].head()"
   ]
  },
  {
   "cell_type": "markdown",
   "metadata": {},
   "source": [
    "## (2) Train set과 test set을 나누기"
   ]
  },
  {
   "cell_type": "code",
   "execution_count": 10,
   "metadata": {},
   "outputs": [
    {
     "data": {
      "text/plain": [
       "0    700\n",
       "1    300\n",
       "Name: Target, dtype: int64"
      ]
     },
     "execution_count": 10,
     "metadata": {},
     "output_type": "execute_result"
    }
   ],
   "source": [
    "# 2.3 : 1 정도는 imbalance 인가?\n",
    "dataset.Target.value_counts()"
   ]
  },
  {
   "cell_type": "code",
   "execution_count": 11,
   "metadata": {},
   "outputs": [],
   "source": [
    "from sklearn.model_selection import train_test_split"
   ]
  },
  {
   "cell_type": "code",
   "execution_count": 12,
   "metadata": {},
   "outputs": [],
   "source": [
    "train_set, test_set = train_test_split(dataset, test_size=0.3, random_state=42)"
   ]
  },
  {
   "cell_type": "code",
   "execution_count": 13,
   "metadata": {},
   "outputs": [
    {
     "data": {
      "text/plain": [
       "0    491\n",
       "1    209\n",
       "Name: Target, dtype: int64"
      ]
     },
     "execution_count": 13,
     "metadata": {},
     "output_type": "execute_result"
    }
   ],
   "source": [
    "# 학습셋에서 비율 확인\n",
    "train_set.Target.value_counts()"
   ]
  },
  {
   "cell_type": "code",
   "execution_count": 14,
   "metadata": {},
   "outputs": [
    {
     "data": {
      "text/plain": [
       "0    209\n",
       "1     91\n",
       "Name: Target, dtype: int64"
      ]
     },
     "execution_count": 14,
     "metadata": {},
     "output_type": "execute_result"
    }
   ],
   "source": [
    "# 테스트셋에서 비율 확인\n",
    "test_set.Target.value_counts()"
   ]
  },
  {
   "cell_type": "markdown",
   "metadata": {},
   "source": [
    "## (3) Numerical column과 Categorical column 나누기"
   ]
  },
  {
   "cell_type": "code",
   "execution_count": 15,
   "metadata": {},
   "outputs": [
    {
     "data": {
      "text/plain": [
       "Status_of_existing_checking_account                         object\n",
       "Duration_in_month                                            int64\n",
       "Credit_history                                              object\n",
       "Purpose                                                     object\n",
       "Credit_amount                                                int64\n",
       "Savings_account_bonds                                       object\n",
       "Present_employment_since                                    object\n",
       "Installment_rate_in_percentage_of_disposable_income          int64\n",
       "Personal_status_and_sex                                     object\n",
       "Other_debtors_guarantors                                    object\n",
       "Present_residence_since                                      int64\n",
       "Property                                                    object\n",
       "Age_in_years                                                 int64\n",
       "Other_installment_plans                                     object\n",
       "Housing                                                     object\n",
       "Number_of_existing_credits_at_this_bank                      int64\n",
       "Job                                                         object\n",
       "Number_of_people_being_liable_to_provide_maintenance_for     int64\n",
       "Telephone                                                   object\n",
       "foreign_worker                                              object\n",
       "Target                                                       int64\n",
       "dtype: object"
      ]
     },
     "execution_count": 15,
     "metadata": {},
     "output_type": "execute_result"
    }
   ],
   "source": [
    "dataset.dtypes"
   ]
  },
  {
   "cell_type": "code",
   "execution_count": 16,
   "metadata": {},
   "outputs": [],
   "source": [
    "num_features = []\n",
    "cate_features = []\n",
    "for feat in dataset.columns:\n",
    "    if dataset[feat].dtype == 'object':\n",
    "        cate_features.append(feat)\n",
    "    elif feat != 'Target':\n",
    "        num_features.append(feat)"
   ]
  },
  {
   "cell_type": "code",
   "execution_count": 17,
   "metadata": {},
   "outputs": [
    {
     "data": {
      "text/plain": [
       "['Duration_in_month',\n",
       " 'Credit_amount',\n",
       " 'Installment_rate_in_percentage_of_disposable_income',\n",
       " 'Present_residence_since',\n",
       " 'Age_in_years',\n",
       " 'Number_of_existing_credits_at_this_bank',\n",
       " 'Number_of_people_being_liable_to_provide_maintenance_for']"
      ]
     },
     "execution_count": 17,
     "metadata": {},
     "output_type": "execute_result"
    }
   ],
   "source": [
    "num_features"
   ]
  },
  {
   "cell_type": "code",
   "execution_count": 18,
   "metadata": {},
   "outputs": [
    {
     "data": {
      "text/plain": [
       "['Status_of_existing_checking_account',\n",
       " 'Credit_history',\n",
       " 'Purpose',\n",
       " 'Savings_account_bonds',\n",
       " 'Present_employment_since',\n",
       " 'Personal_status_and_sex',\n",
       " 'Other_debtors_guarantors',\n",
       " 'Property',\n",
       " 'Other_installment_plans',\n",
       " 'Housing',\n",
       " 'Job',\n",
       " 'Telephone',\n",
       " 'foreign_worker']"
      ]
     },
     "execution_count": 18,
     "metadata": {},
     "output_type": "execute_result"
    }
   ],
   "source": [
    "cate_features"
   ]
  },
  {
   "cell_type": "markdown",
   "metadata": {},
   "source": [
    "Numerical feature는 **standardization** 또는 **normalization** 을 한다."
   ]
  },
  {
   "cell_type": "code",
   "execution_count": 19,
   "metadata": {},
   "outputs": [],
   "source": [
    "# Minmax를 선택하겠다. 왜?\n",
    "from sklearn.preprocessing import MinMaxScaler"
   ]
  },
  {
   "cell_type": "code",
   "execution_count": 20,
   "metadata": {},
   "outputs": [
    {
     "data": {
      "text/html": [
       "<div>\n",
       "<style scoped>\n",
       "    .dataframe tbody tr th:only-of-type {\n",
       "        vertical-align: middle;\n",
       "    }\n",
       "\n",
       "    .dataframe tbody tr th {\n",
       "        vertical-align: top;\n",
       "    }\n",
       "\n",
       "    .dataframe thead th {\n",
       "        text-align: right;\n",
       "    }\n",
       "</style>\n",
       "<table border=\"1\" class=\"dataframe\">\n",
       "  <thead>\n",
       "    <tr style=\"text-align: right;\">\n",
       "      <th></th>\n",
       "      <th>Duration_in_month</th>\n",
       "      <th>Credit_amount</th>\n",
       "      <th>Installment_rate_in_percentage_of_disposable_income</th>\n",
       "      <th>Present_residence_since</th>\n",
       "      <th>Age_in_years</th>\n",
       "      <th>Number_of_existing_credits_at_this_bank</th>\n",
       "      <th>Number_of_people_being_liable_to_provide_maintenance_for</th>\n",
       "    </tr>\n",
       "  </thead>\n",
       "  <tbody>\n",
       "    <tr>\n",
       "      <th>count</th>\n",
       "      <td>700.000000</td>\n",
       "      <td>700.000000</td>\n",
       "      <td>700.000000</td>\n",
       "      <td>700.000000</td>\n",
       "      <td>700.000000</td>\n",
       "      <td>700.000000</td>\n",
       "      <td>700.000000</td>\n",
       "    </tr>\n",
       "    <tr>\n",
       "      <th>mean</th>\n",
       "      <td>21.252857</td>\n",
       "      <td>3406.815714</td>\n",
       "      <td>2.981429</td>\n",
       "      <td>2.834286</td>\n",
       "      <td>35.492857</td>\n",
       "      <td>1.420000</td>\n",
       "      <td>1.137143</td>\n",
       "    </tr>\n",
       "    <tr>\n",
       "      <th>std</th>\n",
       "      <td>11.900051</td>\n",
       "      <td>2971.897408</td>\n",
       "      <td>1.118679</td>\n",
       "      <td>1.103238</td>\n",
       "      <td>11.253037</td>\n",
       "      <td>0.581695</td>\n",
       "      <td>0.344244</td>\n",
       "    </tr>\n",
       "    <tr>\n",
       "      <th>min</th>\n",
       "      <td>4.000000</td>\n",
       "      <td>250.000000</td>\n",
       "      <td>1.000000</td>\n",
       "      <td>1.000000</td>\n",
       "      <td>19.000000</td>\n",
       "      <td>1.000000</td>\n",
       "      <td>1.000000</td>\n",
       "    </tr>\n",
       "    <tr>\n",
       "      <th>25%</th>\n",
       "      <td>12.000000</td>\n",
       "      <td>1381.750000</td>\n",
       "      <td>2.000000</td>\n",
       "      <td>2.000000</td>\n",
       "      <td>27.000000</td>\n",
       "      <td>1.000000</td>\n",
       "      <td>1.000000</td>\n",
       "    </tr>\n",
       "    <tr>\n",
       "      <th>50%</th>\n",
       "      <td>18.000000</td>\n",
       "      <td>2332.000000</td>\n",
       "      <td>3.000000</td>\n",
       "      <td>3.000000</td>\n",
       "      <td>33.000000</td>\n",
       "      <td>1.000000</td>\n",
       "      <td>1.000000</td>\n",
       "    </tr>\n",
       "    <tr>\n",
       "      <th>75%</th>\n",
       "      <td>24.000000</td>\n",
       "      <td>4226.000000</td>\n",
       "      <td>4.000000</td>\n",
       "      <td>4.000000</td>\n",
       "      <td>42.000000</td>\n",
       "      <td>2.000000</td>\n",
       "      <td>1.000000</td>\n",
       "    </tr>\n",
       "    <tr>\n",
       "      <th>max</th>\n",
       "      <td>60.000000</td>\n",
       "      <td>18424.000000</td>\n",
       "      <td>4.000000</td>\n",
       "      <td>4.000000</td>\n",
       "      <td>75.000000</td>\n",
       "      <td>4.000000</td>\n",
       "      <td>2.000000</td>\n",
       "    </tr>\n",
       "  </tbody>\n",
       "</table>\n",
       "</div>"
      ],
      "text/plain": [
       "       Duration_in_month  Credit_amount  \\\n",
       "count         700.000000     700.000000   \n",
       "mean           21.252857    3406.815714   \n",
       "std            11.900051    2971.897408   \n",
       "min             4.000000     250.000000   \n",
       "25%            12.000000    1381.750000   \n",
       "50%            18.000000    2332.000000   \n",
       "75%            24.000000    4226.000000   \n",
       "max            60.000000   18424.000000   \n",
       "\n",
       "       Installment_rate_in_percentage_of_disposable_income  \\\n",
       "count                                           700.000000   \n",
       "mean                                              2.981429   \n",
       "std                                               1.118679   \n",
       "min                                               1.000000   \n",
       "25%                                               2.000000   \n",
       "50%                                               3.000000   \n",
       "75%                                               4.000000   \n",
       "max                                               4.000000   \n",
       "\n",
       "       Present_residence_since  Age_in_years  \\\n",
       "count               700.000000    700.000000   \n",
       "mean                  2.834286     35.492857   \n",
       "std                   1.103238     11.253037   \n",
       "min                   1.000000     19.000000   \n",
       "25%                   2.000000     27.000000   \n",
       "50%                   3.000000     33.000000   \n",
       "75%                   4.000000     42.000000   \n",
       "max                   4.000000     75.000000   \n",
       "\n",
       "       Number_of_existing_credits_at_this_bank  \\\n",
       "count                               700.000000   \n",
       "mean                                  1.420000   \n",
       "std                                   0.581695   \n",
       "min                                   1.000000   \n",
       "25%                                   1.000000   \n",
       "50%                                   1.000000   \n",
       "75%                                   2.000000   \n",
       "max                                   4.000000   \n",
       "\n",
       "       Number_of_people_being_liable_to_provide_maintenance_for  \n",
       "count                                                700.000000  \n",
       "mean                                                   1.137143  \n",
       "std                                                    0.344244  \n",
       "min                                                    1.000000  \n",
       "25%                                                    1.000000  \n",
       "50%                                                    1.000000  \n",
       "75%                                                    1.000000  \n",
       "max                                                    2.000000  "
      ]
     },
     "execution_count": 20,
     "metadata": {},
     "output_type": "execute_result"
    }
   ],
   "source": [
    "# Null 값 체크\n",
    "train_set[num_features].describe()"
   ]
  },
  {
   "cell_type": "code",
   "execution_count": 21,
   "metadata": {},
   "outputs": [
    {
     "data": {
      "text/plain": [
       "MinMaxScaler(copy=True, feature_range=(0, 1))"
      ]
     },
     "execution_count": 21,
     "metadata": {},
     "output_type": "execute_result"
    }
   ],
   "source": [
    "scaler = MinMaxScaler()\n",
    "scaler.fit(train_set[num_features])"
   ]
  },
  {
   "cell_type": "code",
   "execution_count": 22,
   "metadata": {},
   "outputs": [],
   "source": [
    "train_scaled_num_features = scaler.transform(train_set[num_features])\n",
    "test_scaled_num_features = scaler.transform(test_set[num_features])"
   ]
  },
  {
   "cell_type": "markdown",
   "metadata": {},
   "source": [
    "---\n",
    "\n",
    "`align` 동작법"
   ]
  },
  {
   "cell_type": "code",
   "execution_count": 23,
   "metadata": {},
   "outputs": [
    {
     "data": {
      "text/html": [
       "<div>\n",
       "<style scoped>\n",
       "    .dataframe tbody tr th:only-of-type {\n",
       "        vertical-align: middle;\n",
       "    }\n",
       "\n",
       "    .dataframe tbody tr th {\n",
       "        vertical-align: top;\n",
       "    }\n",
       "\n",
       "    .dataframe thead th {\n",
       "        text-align: right;\n",
       "    }\n",
       "</style>\n",
       "<table border=\"1\" class=\"dataframe\">\n",
       "  <thead>\n",
       "    <tr style=\"text-align: right;\">\n",
       "      <th></th>\n",
       "      <th>D</th>\n",
       "      <th>B</th>\n",
       "      <th>E</th>\n",
       "      <th>A</th>\n",
       "    </tr>\n",
       "  </thead>\n",
       "  <tbody>\n",
       "    <tr>\n",
       "      <th>1</th>\n",
       "      <td>1</td>\n",
       "      <td>2</td>\n",
       "      <td>3</td>\n",
       "      <td>4</td>\n",
       "    </tr>\n",
       "    <tr>\n",
       "      <th>2</th>\n",
       "      <td>6</td>\n",
       "      <td>7</td>\n",
       "      <td>8</td>\n",
       "      <td>9</td>\n",
       "    </tr>\n",
       "  </tbody>\n",
       "</table>\n",
       "</div>"
      ],
      "text/plain": [
       "   D  B  E  A\n",
       "1  1  2  3  4\n",
       "2  6  7  8  9"
      ]
     },
     "metadata": {},
     "output_type": "display_data"
    },
    {
     "data": {
      "text/html": [
       "<div>\n",
       "<style scoped>\n",
       "    .dataframe tbody tr th:only-of-type {\n",
       "        vertical-align: middle;\n",
       "    }\n",
       "\n",
       "    .dataframe tbody tr th {\n",
       "        vertical-align: top;\n",
       "    }\n",
       "\n",
       "    .dataframe thead th {\n",
       "        text-align: right;\n",
       "    }\n",
       "</style>\n",
       "<table border=\"1\" class=\"dataframe\">\n",
       "  <thead>\n",
       "    <tr style=\"text-align: right;\">\n",
       "      <th></th>\n",
       "      <th>A</th>\n",
       "      <th>B</th>\n",
       "      <th>C</th>\n",
       "      <th>D</th>\n",
       "    </tr>\n",
       "  </thead>\n",
       "  <tbody>\n",
       "    <tr>\n",
       "      <th>2</th>\n",
       "      <td>10</td>\n",
       "      <td>20</td>\n",
       "      <td>30</td>\n",
       "      <td>40</td>\n",
       "    </tr>\n",
       "    <tr>\n",
       "      <th>3</th>\n",
       "      <td>60</td>\n",
       "      <td>70</td>\n",
       "      <td>80</td>\n",
       "      <td>90</td>\n",
       "    </tr>\n",
       "    <tr>\n",
       "      <th>4</th>\n",
       "      <td>600</td>\n",
       "      <td>700</td>\n",
       "      <td>800</td>\n",
       "      <td>900</td>\n",
       "    </tr>\n",
       "  </tbody>\n",
       "</table>\n",
       "</div>"
      ],
      "text/plain": [
       "     A    B    C    D\n",
       "2   10   20   30   40\n",
       "3   60   70   80   90\n",
       "4  600  700  800  900"
      ]
     },
     "metadata": {},
     "output_type": "display_data"
    },
    {
     "data": {
      "text/html": [
       "<div>\n",
       "<style scoped>\n",
       "    .dataframe tbody tr th:only-of-type {\n",
       "        vertical-align: middle;\n",
       "    }\n",
       "\n",
       "    .dataframe tbody tr th {\n",
       "        vertical-align: top;\n",
       "    }\n",
       "\n",
       "    .dataframe thead th {\n",
       "        text-align: right;\n",
       "    }\n",
       "</style>\n",
       "<table border=\"1\" class=\"dataframe\">\n",
       "  <thead>\n",
       "    <tr style=\"text-align: right;\">\n",
       "      <th></th>\n",
       "      <th>A</th>\n",
       "      <th>B</th>\n",
       "      <th>C</th>\n",
       "      <th>D</th>\n",
       "      <th>E</th>\n",
       "    </tr>\n",
       "  </thead>\n",
       "  <tbody>\n",
       "    <tr>\n",
       "      <th>1</th>\n",
       "      <td>4</td>\n",
       "      <td>2</td>\n",
       "      <td>NaN</td>\n",
       "      <td>1</td>\n",
       "      <td>3</td>\n",
       "    </tr>\n",
       "    <tr>\n",
       "      <th>2</th>\n",
       "      <td>9</td>\n",
       "      <td>7</td>\n",
       "      <td>NaN</td>\n",
       "      <td>6</td>\n",
       "      <td>8</td>\n",
       "    </tr>\n",
       "  </tbody>\n",
       "</table>\n",
       "</div>"
      ],
      "text/plain": [
       "   A  B   C  D  E\n",
       "1  4  2 NaN  1  3\n",
       "2  9  7 NaN  6  8"
      ]
     },
     "metadata": {},
     "output_type": "display_data"
    },
    {
     "data": {
      "text/html": [
       "<div>\n",
       "<style scoped>\n",
       "    .dataframe tbody tr th:only-of-type {\n",
       "        vertical-align: middle;\n",
       "    }\n",
       "\n",
       "    .dataframe tbody tr th {\n",
       "        vertical-align: top;\n",
       "    }\n",
       "\n",
       "    .dataframe thead th {\n",
       "        text-align: right;\n",
       "    }\n",
       "</style>\n",
       "<table border=\"1\" class=\"dataframe\">\n",
       "  <thead>\n",
       "    <tr style=\"text-align: right;\">\n",
       "      <th></th>\n",
       "      <th>A</th>\n",
       "      <th>B</th>\n",
       "      <th>C</th>\n",
       "      <th>D</th>\n",
       "      <th>E</th>\n",
       "    </tr>\n",
       "  </thead>\n",
       "  <tbody>\n",
       "    <tr>\n",
       "      <th>2</th>\n",
       "      <td>10</td>\n",
       "      <td>20</td>\n",
       "      <td>30</td>\n",
       "      <td>40</td>\n",
       "      <td>NaN</td>\n",
       "    </tr>\n",
       "    <tr>\n",
       "      <th>3</th>\n",
       "      <td>60</td>\n",
       "      <td>70</td>\n",
       "      <td>80</td>\n",
       "      <td>90</td>\n",
       "      <td>NaN</td>\n",
       "    </tr>\n",
       "    <tr>\n",
       "      <th>4</th>\n",
       "      <td>600</td>\n",
       "      <td>700</td>\n",
       "      <td>800</td>\n",
       "      <td>900</td>\n",
       "      <td>NaN</td>\n",
       "    </tr>\n",
       "  </tbody>\n",
       "</table>\n",
       "</div>"
      ],
      "text/plain": [
       "     A    B    C    D   E\n",
       "2   10   20   30   40 NaN\n",
       "3   60   70   80   90 NaN\n",
       "4  600  700  800  900 NaN"
      ]
     },
     "metadata": {},
     "output_type": "display_data"
    }
   ],
   "source": [
    "# align 작동법\n",
    "df1 = pd.DataFrame([[1,2,3,4], [6,7,8,9]], columns=['D', 'B', 'E', 'A'], index=[1,2])\n",
    "df2 = pd.DataFrame([[10,20,30,40], [60,70,80,90], [600,700,800,900]], columns=['A', 'B', 'C', 'D'], index=[2,3,4])\n",
    "\n",
    "display(df1)\n",
    "display(df2)\n",
    "\n",
    "a1, a2 = df1.align(df2, join='outer', axis=1)\n",
    "display(a1)\n",
    "display(a2)"
   ]
  },
  {
   "cell_type": "markdown",
   "metadata": {},
   "source": [
    "---"
   ]
  },
  {
   "cell_type": "code",
   "execution_count": 24,
   "metadata": {},
   "outputs": [
    {
     "name": "stdout",
     "output_type": "stream",
     "text": [
      "(700, 54)\n"
     ]
    },
    {
     "data": {
      "text/html": [
       "<div>\n",
       "<style scoped>\n",
       "    .dataframe tbody tr th:only-of-type {\n",
       "        vertical-align: middle;\n",
       "    }\n",
       "\n",
       "    .dataframe tbody tr th {\n",
       "        vertical-align: top;\n",
       "    }\n",
       "\n",
       "    .dataframe thead th {\n",
       "        text-align: right;\n",
       "    }\n",
       "</style>\n",
       "<table border=\"1\" class=\"dataframe\">\n",
       "  <thead>\n",
       "    <tr style=\"text-align: right;\">\n",
       "      <th></th>\n",
       "      <th>Status_of_existing_checking_account_A11</th>\n",
       "      <th>Status_of_existing_checking_account_A12</th>\n",
       "      <th>Status_of_existing_checking_account_A13</th>\n",
       "      <th>Status_of_existing_checking_account_A14</th>\n",
       "      <th>Credit_history_A30</th>\n",
       "      <th>Credit_history_A31</th>\n",
       "      <th>Credit_history_A32</th>\n",
       "      <th>Credit_history_A33</th>\n",
       "      <th>Credit_history_A34</th>\n",
       "      <th>Purpose_A40</th>\n",
       "      <th>Purpose_A41</th>\n",
       "      <th>Purpose_A410</th>\n",
       "      <th>Purpose_A42</th>\n",
       "      <th>Purpose_A43</th>\n",
       "      <th>Purpose_A44</th>\n",
       "      <th>Purpose_A45</th>\n",
       "      <th>Purpose_A46</th>\n",
       "      <th>Purpose_A48</th>\n",
       "      <th>Purpose_A49</th>\n",
       "      <th>Savings_account_bonds_A61</th>\n",
       "      <th>Savings_account_bonds_A62</th>\n",
       "      <th>Savings_account_bonds_A63</th>\n",
       "      <th>Savings_account_bonds_A64</th>\n",
       "      <th>Savings_account_bonds_A65</th>\n",
       "      <th>Present_employment_since_A71</th>\n",
       "      <th>Present_employment_since_A72</th>\n",
       "      <th>Present_employment_since_A73</th>\n",
       "      <th>Present_employment_since_A74</th>\n",
       "      <th>Present_employment_since_A75</th>\n",
       "      <th>Personal_status_and_sex_A91</th>\n",
       "      <th>Personal_status_and_sex_A92</th>\n",
       "      <th>Personal_status_and_sex_A93</th>\n",
       "      <th>Personal_status_and_sex_A94</th>\n",
       "      <th>Other_debtors_guarantors_A101</th>\n",
       "      <th>Other_debtors_guarantors_A102</th>\n",
       "      <th>Other_debtors_guarantors_A103</th>\n",
       "      <th>Property_A121</th>\n",
       "      <th>Property_A122</th>\n",
       "      <th>Property_A123</th>\n",
       "      <th>Property_A124</th>\n",
       "      <th>Other_installment_plans_A141</th>\n",
       "      <th>Other_installment_plans_A142</th>\n",
       "      <th>Other_installment_plans_A143</th>\n",
       "      <th>Housing_A151</th>\n",
       "      <th>Housing_A152</th>\n",
       "      <th>Housing_A153</th>\n",
       "      <th>Job_A171</th>\n",
       "      <th>Job_A172</th>\n",
       "      <th>Job_A173</th>\n",
       "      <th>Job_A174</th>\n",
       "      <th>Telephone_A191</th>\n",
       "      <th>Telephone_A192</th>\n",
       "      <th>foreign_worker_A201</th>\n",
       "      <th>foreign_worker_A202</th>\n",
       "    </tr>\n",
       "  </thead>\n",
       "  <tbody>\n",
       "    <tr>\n",
       "      <th>541</th>\n",
       "      <td>0</td>\n",
       "      <td>0</td>\n",
       "      <td>0</td>\n",
       "      <td>1</td>\n",
       "      <td>0</td>\n",
       "      <td>0</td>\n",
       "      <td>0</td>\n",
       "      <td>1</td>\n",
       "      <td>0</td>\n",
       "      <td>1</td>\n",
       "      <td>0</td>\n",
       "      <td>0</td>\n",
       "      <td>0</td>\n",
       "      <td>0</td>\n",
       "      <td>0</td>\n",
       "      <td>0</td>\n",
       "      <td>0</td>\n",
       "      <td>0</td>\n",
       "      <td>0</td>\n",
       "      <td>1</td>\n",
       "      <td>0</td>\n",
       "      <td>0</td>\n",
       "      <td>0</td>\n",
       "      <td>0</td>\n",
       "      <td>0</td>\n",
       "      <td>0</td>\n",
       "      <td>0</td>\n",
       "      <td>0</td>\n",
       "      <td>1</td>\n",
       "      <td>0</td>\n",
       "      <td>0</td>\n",
       "      <td>1</td>\n",
       "      <td>0</td>\n",
       "      <td>1</td>\n",
       "      <td>0</td>\n",
       "      <td>0</td>\n",
       "      <td>0</td>\n",
       "      <td>0</td>\n",
       "      <td>0</td>\n",
       "      <td>1</td>\n",
       "      <td>0</td>\n",
       "      <td>0</td>\n",
       "      <td>1</td>\n",
       "      <td>0</td>\n",
       "      <td>0</td>\n",
       "      <td>1</td>\n",
       "      <td>0</td>\n",
       "      <td>0</td>\n",
       "      <td>1</td>\n",
       "      <td>0</td>\n",
       "      <td>0</td>\n",
       "      <td>1</td>\n",
       "      <td>1</td>\n",
       "      <td>0</td>\n",
       "    </tr>\n",
       "  </tbody>\n",
       "</table>\n",
       "</div>"
      ],
      "text/plain": [
       "     Status_of_existing_checking_account_A11  \\\n",
       "541                                        0   \n",
       "\n",
       "     Status_of_existing_checking_account_A12  \\\n",
       "541                                        0   \n",
       "\n",
       "     Status_of_existing_checking_account_A13  \\\n",
       "541                                        0   \n",
       "\n",
       "     Status_of_existing_checking_account_A14  Credit_history_A30  \\\n",
       "541                                        1                   0   \n",
       "\n",
       "     Credit_history_A31  Credit_history_A32  Credit_history_A33  \\\n",
       "541                   0                   0                   1   \n",
       "\n",
       "     Credit_history_A34  Purpose_A40  Purpose_A41  Purpose_A410  Purpose_A42  \\\n",
       "541                   0            1            0             0            0   \n",
       "\n",
       "     Purpose_A43  Purpose_A44  Purpose_A45  Purpose_A46  Purpose_A48  \\\n",
       "541            0            0            0            0            0   \n",
       "\n",
       "     Purpose_A49  Savings_account_bonds_A61  Savings_account_bonds_A62  \\\n",
       "541            0                          1                          0   \n",
       "\n",
       "     Savings_account_bonds_A63  Savings_account_bonds_A64  \\\n",
       "541                          0                          0   \n",
       "\n",
       "     Savings_account_bonds_A65  Present_employment_since_A71  \\\n",
       "541                          0                             0   \n",
       "\n",
       "     Present_employment_since_A72  Present_employment_since_A73  \\\n",
       "541                             0                             0   \n",
       "\n",
       "     Present_employment_since_A74  Present_employment_since_A75  \\\n",
       "541                             0                             1   \n",
       "\n",
       "     Personal_status_and_sex_A91  Personal_status_and_sex_A92  \\\n",
       "541                            0                            0   \n",
       "\n",
       "     Personal_status_and_sex_A93  Personal_status_and_sex_A94  \\\n",
       "541                            1                            0   \n",
       "\n",
       "     Other_debtors_guarantors_A101  Other_debtors_guarantors_A102  \\\n",
       "541                              1                              0   \n",
       "\n",
       "     Other_debtors_guarantors_A103  Property_A121  Property_A122  \\\n",
       "541                              0              0              0   \n",
       "\n",
       "     Property_A123  Property_A124  Other_installment_plans_A141  \\\n",
       "541              0              1                             0   \n",
       "\n",
       "     Other_installment_plans_A142  Other_installment_plans_A143  Housing_A151  \\\n",
       "541                             0                             1             0   \n",
       "\n",
       "     Housing_A152  Housing_A153  Job_A171  Job_A172  Job_A173  Job_A174  \\\n",
       "541             0             1         0         0         1         0   \n",
       "\n",
       "     Telephone_A191  Telephone_A192  foreign_worker_A201  foreign_worker_A202  \n",
       "541               0               1                    1                    0  "
      ]
     },
     "execution_count": 24,
     "metadata": {},
     "output_type": "execute_result"
    }
   ],
   "source": [
    "train_cat_features = pd.get_dummies(train_set[cate_features])\n",
    "print(train_cat_features.shape)\n",
    "train_cat_features.head(1)"
   ]
  },
  {
   "cell_type": "code",
   "execution_count": 25,
   "metadata": {},
   "outputs": [
    {
     "name": "stdout",
     "output_type": "stream",
     "text": [
      "(300, 54)\n"
     ]
    },
    {
     "data": {
      "text/html": [
       "<div>\n",
       "<style scoped>\n",
       "    .dataframe tbody tr th:only-of-type {\n",
       "        vertical-align: middle;\n",
       "    }\n",
       "\n",
       "    .dataframe tbody tr th {\n",
       "        vertical-align: top;\n",
       "    }\n",
       "\n",
       "    .dataframe thead th {\n",
       "        text-align: right;\n",
       "    }\n",
       "</style>\n",
       "<table border=\"1\" class=\"dataframe\">\n",
       "  <thead>\n",
       "    <tr style=\"text-align: right;\">\n",
       "      <th></th>\n",
       "      <th>Status_of_existing_checking_account_A11</th>\n",
       "      <th>Status_of_existing_checking_account_A12</th>\n",
       "      <th>Status_of_existing_checking_account_A13</th>\n",
       "      <th>Status_of_existing_checking_account_A14</th>\n",
       "      <th>Credit_history_A30</th>\n",
       "      <th>Credit_history_A31</th>\n",
       "      <th>Credit_history_A32</th>\n",
       "      <th>Credit_history_A33</th>\n",
       "      <th>Credit_history_A34</th>\n",
       "      <th>Purpose_A40</th>\n",
       "      <th>Purpose_A41</th>\n",
       "      <th>Purpose_A410</th>\n",
       "      <th>Purpose_A42</th>\n",
       "      <th>Purpose_A43</th>\n",
       "      <th>Purpose_A44</th>\n",
       "      <th>Purpose_A45</th>\n",
       "      <th>Purpose_A46</th>\n",
       "      <th>Purpose_A48</th>\n",
       "      <th>Purpose_A49</th>\n",
       "      <th>Savings_account_bonds_A61</th>\n",
       "      <th>Savings_account_bonds_A62</th>\n",
       "      <th>Savings_account_bonds_A63</th>\n",
       "      <th>Savings_account_bonds_A64</th>\n",
       "      <th>Savings_account_bonds_A65</th>\n",
       "      <th>Present_employment_since_A71</th>\n",
       "      <th>Present_employment_since_A72</th>\n",
       "      <th>Present_employment_since_A73</th>\n",
       "      <th>Present_employment_since_A74</th>\n",
       "      <th>Present_employment_since_A75</th>\n",
       "      <th>Personal_status_and_sex_A91</th>\n",
       "      <th>Personal_status_and_sex_A92</th>\n",
       "      <th>Personal_status_and_sex_A93</th>\n",
       "      <th>Personal_status_and_sex_A94</th>\n",
       "      <th>Other_debtors_guarantors_A101</th>\n",
       "      <th>Other_debtors_guarantors_A102</th>\n",
       "      <th>Other_debtors_guarantors_A103</th>\n",
       "      <th>Property_A121</th>\n",
       "      <th>Property_A122</th>\n",
       "      <th>Property_A123</th>\n",
       "      <th>Property_A124</th>\n",
       "      <th>Other_installment_plans_A141</th>\n",
       "      <th>Other_installment_plans_A142</th>\n",
       "      <th>Other_installment_plans_A143</th>\n",
       "      <th>Housing_A151</th>\n",
       "      <th>Housing_A152</th>\n",
       "      <th>Housing_A153</th>\n",
       "      <th>Job_A171</th>\n",
       "      <th>Job_A172</th>\n",
       "      <th>Job_A173</th>\n",
       "      <th>Job_A174</th>\n",
       "      <th>Telephone_A191</th>\n",
       "      <th>Telephone_A192</th>\n",
       "      <th>foreign_worker_A201</th>\n",
       "      <th>foreign_worker_A202</th>\n",
       "    </tr>\n",
       "  </thead>\n",
       "  <tbody>\n",
       "    <tr>\n",
       "      <th>521</th>\n",
       "      <td>1</td>\n",
       "      <td>0</td>\n",
       "      <td>0</td>\n",
       "      <td>0</td>\n",
       "      <td>0</td>\n",
       "      <td>0</td>\n",
       "      <td>1</td>\n",
       "      <td>0</td>\n",
       "      <td>0</td>\n",
       "      <td>0</td>\n",
       "      <td>0</td>\n",
       "      <td>0</td>\n",
       "      <td>0</td>\n",
       "      <td>1</td>\n",
       "      <td>0</td>\n",
       "      <td>0</td>\n",
       "      <td>0</td>\n",
       "      <td>0</td>\n",
       "      <td>0</td>\n",
       "      <td>1</td>\n",
       "      <td>0</td>\n",
       "      <td>0</td>\n",
       "      <td>0</td>\n",
       "      <td>0</td>\n",
       "      <td>0</td>\n",
       "      <td>0</td>\n",
       "      <td>1</td>\n",
       "      <td>0</td>\n",
       "      <td>0</td>\n",
       "      <td>0</td>\n",
       "      <td>1</td>\n",
       "      <td>0</td>\n",
       "      <td>0</td>\n",
       "      <td>1</td>\n",
       "      <td>0</td>\n",
       "      <td>0</td>\n",
       "      <td>1</td>\n",
       "      <td>0</td>\n",
       "      <td>0</td>\n",
       "      <td>0</td>\n",
       "      <td>0</td>\n",
       "      <td>0</td>\n",
       "      <td>1</td>\n",
       "      <td>0</td>\n",
       "      <td>1</td>\n",
       "      <td>0</td>\n",
       "      <td>0</td>\n",
       "      <td>0</td>\n",
       "      <td>1</td>\n",
       "      <td>0</td>\n",
       "      <td>1</td>\n",
       "      <td>0</td>\n",
       "      <td>1</td>\n",
       "      <td>0</td>\n",
       "    </tr>\n",
       "  </tbody>\n",
       "</table>\n",
       "</div>"
      ],
      "text/plain": [
       "     Status_of_existing_checking_account_A11  \\\n",
       "521                                        1   \n",
       "\n",
       "     Status_of_existing_checking_account_A12  \\\n",
       "521                                        0   \n",
       "\n",
       "     Status_of_existing_checking_account_A13  \\\n",
       "521                                        0   \n",
       "\n",
       "     Status_of_existing_checking_account_A14  Credit_history_A30  \\\n",
       "521                                        0                   0   \n",
       "\n",
       "     Credit_history_A31  Credit_history_A32  Credit_history_A33  \\\n",
       "521                   0                   1                   0   \n",
       "\n",
       "     Credit_history_A34  Purpose_A40  Purpose_A41  Purpose_A410  Purpose_A42  \\\n",
       "521                   0            0            0             0            0   \n",
       "\n",
       "     Purpose_A43  Purpose_A44  Purpose_A45  Purpose_A46  Purpose_A48  \\\n",
       "521            1            0            0            0            0   \n",
       "\n",
       "     Purpose_A49  Savings_account_bonds_A61  Savings_account_bonds_A62  \\\n",
       "521            0                          1                          0   \n",
       "\n",
       "     Savings_account_bonds_A63  Savings_account_bonds_A64  \\\n",
       "521                          0                          0   \n",
       "\n",
       "     Savings_account_bonds_A65  Present_employment_since_A71  \\\n",
       "521                          0                             0   \n",
       "\n",
       "     Present_employment_since_A72  Present_employment_since_A73  \\\n",
       "521                             0                             1   \n",
       "\n",
       "     Present_employment_since_A74  Present_employment_since_A75  \\\n",
       "521                             0                             0   \n",
       "\n",
       "     Personal_status_and_sex_A91  Personal_status_and_sex_A92  \\\n",
       "521                            0                            1   \n",
       "\n",
       "     Personal_status_and_sex_A93  Personal_status_and_sex_A94  \\\n",
       "521                            0                            0   \n",
       "\n",
       "     Other_debtors_guarantors_A101  Other_debtors_guarantors_A102  \\\n",
       "521                              1                              0   \n",
       "\n",
       "     Other_debtors_guarantors_A103  Property_A121  Property_A122  \\\n",
       "521                              0              1              0   \n",
       "\n",
       "     Property_A123  Property_A124  Other_installment_plans_A141  \\\n",
       "521              0              0                             0   \n",
       "\n",
       "     Other_installment_plans_A142  Other_installment_plans_A143  Housing_A151  \\\n",
       "521                             0                             1             0   \n",
       "\n",
       "     Housing_A152  Housing_A153  Job_A171  Job_A172  Job_A173  Job_A174  \\\n",
       "521             1             0         0         0         1         0   \n",
       "\n",
       "     Telephone_A191  Telephone_A192  foreign_worker_A201  foreign_worker_A202  \n",
       "521               1               0                    1                    0  "
      ]
     },
     "execution_count": 25,
     "metadata": {},
     "output_type": "execute_result"
    }
   ],
   "source": [
    "test_cat_features = pd.get_dummies(test_set[cate_features])\n",
    "print(test_cat_features.shape)\n",
    "test_cat_features.head(1)"
   ]
  },
  {
   "cell_type": "code",
   "execution_count": 26,
   "metadata": {},
   "outputs": [],
   "source": [
    "train_cat_features, test_cat_features = \\\n",
    "    train_cat_features.align(test_cat_features, join='outer', axis=1, fill_value=0)"
   ]
  },
  {
   "cell_type": "code",
   "execution_count": 27,
   "metadata": {},
   "outputs": [
    {
     "name": "stdout",
     "output_type": "stream",
     "text": [
      "(700, 54)\n",
      "(300, 54)\n"
     ]
    }
   ],
   "source": [
    "print(train_cat_features.shape)\n",
    "print(test_cat_features.shape)"
   ]
  },
  {
   "cell_type": "markdown",
   "metadata": {},
   "source": [
    "- Categorycal, numeric feature들을 연결하여 하나의 feature를 생성합니다.\n",
    "- Target value를 분리합니다."
   ]
  },
  {
   "cell_type": "code",
   "execution_count": 28,
   "metadata": {},
   "outputs": [
    {
     "name": "stdout",
     "output_type": "stream",
     "text": [
      "(700, 61)\n",
      "(300, 61)\n",
      "(700,)\n",
      "(300,)\n"
     ]
    }
   ],
   "source": [
    "train_x = np.c_[train_scaled_num_features, train_cat_features]\n",
    "test_x = np.c_[test_scaled_num_features, test_cat_features]\n",
    "train_y = train_set['Target']\n",
    "test_y = test_set['Target']\n",
    "print(train_x.shape)\n",
    "print(test_x.shape)\n",
    "print(train_y.shape)\n",
    "print(test_y.shape)"
   ]
  },
  {
   "cell_type": "code",
   "execution_count": 29,
   "metadata": {},
   "outputs": [
    {
     "data": {
      "text/plain": [
       "array([0.35714286, 0.09805216, 1.        , 1.        , 0.73214286,\n",
       "       0.33333333, 0.        , 0.        , 0.        , 0.        ,\n",
       "       1.        , 0.        , 0.        , 0.        , 1.        ,\n",
       "       0.        , 1.        , 0.        , 0.        , 0.        ,\n",
       "       0.        , 0.        , 0.        , 0.        , 0.        ,\n",
       "       0.        , 1.        , 0.        , 0.        , 0.        ,\n",
       "       0.        , 0.        , 0.        , 0.        , 0.        ,\n",
       "       1.        , 0.        , 0.        , 1.        , 0.        ,\n",
       "       1.        , 0.        , 0.        , 0.        , 0.        ,\n",
       "       0.        , 1.        , 0.        , 0.        , 1.        ,\n",
       "       0.        , 0.        , 1.        , 0.        , 0.        ,\n",
       "       1.        , 0.        , 0.        , 1.        , 1.        ,\n",
       "       0.        ])"
      ]
     },
     "execution_count": 29,
     "metadata": {},
     "output_type": "execute_result"
    }
   ],
   "source": [
    "train_x[0]"
   ]
  },
  {
   "cell_type": "markdown",
   "metadata": {},
   "source": [
    "## (4) 학습"
   ]
  },
  {
   "cell_type": "code",
   "execution_count": 30,
   "metadata": {},
   "outputs": [],
   "source": [
    "from sklearn.linear_model import LogisticRegression"
   ]
  },
  {
   "cell_type": "code",
   "execution_count": 31,
   "metadata": {},
   "outputs": [],
   "source": [
    "logistic = LogisticRegression(random_state=42)"
   ]
  },
  {
   "cell_type": "markdown",
   "metadata": {},
   "source": [
    "Cross validation을 이용하여 학습을 진행하며, 성능을 측정합니다.\n",
    "\n",
    "https://scikit-learn.org/stable/modules/cross_validation.html"
   ]
  },
  {
   "cell_type": "code",
   "execution_count": 32,
   "metadata": {},
   "outputs": [
    {
     "data": {
      "text/plain": [
       "array([0.72649573, 0.70940171, 0.74137931])"
      ]
     },
     "execution_count": 32,
     "metadata": {},
     "output_type": "execute_result"
    }
   ],
   "source": [
    "from sklearn.model_selection import cross_val_score\n",
    "cross_val_score(logistic, train_x, train_y, cv=3, scoring='accuracy')"
   ]
  },
  {
   "cell_type": "markdown",
   "metadata": {},
   "source": [
    "### Precision, recall"
   ]
  },
  {
   "cell_type": "code",
   "execution_count": 33,
   "metadata": {},
   "outputs": [],
   "source": [
    "from sklearn.model_selection import cross_val_predict\n",
    "\n",
    "pred_train_y = cross_val_predict(logistic, train_x, train_y, cv=3)"
   ]
  },
  {
   "cell_type": "code",
   "execution_count": 34,
   "metadata": {},
   "outputs": [
    {
     "name": "stdout",
     "output_type": "stream",
     "text": [
      "Precision : 0.5548387096774193\n",
      "Recall : 0.41148325358851673\n"
     ]
    }
   ],
   "source": [
    "from sklearn.metrics import precision_score, recall_score\n",
    "\n",
    "precision = precision_score(train_y, pred_train_y)\n",
    "recall = recall_score(train_y, pred_train_y)\n",
    "print('Precision :', precision)\n",
    "print('Recall :', recall)"
   ]
  },
  {
   "cell_type": "markdown",
   "metadata": {},
   "source": [
    "Precision, recall 그래프를 그립니다. Binary logistic의 경우는 0 또는 1의 확률값이 나오고, 그 중에서 높은 값을 취하게 됩니다. 따라서 1의 확률이 0.5보다 크면 1로 분류되고 아니면 0으로 분류됩니다. `predict_proba`를 이용하여 1이 될 확률을 얻습니다."
   ]
  },
  {
   "cell_type": "code",
   "execution_count": 35,
   "metadata": {},
   "outputs": [],
   "source": [
    "y_scores = cross_val_predict(logistic, train_x, train_y, cv=3, method='predict_proba') "
   ]
  },
  {
   "cell_type": "code",
   "execution_count": 36,
   "metadata": {},
   "outputs": [
    {
     "data": {
      "text/plain": [
       "array([[0.76614071, 0.23385929],\n",
       "       [0.86179924, 0.13820076],\n",
       "       [0.61978264, 0.38021736],\n",
       "       [0.89528967, 0.10471033],\n",
       "       [0.97188711, 0.02811289]])"
      ]
     },
     "execution_count": 36,
     "metadata": {},
     "output_type": "execute_result"
    }
   ],
   "source": [
    "y_scores[:5]"
   ]
  },
  {
   "cell_type": "code",
   "execution_count": 37,
   "metadata": {},
   "outputs": [],
   "source": [
    "from sklearn.metrics import precision_recall_curve\n",
    "\n",
    "# 1의 확률만 넣기 위하여 y_scores[:, 1]를 사용합니다.\n",
    "precisions, recalls, thresholds = precision_recall_curve(train_y, y_scores[:,1])"
   ]
  },
  {
   "cell_type": "code",
   "execution_count": 38,
   "metadata": {},
   "outputs": [
    {
     "data": {
      "image/png": "[encoded data removed]",
      "text/plain": [
       "<matplotlib.figure.Figure at 0x1a1ff85780>"
      ]
     },
     "metadata": {
      "needs_background": "light"
     },
     "output_type": "display_data"
    }
   ],
   "source": [
    "def plot_precision_recall_vs_threshold(precisions, recalls, thresholds):\n",
    "    plt.plot(thresholds, precisions[:-1], 'b--', label='Precision')\n",
    "    plt.plot(thresholds, recalls[:-1], 'g-', label='Recall')\n",
    "    plt.xlabel('Thresholds')\n",
    "    plt.legend(loc='lower left')\n",
    "    plt.ylim([0, 1])\n",
    "\n",
    "plot_precision_recall_vs_threshold(precisions, recalls, thresholds)\n",
    "plt.show()"
   ]
  },
  {
   "cell_type": "markdown",
   "metadata": {},
   "source": [
    "## (5) Test set에서의 검증"
   ]
  },
  {
   "cell_type": "code",
   "execution_count": 39,
   "metadata": {},
   "outputs": [
    {
     "data": {
      "text/plain": [
       "LogisticRegression(C=1.0, class_weight=None, dual=False, fit_intercept=True,\n",
       "          intercept_scaling=1, max_iter=100, multi_class='ovr', n_jobs=1,\n",
       "          penalty='l2', random_state=42, solver='liblinear', tol=0.0001,\n",
       "          verbose=0, warm_start=False)"
      ]
     },
     "execution_count": 39,
     "metadata": {},
     "output_type": "execute_result"
    }
   ],
   "source": [
    "logistic.fit(train_x, train_y)"
   ]
  },
  {
   "cell_type": "code",
   "execution_count": 40,
   "metadata": {},
   "outputs": [],
   "source": [
    "from sklearn.metrics import accuracy_score, classification_report, confusion_matrix"
   ]
  },
  {
   "cell_type": "code",
   "execution_count": 41,
   "metadata": {},
   "outputs": [
    {
     "name": "stdout",
     "output_type": "stream",
     "text": [
      "Accuracy : 0.7766666666666666\n"
     ]
    }
   ],
   "source": [
    "accuracy = accuracy_score(logistic.predict(test_x), test_y)\n",
    "print('Accuracy :', accuracy)"
   ]
  },
  {
   "cell_type": "code",
   "execution_count": 42,
   "metadata": {},
   "outputs": [
    {
     "name": "stdout",
     "output_type": "stream",
     "text": [
      "             precision    recall  f1-score   support\n",
      "\n",
      "          0       0.80      0.90      0.85       209\n",
      "          1       0.68      0.49      0.57        91\n",
      "\n",
      "avg / total       0.77      0.78      0.77       300\n",
      "\n"
     ]
    }
   ],
   "source": [
    "print(classification_report(test_y, logistic.predict(test_x)))"
   ]
  },
  {
   "cell_type": "code",
   "execution_count": 43,
   "metadata": {},
   "outputs": [
    {
     "data": {
      "text/html": [
       "<div>\n",
       "<style scoped>\n",
       "    .dataframe tbody tr th:only-of-type {\n",
       "        vertical-align: middle;\n",
       "    }\n",
       "\n",
       "    .dataframe tbody tr th {\n",
       "        vertical-align: top;\n",
       "    }\n",
       "\n",
       "    .dataframe thead th {\n",
       "        text-align: right;\n",
       "    }\n",
       "</style>\n",
       "<table border=\"1\" class=\"dataframe\">\n",
       "  <thead>\n",
       "    <tr style=\"text-align: right;\">\n",
       "      <th>Actual</th>\n",
       "      <th>0</th>\n",
       "      <th>1</th>\n",
       "      <th>All</th>\n",
       "    </tr>\n",
       "    <tr>\n",
       "      <th>Predict</th>\n",
       "      <th></th>\n",
       "      <th></th>\n",
       "      <th></th>\n",
       "    </tr>\n",
       "  </thead>\n",
       "  <tbody>\n",
       "    <tr>\n",
       "      <th>0</th>\n",
       "      <td>188</td>\n",
       "      <td>46</td>\n",
       "      <td>234</td>\n",
       "    </tr>\n",
       "    <tr>\n",
       "      <th>1</th>\n",
       "      <td>21</td>\n",
       "      <td>45</td>\n",
       "      <td>66</td>\n",
       "    </tr>\n",
       "    <tr>\n",
       "      <th>All</th>\n",
       "      <td>209</td>\n",
       "      <td>91</td>\n",
       "      <td>300</td>\n",
       "    </tr>\n",
       "  </tbody>\n",
       "</table>\n",
       "</div>"
      ],
      "text/plain": [
       "Actual     0   1  All\n",
       "Predict              \n",
       "0        188  46  234\n",
       "1         21  45   66\n",
       "All      209  91  300"
      ]
     },
     "execution_count": 43,
     "metadata": {},
     "output_type": "execute_result"
    }
   ],
   "source": [
    "pd.crosstab(logistic.predict(test_x), test_y, \n",
    "            rownames=['Predict'], colnames=['Actual'], margins=True)"
   ]
  },
  {
   "cell_type": "markdown",
   "metadata": {},
   "source": [
    "돈을 잘 갚을 사람(0)을 잘못 예측하여 돈을 잘 못 갚을 것으로 판단하는 것이, 돈을 못 갚을 사람(1)을 잘못 예측하여 돈을 잘 갚을 것으로 판단하는 것보다 낫다.\n",
    "\n",
    "(0)를 예측하는 것보다는 (1)을 예측하는 것이 더 낫다.\n",
    "\n",
    "즉 (1)에 대한 recall은 높아도 된다. 하지만 (0)에 대한 precision이 높아야 한다."
   ]
  },
  {
   "cell_type": "markdown",
   "metadata": {},
   "source": [
    "---\n",
    "\n",
    "만약 thresholds를 변경하여 결과를 도출하고 싶다면? 결과를 커스터마이징을 해야한다. 이것을 위해서는 `predict_proba`를 사용한다."
   ]
  },
  {
   "cell_type": "code",
   "execution_count": 44,
   "metadata": {},
   "outputs": [
    {
     "data": {
      "text/plain": [
       "array([[0.61709306, 0.38290694],\n",
       "       [0.47697571, 0.52302429],\n",
       "       [0.35372188, 0.64627812],\n",
       "       [0.72407789, 0.27592211],\n",
       "       [0.95136662, 0.04863338],\n",
       "       [0.63651175, 0.36348825],\n",
       "       [0.94065189, 0.05934811],\n",
       "       [0.58302568, 0.41697432],\n",
       "       [0.95661977, 0.04338023],\n",
       "       [0.95749706, 0.04250294]])"
      ]
     },
     "execution_count": 44,
     "metadata": {},
     "output_type": "execute_result"
    }
   ],
   "source": [
    "logistic.predict_proba(test_x)[:10]"
   ]
  },
  {
   "cell_type": "code",
   "execution_count": 45,
   "metadata": {},
   "outputs": [
    {
     "data": {
      "text/plain": [
       "array([0.38290694, 0.52302429, 0.64627812, 0.27592211, 0.04863338,\n",
       "       0.36348825, 0.05934811, 0.41697432, 0.04338023, 0.04250294])"
      ]
     },
     "execution_count": 45,
     "metadata": {},
     "output_type": "execute_result"
    }
   ],
   "source": [
    "# 1이 될 확률만 가지고 계산을 하면 된다.\n",
    "logistic.predict_proba(test_x)[:,1][:10]"
   ]
  },
  {
   "cell_type": "code",
   "execution_count": 46,
   "metadata": {},
   "outputs": [
    {
     "data": {
      "text/plain": [
       "array([ True,  True,  True, False, False,  True, False,  True, False,\n",
       "       False])"
      ]
     },
     "execution_count": 46,
     "metadata": {},
     "output_type": "execute_result"
    }
   ],
   "source": [
    "# Threshold 0.3보다 크면 1로 분류한다. : Recall을 상승\n",
    "logistic.predict_proba(test_x)[:,1][:10] > 0.3"
   ]
  },
  {
   "cell_type": "code",
   "execution_count": 47,
   "metadata": {},
   "outputs": [
    {
     "data": {
      "text/plain": [
       "array([0, 1, 1, 0, 0, 0, 0, 0, 0, 0])"
      ]
     },
     "execution_count": 47,
     "metadata": {},
     "output_type": "execute_result"
    }
   ],
   "source": [
    "# 실제 결과와 비교해보자!\n",
    "logistic.predict(test_x)[:10]"
   ]
  },
  {
   "cell_type": "markdown",
   "metadata": {},
   "source": [
    "# Softmax regressor"
   ]
  },
  {
   "cell_type": "markdown",
   "metadata": {},
   "source": [
    "로지스틱 회귀 모델은 여러 개의 이진 분류기를 훈련시켜 연결하지 않고 직접 다중 클래스를 지원하도록 일반화될 수 있다. 이를 소프트맥스 회귀(Softmax regression) 또는 다항 로지스틱 회귀(Multinomial Logistic Regression)이라고 한다.\n",
    "\n",
    "샘플 $x$가 주어지면 먼저 소프트맥스 회귀 모델이 각 클래스 $k$에 대한 점수 $s_k(x)$를 계산하고, 그 점수에 소프트맥스 함수(softmax function) 또는 정규화된 지수함수를 적용하여 각 클래스의 확률을 추정한다. ($K$ : 클래스 수)\n",
    "\n",
    " - 클래스 $k$에 대한 소프트맥스 점수 : $s_k(x)=(\\theta^{(k)})^Tx$\n",
    " - 소프트맥스 함수 : $\\hat{p}_k=\\sigma\\left(\\mathbf{s}(\\mathbf{x})\\right)_k = \\dfrac{\\exp\\left(s_k(\\mathbf{x})\\right)}{\\sum\\limits_{j=1}^{K}{\\exp\\left(s_j(\\mathbf{x})\\right)}}$\n",
    "     \n",
    "- Cost function : $J(\\mathbf{\\Theta}) =\n",
    "- \\dfrac{1}{m}\\sum\\limits_{i=1}^{m}\\sum\\limits_{k=1}^{K}{y_k^{(i)}\\log\\left(\\hat{p}_k^{(i)}\\right)}$\n",
    "\n",
    "- Equation for the gradients : $\\nabla_{\\mathbf{\\theta}^{(k)}} \\, J(\\mathbf{\\Theta}) = \\dfrac{1}{m} \\sum\\limits_{i=1}^{m}{ \\left ( \\hat{p}^{(i)}_k - y_k^{(i)} \\right ) \\mathbf{x}^{(i)}}$"
   ]
  },
  {
   "cell_type": "markdown",
   "metadata": {},
   "source": [
    "## (1)  데이터 로딩"
   ]
  },
  {
   "cell_type": "code",
   "execution_count": 48,
   "metadata": {},
   "outputs": [
    {
     "data": {
      "text/plain": [
       "['data', 'target', 'target_names', 'DESCR', 'feature_names']"
      ]
     },
     "execution_count": 48,
     "metadata": {},
     "output_type": "execute_result"
    }
   ],
   "source": [
    "from sklearn import datasets\n",
    "iris = datasets.load_iris()\n",
    "\n",
    "# 데이터셋의 내부구조를 보려면..\n",
    "list(iris.keys())"
   ]
  },
  {
   "cell_type": "code",
   "execution_count": 49,
   "metadata": {},
   "outputs": [],
   "source": [
    "X = iris[\"data\"][:, (2, 3)]  # petal length, petal width\n",
    "y = iris[\"target\"]"
   ]
  },
  {
   "cell_type": "markdown",
   "metadata": {},
   "source": [
    "## (2) 학습셋과 테스트셋 구분"
   ]
  },
  {
   "cell_type": "code",
   "execution_count": 50,
   "metadata": {},
   "outputs": [],
   "source": [
    "# Softmax classifier의 동작을 살펴보기 위하여, scaling은 우선 무시 (데이터의 양도 적다.)\n",
    "train_x, test_x, train_y, test_y = train_test_split(X, y, test_size = 0.3, random_state=42)"
   ]
  },
  {
   "cell_type": "code",
   "execution_count": 51,
   "metadata": {},
   "outputs": [
    {
     "data": {
      "text/plain": [
       "array([[3.7, 1. ],\n",
       "       [5.1, 1.5],\n",
       "       [5.5, 1.8]])"
      ]
     },
     "execution_count": 51,
     "metadata": {},
     "output_type": "execute_result"
    }
   ],
   "source": [
    "train_x[:3]"
   ]
  },
  {
   "cell_type": "code",
   "execution_count": 52,
   "metadata": {},
   "outputs": [
    {
     "data": {
      "text/plain": [
       "array([1, 2, 2])"
      ]
     },
     "execution_count": 52,
     "metadata": {},
     "output_type": "execute_result"
    }
   ],
   "source": [
    "train_y[:3]"
   ]
  },
  {
   "cell_type": "markdown",
   "metadata": {},
   "source": [
    "## (3) Softmax classifier 학습"
   ]
  },
  {
   "cell_type": "code",
   "execution_count": 53,
   "metadata": {},
   "outputs": [
    {
     "data": {
      "text/plain": [
       "LogisticRegression(C=10, class_weight=None, dual=False, fit_intercept=True,\n",
       "          intercept_scaling=1, max_iter=100, multi_class='multinomial',\n",
       "          n_jobs=1, penalty='l2', random_state=42, solver='lbfgs',\n",
       "          tol=0.0001, verbose=0, warm_start=False)"
      ]
     },
     "execution_count": 53,
     "metadata": {},
     "output_type": "execute_result"
    }
   ],
   "source": [
    "softmax_reg = LogisticRegression(multi_class=\"multinomial\",solver=\"lbfgs\", C=10, random_state=42)\n",
    "softmax_reg.fit(train_x, train_y)"
   ]
  },
  {
   "cell_type": "markdown",
   "metadata": {},
   "source": [
    "## (4 )정확도 측정"
   ]
  },
  {
   "cell_type": "markdown",
   "metadata": {},
   "source": [
    "학습 셋에서의 정확도를 살펴보자."
   ]
  },
  {
   "cell_type": "code",
   "execution_count": 54,
   "metadata": {},
   "outputs": [
    {
     "data": {
      "text/plain": [
       "0.9523809523809523"
      ]
     },
     "execution_count": 54,
     "metadata": {},
     "output_type": "execute_result"
    }
   ],
   "source": [
    "accuracy_score(train_y, softmax_reg.predict(train_x))"
   ]
  },
  {
   "cell_type": "code",
   "execution_count": 55,
   "metadata": {},
   "outputs": [
    {
     "data": {
      "text/plain": [
       "[<matplotlib.lines.Line2D at 0x1a20240e48>]"
      ]
     },
     "execution_count": 55,
     "metadata": {},
     "output_type": "execute_result"
    },
    {
     "data": {
      "image/png": "[encoded data removed]",
      "text/plain": [
       "<matplotlib.figure.Figure at 0x1a201f6908>"
      ]
     },
     "metadata": {
      "needs_background": "light"
     },
     "output_type": "display_data"
    }
   ],
   "source": [
    "plt.plot(train_x[train_y==2, 0], train_x[train_y==2, 1], \"g^\", label=\"Iris-Virginica\")\n",
    "plt.plot(train_x[train_y==1, 0], train_x[train_y==1, 1], \"bs\", label=\"Iris-Versicolor\")\n",
    "plt.plot(train_x[train_y==0, 0], train_x[train_y==0, 1], \"yo\", label=\"Iris-Setosa\")"
   ]
  },
  {
   "cell_type": "markdown",
   "metadata": {},
   "source": [
    "테스트 셋에서의 정확도를 살펴보자."
   ]
  },
  {
   "cell_type": "code",
   "execution_count": 56,
   "metadata": {},
   "outputs": [
    {
     "data": {
      "text/plain": [
       "1.0"
      ]
     },
     "execution_count": 56,
     "metadata": {},
     "output_type": "execute_result"
    }
   ],
   "source": [
    "accuracy_score(test_y, softmax_reg.predict(test_x))"
   ]
  },
  {
   "cell_type": "code",
   "execution_count": 57,
   "metadata": {},
   "outputs": [
    {
     "data": {
      "text/plain": [
       "[<matplotlib.lines.Line2D at 0x1a20305978>]"
      ]
     },
     "execution_count": 57,
     "metadata": {},
     "output_type": "execute_result"
    },
    {
     "data": {
      "image/png": "[encoded data removed]",
      "text/plain": [
       "<matplotlib.figure.Figure at 0x1a2024a390>"
      ]
     },
     "metadata": {
      "needs_background": "light"
     },
     "output_type": "display_data"
    }
   ],
   "source": [
    "plt.plot(test_x[test_y==2, 0], test_x[test_y==2, 1], \"g^\", label=\"Iris-Virginica\")\n",
    "plt.plot(test_x[test_y==1, 0], test_x[test_y==1, 1], \"bs\", label=\"Iris-Versicolor\")\n",
    "plt.plot(test_x[test_y==0, 0], test_x[test_y==0, 1], \"yo\", label=\"Iris-Setosa\")"
   ]
  },
  {
   "cell_type": "markdown",
   "metadata": {},
   "source": [
    "## <font color=red>(5) Desicion function for softmax regression</font>"
   ]
  },
  {
   "cell_type": "markdown",
   "metadata": {},
   "source": [
    "학습 셋의 샘플 1개를 가지고 테스트를 해보자."
   ]
  },
  {
   "cell_type": "code",
   "execution_count": 58,
   "metadata": {},
   "outputs": [
    {
     "data": {
      "text/plain": [
       "array([3.7, 1. ])"
      ]
     },
     "execution_count": 58,
     "metadata": {},
     "output_type": "execute_result"
    }
   ],
   "source": [
    "sample = train_x[0]\n",
    "sample"
   ]
  },
  {
   "cell_type": "code",
   "execution_count": 59,
   "metadata": {},
   "outputs": [
    {
     "name": "stdout",
     "output_type": "stream",
     "text": [
      "Sample이 속한 클래스 : 1\n"
     ]
    }
   ],
   "source": [
    "print('Sample이 속한 클래스 :', train_y[0])"
   ]
  },
  {
   "cell_type": "markdown",
   "metadata": {},
   "source": [
    "> 각 클래스의 파라미터 : $\\Theta^{(k)}$"
   ]
  },
  {
   "cell_type": "code",
   "execution_count": 60,
   "metadata": {},
   "outputs": [
    {
     "data": {
      "text/plain": [
       "array([[-4.20708644, -2.04246871],\n",
       "       [ 0.25446021, -1.75720986],\n",
       "       [ 3.95262623,  3.79967857]])"
      ]
     },
     "execution_count": 60,
     "metadata": {},
     "output_type": "execute_result"
    }
   ],
   "source": [
    "softmax_reg.coef_"
   ]
  },
  {
   "cell_type": "code",
   "execution_count": 61,
   "metadata": {},
   "outputs": [],
   "source": [
    "class_0_theta = softmax_reg.coef_[0]\n",
    "class_1_theta = softmax_reg.coef_[1]\n",
    "class_2_theta = softmax_reg.coef_[2]"
   ]
  },
  {
   "cell_type": "code",
   "execution_count": 62,
   "metadata": {},
   "outputs": [
    {
     "data": {
      "text/plain": [
       "array([ 16.88144597,   5.11998802, -22.00143398])"
      ]
     },
     "execution_count": 62,
     "metadata": {},
     "output_type": "execute_result"
    }
   ],
   "source": [
    "softmax_reg.intercept_"
   ]
  },
  {
   "cell_type": "markdown",
   "metadata": {},
   "source": [
    "> 소프트맥스 점수 : $s_k(x)=(\\Theta^{(k)})^Tx$ ($\\Theta$의 shape에 맞추어 transpose를 쓰거나 쓰지 않지만, 결국 벡터내적을 의미한다.)"
   ]
  },
  {
   "cell_type": "code",
   "execution_count": 63,
   "metadata": {},
   "outputs": [],
   "source": [
    "a = np.dot(class_0_theta, sample) + softmax_reg.intercept_[0]\n",
    "b = np.dot(class_1_theta, sample) + softmax_reg.intercept_[1]\n",
    "c = np.dot(class_2_theta, sample) + softmax_reg.intercept_[2]"
   ]
  },
  {
   "cell_type": "code",
   "execution_count": 64,
   "metadata": {},
   "outputs": [
    {
     "name": "stdout",
     "output_type": "stream",
     "text": [
      "첫번째 클래스의 소프트맥스 점수 : -0.7272425720708888\n",
      "두번째 클래스의 소프트맥스 점수 : 4.304280943372134\n",
      "세번째 클래스의 소프트맥스 점수 : -3.577038371299949\n"
     ]
    }
   ],
   "source": [
    "print('첫번째 클래스의 소프트맥스 점수 :', a)\n",
    "print('두번째 클래스의 소프트맥스 점수 :', b)\n",
    "print('세번째 클래스의 소프트맥스 점수 :', c)"
   ]
  },
  {
   "cell_type": "code",
   "execution_count": 65,
   "metadata": {},
   "outputs": [
    {
     "data": {
      "text/plain": [
       "array([-0.72724257,  4.30428094, -3.57703837])"
      ]
     },
     "execution_count": 65,
     "metadata": {},
     "output_type": "execute_result"
    }
   ],
   "source": [
    "# Softmax classifier에서 해당값을 찾아볼수 있다.\n",
    "softmax_reg.decision_function(train_x)[0]"
   ]
  },
  {
   "cell_type": "markdown",
   "metadata": {},
   "source": [
    ">  - 소프트맥스 함수 : $\\hat{p}_k=\\sigma\\left(\\mathbf{s}(\\mathbf{x})\\right)_k = \\dfrac{\\exp\\left(s_k(\\mathbf{x})\\right)}{\\sum\\limits_{j=1}^{K}{\\exp\\left(s_j(\\mathbf{x})\\right)}}$"
   ]
  },
  {
   "cell_type": "code",
   "execution_count": 66,
   "metadata": {},
   "outputs": [
    {
     "name": "stdout",
     "output_type": "stream",
     "text": [
      "첫번째 클래스의 소프트맥스 값 : 0.006484073336769845\n",
      "두번째 클래스의 소프트맥스 값 : 0.9931407832478082\n",
      "세번째 클래스의 소프트맥스 값 : 0.00037514341542191733\n"
     ]
    }
   ],
   "source": [
    "# 직접 구해보는 것\n",
    "print('첫번째 클래스의 소프트맥스 값 :', np.exp(a) / (np.exp(a) + np.exp(b) + np.exp(c)))\n",
    "print('두번째 클래스의 소프트맥스 값 :', np.exp(b) / (np.exp(a) + np.exp(b) + np.exp(c)))\n",
    "print('세번째 클래스의 소프트맥스 값 :', np.exp(c) / (np.exp(a) + np.exp(b) + np.exp(c)))"
   ]
  },
  {
   "cell_type": "code",
   "execution_count": 67,
   "metadata": {},
   "outputs": [
    {
     "data": {
      "text/plain": [
       "array([[6.48407334e-03, 9.93140783e-01, 3.75143415e-04]])"
      ]
     },
     "execution_count": 67,
     "metadata": {},
     "output_type": "execute_result"
    }
   ],
   "source": [
    "# 소프트맥스 클래스를 호출\n",
    "from sklearn.utils.extmath import softmax\n",
    "softmax([[a, b, c]])"
   ]
  },
  {
   "cell_type": "code",
   "execution_count": 68,
   "metadata": {},
   "outputs": [
    {
     "data": {
      "text/plain": [
       "array([6.48407334e-03, 9.93140783e-01, 3.75143415e-04])"
      ]
     },
     "execution_count": 68,
     "metadata": {},
     "output_type": "execute_result"
    }
   ],
   "source": [
    "# Softmax classifier에서 해당값을 찾아볼수 있다.\n",
    "softmax_reg.predict_proba(train_x)[0]"
   ]
  }
 ],
 "metadata": {
  "kernelspec": {
   "display_name": "Python 3",
   "language": "python",
   "name": "python3"
  },
  "language_info": {
   "codemirror_mode": {
    "name": "ipython",
    "version": 3
   },
   "file_extension": ".py",
   "mimetype": "text/x-python",
   "name": "python",
   "nbconvert_exporter": "python",
   "pygments_lexer": "ipython3",
   "version": "3.6.7"
  },
  "nav_menu": {},
  "toc": {
   "navigate_menu": true,
   "number_sections": true,
   "sideBar": true,
   "threshold": 6,
   "toc_cell": false,
   "toc_section_display": "block",
   "toc_window_display": false
  }
 },
 "nbformat": 4,
 "nbformat_minor": 1
}
