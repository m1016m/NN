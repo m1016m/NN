{
 "cells": [
  {
   "cell_type": "code",
   "execution_count": 1,
   "metadata": {},
   "outputs": [],
   "source": [
    "import warnings\n",
    "warnings.filterwarnings('ignore')"
   ]
  },
  {
   "cell_type": "markdown",
   "metadata": {},
   "source": [
    "# Boosting & Stacking"
   ]
  },
  {
   "cell_type": "markdown",
   "metadata": {},
   "source": [
    "Boostring(부스팅)은 약한 learner(학습기)를 여러 개 연결하여 강한 학습기를 만드는 ensemble 기법이다. Boosting의 main idea는 **<font color=red>앞의 모델을 보완</font>**해나가면서 일련의 learn(학습기)를 학습시키는 것이다. 어떤 방법으로 보완을 할까?"
   ]
  },
  {
   "cell_type": "markdown",
   "metadata": {},
   "source": [
    "Boosting의 종류\n",
    "- **AdaBoost(에이다 부스트, Adaptive Boostring)**\n",
    "- **Gradient Boostring(그레디언트 부스팅)**\n",
    "- XGBoost\n",
    "- CatBoost"
   ]
  },
  {
   "cell_type": "markdown",
   "metadata": {},
   "source": [
    "---\n",
    "*(Advanced)*\n",
    "\n",
    "### Classifer를 입력으로 받고, 결정경계를 그려주는 Help 함수"
   ]
  },
  {
   "cell_type": "code",
   "execution_count": 2,
   "metadata": {},
   "outputs": [],
   "source": [
    "from matplotlib.colors import ListedColormap\n",
    "import matplotlib.pyplot as plt\n",
    "import numpy as np\n",
    "\n",
    "def plot_decision_boundary(clf, X, y, axes=[-1.5, 2.5, -1, 1.5], alpha=0.5, contour=True):\n",
    "    x1s = np.linspace(axes[0], axes[1], 100)\n",
    "    x2s = np.linspace(axes[2], axes[3], 100)\n",
    "    x1, x2 = np.meshgrid(x1s, x2s)\n",
    "    X_new = np.c_[x1.ravel(), x2.ravel()]\n",
    "    y_pred = clf.predict(X_new).reshape(x1.shape)\n",
    "    custom_cmap = ListedColormap(['#fafab0','#9898ff','#a0faa0'])\n",
    "    plt.contourf(x1, x2, y_pred, alpha=0.3, cmap=custom_cmap)\n",
    "    if contour:\n",
    "        custom_cmap2 = ListedColormap(['#7d7d58','#4c4c7f','#507d50'])\n",
    "        plt.contour(x1, x2, y_pred, cmap=custom_cmap2, alpha=0.8)\n",
    "    plt.plot(X[:, 0][y==0], X[:, 1][y==0], \"yo\", alpha=alpha)\n",
    "    plt.plot(X[:, 0][y==1], X[:, 1][y==1], \"bs\", alpha=alpha)\n",
    "    plt.axis(axes)\n",
    "    plt.xlabel(r\"$x_1$\", fontsize=18)\n",
    "    plt.ylabel(r\"$x_2$\", fontsize=18, rotation=0)"
   ]
  },
  {
   "cell_type": "markdown",
   "metadata": {},
   "source": [
    "---"
   ]
  },
  {
   "cell_type": "markdown",
   "metadata": {},
   "source": [
    "## 1. AdaBoost\n",
    "이전 학습기(learner)를 보완하는 새로운 학습기를 만드는 방법으로, <font color=red>이전 모델이 과소적합했던 훈련 샘플의 가중치를 더 높이는</font> 방법을 선택하는 분류기이다. 이렇게 하면 새로운 학습기는 학습하기 어려운 샘플에 점점 더 맞춰지게 된다.\n",
    "\n",
    "에이다 부스트 분류기를 만들려면 \n",
    "   - 기반이 되는 첫 번째 분류기(예를 들어 결정 트리)를 훈련 세트에서 훈련시키고 예측을 만든다.\n",
    "   - 잘못 분류된 훈련 샘플의 가중치를 상대적으로 높인다.\n",
    "   - 두 번째 분류기는 업데이트된 가중치를 사용해 훈련 세트에서 훈련하고 다시 예측을 만든다."
   ]
  },
  {
   "cell_type": "markdown",
   "metadata": {},
   "source": [
    "### 데이터셋 로딩 / 학습, 테스트 셋 구분"
   ]
  },
  {
   "cell_type": "code",
   "execution_count": 3,
   "metadata": {},
   "outputs": [],
   "source": [
    "from sklearn.datasets import make_moons\n",
    "X, y = make_moons(n_samples=500, noise=0.30, random_state=42)"
   ]
  },
  {
   "cell_type": "code",
   "execution_count": 4,
   "metadata": {},
   "outputs": [],
   "source": [
    "from sklearn.model_selection import train_test_split\n",
    "X_train, X_test, y_train, y_test = train_test_split(X, y, random_state=42)"
   ]
  },
  {
   "cell_type": "markdown",
   "metadata": {},
   "source": [
    "### 학습\n",
    "\n",
    "Sklearn에서는 `AdaBoostClassifier`를 제공한다. \n",
    "\n",
    "에이다 부스트에서 사용하는 약한 학습기는 깊이가 1인 의사결정 그루터기(stump)를 사용한다."
   ]
  },
  {
   "cell_type": "code",
   "execution_count": 5,
   "metadata": {},
   "outputs": [],
   "source": [
    "from sklearn.tree import DecisionTreeClassifier\n",
    "stump = DecisionTreeClassifier(max_depth=1)"
   ]
  },
  {
   "cell_type": "code",
   "execution_count": 6,
   "metadata": {},
   "outputs": [],
   "source": [
    "from sklearn.ensemble import AdaBoostClassifier\n",
    "\n",
    "ada_clf = AdaBoostClassifier(\n",
    "    base_estimator=stump, \n",
    "    n_estimators=200,\n",
    "    algorithm=\"SAMME\", \n",
    "    learning_rate=0.5, \n",
    "    random_state=42\n",
    ")"
   ]
  },
  {
   "cell_type": "code",
   "execution_count": 7,
   "metadata": {},
   "outputs": [
    {
     "data": {
      "text/plain": [
       "AdaBoostClassifier(algorithm='SAMME',\n",
       "          base_estimator=DecisionTreeClassifier(class_weight=None, criterion='gini', max_depth=1,\n",
       "            max_features=None, max_leaf_nodes=None,\n",
       "            min_impurity_decrease=0.0, min_impurity_split=None,\n",
       "            min_samples_leaf=1, min_samples_split=2,\n",
       "            min_weight_fraction_leaf=0.0, presort=False, random_state=None,\n",
       "            splitter='best'),\n",
       "          learning_rate=0.5, n_estimators=200, random_state=42)"
      ]
     },
     "execution_count": 7,
     "metadata": {},
     "output_type": "execute_result"
    }
   ],
   "source": [
    "ada_clf.fit(X_train, y_train)"
   ]
  },
  {
   "cell_type": "code",
   "execution_count": 8,
   "metadata": {},
   "outputs": [
    {
     "data": {
      "image/png": "[encoded data removed]",
      "text/plain": [
       "<matplotlib.figure.Figure at 0x1a1071ea90>"
      ]
     },
     "metadata": {
      "needs_background": "light"
     },
     "output_type": "display_data"
    }
   ],
   "source": [
    "# 결정 경계를 plotting 한다.\n",
    "plot_decision_boundary(ada_clf, X, y)"
   ]
  },
  {
   "cell_type": "markdown",
   "metadata": {},
   "source": [
    "### Adaboost  algorithm"
   ]
  },
  {
   "cell_type": "markdown",
   "metadata": {},
   "source": [
    "1. 각 샘플 가중치 $w^{(i)}$는 초기에 $\\frac{1}{m}$로 초기화\n",
    "2. 가중치가 적용된 에러율 $r_j$가 훈련 세트에 대해 계산됨. \n",
    "    - $r_{j} = \\frac{\\hat{y}_{j}^{(i)}\\neq y^{(i)}}{\\sum_{i=1}^{m}w^{(i)}} \\text{ where } \\hat{y}_{j}^{(i)} \\text{ is a prediction of i-th sample from j-th base learner}$\n",
    "3. 에러율을 기반으로 예측기의 가중치 $\\alpha_j$이 계산됨.\n",
    "    - $\\alpha_j=\\eta \\log{({\\frac{1-r_j}{r_j}})}$\n",
    "4. 예측기의 가중치를 기반으로 샘플의 가중치를 업데이트. 즉, 잘못 분류된 샘플의 가중치가 증가\n",
    "    - $w^{(i)} = w^{(i)} \\text{ where } \\hat{y}_j^{(i)}=y^{(i)}$\n",
    "    - $w^{(i)} = w^{(i)} \\exp{(\\alpha_j)} \\text{ where } \\hat{y}_j^{(i)} \\neq y^{(i)}$\n",
    "5. 모든 샘플의 가중치를 정규화 ($\\sum_{i=1}^{m}w^{(i)}$로 나누어줌)\n",
    "6. 새 예측기가 업데이트된 가중치를 사용해 훈련되고, 2~5의 과정이 다시 반복한다."
   ]
  },
  {
   "cell_type": "markdown",
   "metadata": {},
   "source": [
    "### Prediction using Adaboost algorithm\n",
    "\n",
    "에이다 부스트는 모든 예측기의 예측을 계산하고, 예측기 가중치 $\\alpha_j$를 더해 예측 결과를 만든다. 가중치 합이 가장 큰 클래스가 예측 결과가 된다.\n",
    "\n",
    "- $\\hat{y}_j(x)$ : 샘플 $x$를 $j$번째 예측기를 이용하여 예측한 클래스 결과\n",
    "\n",
    "- $\\alpha_j$ : $j$번째 예측기의 가중치\n",
    "\n",
    "$$\\hat{y}(x)=\\arg \\max_k \\sum_{j=1, \\hat{y}_j(x)=k}^{N}\\alpha_j$$"
   ]
  },
  {
   "cell_type": "markdown",
   "metadata": {},
   "source": [
    "### SKlearn에서 사용하는 Adaboost algorithm : SAMME, SAMME.R"
   ]
  },
  {
   "cell_type": "markdown",
   "metadata": {},
   "source": [
    "* 다중 클래스(Multi class) 분류기의 경우, Sklearn에서는 SAMME를 사용한다. $K$는 클래스의 수이며 예측기의 가중치를 구하는 식은 아래와 같다.\n",
    "$$\\alpha_j=\\eta (\\log{(\\frac{1-r_j}{r_j})}+\\log(K-1))$$\n",
    "* 예측기가 클래스의 확률을 추정하는 경우는 SAMME.R를 사용한다.\n",
    "$$\\alpha_j=\\eta{\\frac{K-1}{K}}y\\log{\\hat{y}_j}$$ 여기에서 $y$는 정답 클래스일때는 1, 아닐때는 $-\\frac{1}{1-K}$이고, $\\hat{y}_j$는 j번째 예측기가 만든 클래스 확률이다. 예측기별 클래스 확률을 계산해서 합한 후 확률이 가장 높은 클래스를 선택하며 관련 공식은 다음과 같다. $$\\hat{y}(x)=\\arg \\max_k \\sum_{j=1}^{N}(K-1)(\\log{\\hat{y}_j-\\frac{1}{K}\\sum_{k=0}^{K}\\hat{y}_j})$$\n"
   ]
  },
  {
   "cell_type": "markdown",
   "metadata": {},
   "source": [
    "SAMME.R을 사용하는 경우는 다음과 같다."
   ]
  },
  {
   "cell_type": "code",
   "execution_count": 9,
   "metadata": {},
   "outputs": [],
   "source": [
    "from sklearn.ensemble import AdaBoostClassifier\n",
    "\n",
    "ada_clf = AdaBoostClassifier(\n",
    "    DecisionTreeClassifier(max_depth=1), \n",
    "    n_estimators=200,\n",
    "    algorithm=\"SAMME.R\", \n",
    "    learning_rate=0.5, \n",
    "    random_state=42\n",
    ")"
   ]
  },
  {
   "cell_type": "code",
   "execution_count": 10,
   "metadata": {},
   "outputs": [
    {
     "data": {
      "text/plain": [
       "AdaBoostClassifier(algorithm='SAMME.R',\n",
       "          base_estimator=DecisionTreeClassifier(class_weight=None, criterion='gini', max_depth=1,\n",
       "            max_features=None, max_leaf_nodes=None,\n",
       "            min_impurity_decrease=0.0, min_impurity_split=None,\n",
       "            min_samples_leaf=1, min_samples_split=2,\n",
       "            min_weight_fraction_leaf=0.0, presort=False, random_state=None,\n",
       "            splitter='best'),\n",
       "          learning_rate=0.5, n_estimators=200, random_state=42)"
      ]
     },
     "execution_count": 10,
     "metadata": {},
     "output_type": "execute_result"
    }
   ],
   "source": [
    "ada_clf.fit(X_train, y_train)"
   ]
  },
  {
   "cell_type": "code",
   "execution_count": 11,
   "metadata": {},
   "outputs": [
    {
     "data": {
      "image/png": "[encoded data removed]",
      "text/plain": [
       "<matplotlib.figure.Figure at 0x1a1d209240>"
      ]
     },
     "metadata": {
      "needs_background": "light"
     },
     "output_type": "display_data"
    }
   ],
   "source": [
    "plot_decision_boundary(ada_clf, X, y)"
   ]
  },
  {
   "cell_type": "markdown",
   "metadata": {},
   "source": [
    "## 2. Gradient boosting\n",
    "Gradient boosting은 Adaboost와 동일하게 <U>앙상블 기법</U>과, <U>이전까지의 오차를 보정하도록 예측기를 순차적으로 추가하는 기법</U>을 사용한다. 하지만 Adaboost와는 달리 반복마다 샘플의 가중치를 수정하는 대신, 이전 **<font color=red>예측기가 만든 잔여 오차(residual error)에 새로운 예측기를 학습</font>** 한다."
   ]
  },
  {
   "cell_type": "markdown",
   "metadata": {},
   "source": [
    "### 데이터셋 생성"
   ]
  },
  {
   "cell_type": "code",
   "execution_count": 12,
   "metadata": {},
   "outputs": [],
   "source": [
    "# Noise가 섞인 임의의 데이터 셋을 생성하여 테스트\n",
    "np.random.seed(42)\n",
    "\n",
    "# Uniform distribution을 따르는 데이터\n",
    "X = np.random.rand(100, 1) - 0.5\n",
    "y = 3 * X[:, 0]**2 + 0.05 * np.random.randn(100)"
   ]
  },
  {
   "cell_type": "code",
   "execution_count": 13,
   "metadata": {},
   "outputs": [
    {
     "data": {
      "text/plain": [
       "array([[-0.12545988],\n",
       "       [ 0.45071431],\n",
       "       [ 0.23199394],\n",
       "       [ 0.09865848],\n",
       "       [-0.34398136],\n",
       "       [-0.34400548],\n",
       "       [-0.44191639],\n",
       "       [ 0.36617615],\n",
       "       [ 0.10111501],\n",
       "       [ 0.20807258]])"
      ]
     },
     "execution_count": 13,
     "metadata": {},
     "output_type": "execute_result"
    }
   ],
   "source": [
    "X[:10]"
   ]
  },
  {
   "cell_type": "code",
   "execution_count": 14,
   "metadata": {},
   "outputs": [
    {
     "data": {
      "text/plain": [
       "array([ 0.0515729 ,  0.59447979,  0.16605161, -0.07017796,  0.34398593,\n",
       "        0.37287494,  0.65976498,  0.3763414 , -0.00975194,  0.10479474])"
      ]
     },
     "execution_count": 14,
     "metadata": {},
     "output_type": "execute_result"
    }
   ],
   "source": [
    "y[:10]"
   ]
  },
  {
   "cell_type": "markdown",
   "metadata": {},
   "source": [
    "### Gradient Boosted Regression Tree (GBRT)"
   ]
  },
  {
   "cell_type": "markdown",
   "metadata": {},
   "source": [
    "> Case 1 : Decision tree 3개를 이용하여, GBRT를 직접 구현"
   ]
  },
  {
   "cell_type": "code",
   "execution_count": 15,
   "metadata": {},
   "outputs": [
    {
     "data": {
      "text/plain": [
       "DecisionTreeRegressor(criterion='mse', max_depth=2, max_features=None,\n",
       "           max_leaf_nodes=None, min_impurity_decrease=0.0,\n",
       "           min_impurity_split=None, min_samples_leaf=1,\n",
       "           min_samples_split=2, min_weight_fraction_leaf=0.0,\n",
       "           presort=False, random_state=42, splitter='best')"
      ]
     },
     "execution_count": 15,
     "metadata": {},
     "output_type": "execute_result"
    }
   ],
   "source": [
    "from sklearn.tree import DecisionTreeRegressor\n",
    "\n",
    "tree_reg1 = DecisionTreeRegressor(max_depth=2, random_state=42)\n",
    "tree_reg1.fit(X, y)"
   ]
  },
  {
   "cell_type": "markdown",
   "metadata": {},
   "source": [
    "이전 예측기가 만든 **잔여 오차**를 구하자."
   ]
  },
  {
   "cell_type": "code",
   "execution_count": 16,
   "metadata": {},
   "outputs": [],
   "source": [
    "# 이전 예측기가 만든 잔여 오차가 y2\n",
    "y2 = y - tree_reg1.predict(X)"
   ]
  },
  {
   "cell_type": "code",
   "execution_count": 17,
   "metadata": {},
   "outputs": [],
   "source": [
    "tree_reg2 = DecisionTreeRegressor(max_depth=2, random_state=42)"
   ]
  },
  {
   "cell_type": "markdown",
   "metadata": {},
   "source": [
    "<font color=red>두 번째 학습기에서는 기존의 학습셋인 $y$가 아닌 잔여오차 $y2$를 이용하여 학습한다.</font>"
   ]
  },
  {
   "cell_type": "code",
   "execution_count": 18,
   "metadata": {},
   "outputs": [
    {
     "data": {
      "text/plain": [
       "DecisionTreeRegressor(criterion='mse', max_depth=2, max_features=None,\n",
       "           max_leaf_nodes=None, min_impurity_decrease=0.0,\n",
       "           min_impurity_split=None, min_samples_leaf=1,\n",
       "           min_samples_split=2, min_weight_fraction_leaf=0.0,\n",
       "           presort=False, random_state=42, splitter='best')"
      ]
     },
     "execution_count": 18,
     "metadata": {},
     "output_type": "execute_result"
    }
   ],
   "source": [
    "tree_reg2.fit(X, y2)"
   ]
  },
  {
   "cell_type": "markdown",
   "metadata": {},
   "source": [
    "세 번째 학습기에서는 두 번째 학습기에서 발생한 잔여 오차에 학습한다."
   ]
  },
  {
   "cell_type": "code",
   "execution_count": 19,
   "metadata": {},
   "outputs": [],
   "source": [
    "y3 = y2 - tree_reg2.predict(X)"
   ]
  },
  {
   "cell_type": "code",
   "execution_count": 20,
   "metadata": {},
   "outputs": [
    {
     "data": {
      "text/plain": [
       "DecisionTreeRegressor(criterion='mse', max_depth=2, max_features=None,\n",
       "           max_leaf_nodes=None, min_impurity_decrease=0.0,\n",
       "           min_impurity_split=None, min_samples_leaf=1,\n",
       "           min_samples_split=2, min_weight_fraction_leaf=0.0,\n",
       "           presort=False, random_state=42, splitter='best')"
      ]
     },
     "execution_count": 20,
     "metadata": {},
     "output_type": "execute_result"
    }
   ],
   "source": [
    "tree_reg3 = DecisionTreeRegressor(max_depth=2, random_state=42)\n",
    "tree_reg3.fit(X, y3)"
   ]
  },
  {
   "cell_type": "code",
   "execution_count": 21,
   "metadata": {},
   "outputs": [],
   "source": [
    "# 테스트를 위해 값을 생성 (2번째 케이스에서 생성하는 모델과 비교해보자.)\n",
    "X_new = np.array([[0.8]])"
   ]
  },
  {
   "cell_type": "markdown",
   "metadata": {},
   "source": [
    "GBRT의 예측값은 **각 예측기 결과의 총합**이다."
   ]
  },
  {
   "cell_type": "code",
   "execution_count": 22,
   "metadata": {},
   "outputs": [],
   "source": [
    "y_pred = sum(tree.predict(X_new) for tree in (tree_reg1, tree_reg2, tree_reg3))"
   ]
  },
  {
   "cell_type": "code",
   "execution_count": 23,
   "metadata": {},
   "outputs": [
    {
     "data": {
      "text/plain": [
       "array([0.75026781])"
      ]
     },
     "execution_count": 23,
     "metadata": {},
     "output_type": "execute_result"
    }
   ],
   "source": [
    "y_pred"
   ]
  },
  {
   "cell_type": "markdown",
   "metadata": {},
   "source": [
    "---\n",
    "(Advnaced)"
   ]
  },
  {
   "cell_type": "code",
   "execution_count": 24,
   "metadata": {},
   "outputs": [
    {
     "data": {
      "image/png": "[encoded data removed]",
      "text/plain": [
       "<matplotlib.figure.Figure at 0x1a1d3cdf98>"
      ]
     },
     "metadata": {
      "needs_background": "light"
     },
     "output_type": "display_data"
    }
   ],
   "source": [
    "def plot_predictions(regressors, X, y, axes, label=None, style=\"r-\", data_style=\"b.\", data_label=None):\n",
    "    x1 = np.linspace(axes[0], axes[1], 500)\n",
    "    y_pred = sum(regressor.predict(x1.reshape(-1, 1)) for regressor in regressors)\n",
    "    plt.plot(X[:, 0], y, data_style, label=data_label)\n",
    "    plt.plot(x1, y_pred, style, linewidth=2, label=label)\n",
    "    if label or data_label:\n",
    "        plt.legend(loc=\"upper center\", fontsize=16)\n",
    "    plt.axis(axes)\n",
    "\n",
    "plt.figure(figsize=(11,11))\n",
    "\n",
    "plt.subplot(321)\n",
    "plot_predictions([tree_reg1], X, y, axes=[-0.5, 0.5, -0.1, 0.8], label=\"$h_1(x_1)$\", style=\"g-\", data_label=\"Training set\")\n",
    "plt.ylabel(\"$y$\", fontsize=16, rotation=0)\n",
    "plt.title(\"Residuals and tree predictions\", fontsize=16)\n",
    "\n",
    "plt.subplot(322)\n",
    "plot_predictions([tree_reg1], X, y, axes=[-0.5, 0.5, -0.1, 0.8], label=\"$h(x_1) = h_1(x_1)$\", data_label=\"Training set\")\n",
    "plt.ylabel(\"$y$\", fontsize=16, rotation=0)\n",
    "plt.title(\"Ensemble predictions\", fontsize=16)\n",
    "\n",
    "plt.subplot(323)\n",
    "plot_predictions([tree_reg2], X, y2, axes=[-0.5, 0.5, -0.5, 0.5], label=\"$h_2(x_1)$\", style=\"g-\", data_style=\"k+\", data_label=\"Residuals\")\n",
    "plt.ylabel(\"$y - h_1(x_1)$\", fontsize=16)\n",
    "\n",
    "plt.subplot(324)\n",
    "plot_predictions([tree_reg1, tree_reg2], X, y, axes=[-0.5, 0.5, -0.1, 0.8], label=\"$h(x_1) = h_1(x_1) + h_2(x_1)$\")\n",
    "plt.ylabel(\"$y$\", fontsize=16, rotation=0)\n",
    "\n",
    "plt.subplot(325)\n",
    "plot_predictions([tree_reg3], X, y3, axes=[-0.5, 0.5, -0.5, 0.5], label=\"$h_3(x_1)$\", style=\"g-\", data_style=\"k+\")\n",
    "plt.ylabel(\"$y - h_1(x_1) - h_2(x_1)$\", fontsize=16)\n",
    "plt.xlabel(\"$x_1$\", fontsize=16)\n",
    "\n",
    "plt.subplot(326)\n",
    "plot_predictions([tree_reg1, tree_reg2, tree_reg3], X, y, axes=[-0.5, 0.5, -0.1, 0.8], label=\"$h(x_1) = h_1(x_1) + h_2(x_1) + h_3(x_1)$\")\n",
    "plt.xlabel(\"$x_1$\", fontsize=16)\n",
    "plt.ylabel(\"$y$\", fontsize=16, rotation=0)\n",
    "\n",
    "plt.show()"
   ]
  },
  {
   "cell_type": "markdown",
   "metadata": {},
   "source": [
    "---"
   ]
  },
  {
   "cell_type": "markdown",
   "metadata": {},
   "source": [
    "> Case 2 : Sklearn의 `GradientBoostingRegressor`를 직접사용\n",
    " - 첫 번째 GBRT는 base learner가 3개, learning rate가 1.0 이다.\n",
    " - 두 번째 GBRT는 base learner가 200개, learning rate가 0.1 이다."
   ]
  },
  {
   "cell_type": "code",
   "execution_count": 25,
   "metadata": {},
   "outputs": [
    {
     "data": {
      "text/plain": [
       "GradientBoostingRegressor(alpha=0.9, criterion='friedman_mse', init=None,\n",
       "             learning_rate=1.0, loss='ls', max_depth=2, max_features=None,\n",
       "             max_leaf_nodes=None, min_impurity_decrease=0.0,\n",
       "             min_impurity_split=None, min_samples_leaf=1,\n",
       "             min_samples_split=2, min_weight_fraction_leaf=0.0,\n",
       "             n_estimators=3, presort='auto', random_state=42,\n",
       "             subsample=1.0, verbose=0, warm_start=False)"
      ]
     },
     "execution_count": 25,
     "metadata": {},
     "output_type": "execute_result"
    }
   ],
   "source": [
    "from sklearn.ensemble import GradientBoostingRegressor\n",
    "\n",
    "gbrt = GradientBoostingRegressor(\n",
    "    max_depth=2, \n",
    "    n_estimators=3, \n",
    "    learning_rate=1.0, \n",
    "    random_state=42\n",
    ")\n",
    "gbrt.fit(X, y)"
   ]
  },
  {
   "cell_type": "code",
   "execution_count": 26,
   "metadata": {},
   "outputs": [
    {
     "data": {
      "text/plain": [
       "GradientBoostingRegressor(alpha=0.9, criterion='friedman_mse', init=None,\n",
       "             learning_rate=0.1, loss='ls', max_depth=2, max_features=None,\n",
       "             max_leaf_nodes=None, min_impurity_decrease=0.0,\n",
       "             min_impurity_split=None, min_samples_leaf=1,\n",
       "             min_samples_split=2, min_weight_fraction_leaf=0.0,\n",
       "             n_estimators=200, presort='auto', random_state=42,\n",
       "             subsample=1.0, verbose=0, warm_start=False)"
      ]
     },
     "execution_count": 26,
     "metadata": {},
     "output_type": "execute_result"
    }
   ],
   "source": [
    "gbrt_slow = GradientBoostingRegressor(\n",
    "    max_depth=2, \n",
    "    n_estimators=200, \n",
    "    learning_rate=0.1, \n",
    "    random_state=42\n",
    ")\n",
    "gbrt_slow.fit(X, y)"
   ]
  },
  {
   "cell_type": "markdown",
   "metadata": {},
   "source": [
    "Case 1에서의 예측 결과와 비교해보자. 동일하게 나온다."
   ]
  },
  {
   "cell_type": "code",
   "execution_count": 27,
   "metadata": {},
   "outputs": [
    {
     "data": {
      "text/plain": [
       "array([0.75026781])"
      ]
     },
     "execution_count": 27,
     "metadata": {},
     "output_type": "execute_result"
    }
   ],
   "source": [
    "# 학습기의 수가 3개이며 Case 1에서 생성한 모델과 동일한 모델의 결과\n",
    "gbrt.predict(X_new)"
   ]
  },
  {
   "cell_type": "code",
   "execution_count": 28,
   "metadata": {},
   "outputs": [
    {
     "data": {
      "text/plain": [
       "array([0.74398943])"
      ]
     },
     "execution_count": 28,
     "metadata": {},
     "output_type": "execute_result"
    }
   ],
   "source": [
    "# 학습기의 수가 200개인 모델\n",
    "gbrt_slow.predict(X_new)"
   ]
  },
  {
   "cell_type": "markdown",
   "metadata": {},
   "source": [
    "결과를 시각화 해보자."
   ]
  },
  {
   "cell_type": "code",
   "execution_count": 29,
   "metadata": {},
   "outputs": [
    {
     "data": {
      "image/png": "[encoded data removed]",
      "text/plain": [
       "<matplotlib.figure.Figure at 0x1a1d08e940>"
      ]
     },
     "metadata": {
      "needs_background": "light"
     },
     "output_type": "display_data"
    }
   ],
   "source": [
    "plt.figure(figsize=(11,4))\n",
    "\n",
    "plt.subplot(121)\n",
    "plot_predictions([gbrt], X, y, axes=[-0.5, 0.5, -0.1, 0.8], label=\"Ensemble predictions\")\n",
    "plt.title(\"learning_rate={}, n_estimators={}\" \\\n",
    "          .format(gbrt.learning_rate, gbrt.n_estimators), fontsize=14)\n",
    "\n",
    "plt.subplot(122)\n",
    "plot_predictions([gbrt_slow], X, y, axes=[-0.5, 0.5, -0.1, 0.8])\n",
    "plt.title(\"learning_rate={}, n_estimators={}\" \\\n",
    "          .format(gbrt_slow.learning_rate, gbrt_slow.n_estimators), fontsize=14)\n",
    "\n",
    "plt.show()"
   ]
  },
  {
   "cell_type": "markdown",
   "metadata": {},
   "source": [
    "왼쪽 그림의 경우, 훈련 세트를 학습하기에는 트리가 충분하지 않아서 underfitting이 발생한 반면 오른쪽 그림의 경우, 트리가 너무 많아서 overfitting이 발생했다."
   ]
  },
  {
   "cell_type": "markdown",
   "metadata": {},
   "source": [
    "### 최적의 트리 수를 찾기 위한 방법 : 조기 종료 기법 1\n",
    "\n",
    " - `staged_predict()`: 훈련의 각 단계에서 앙상블에 의해 만들어진 예측기를 순회하는 반복자를 반환한다. 즉 모든 base learner 및 그의 앙상블을 훈련시킨후, 그 앙상블을 순회하면서 검증값을 구함"
   ]
  },
  {
   "cell_type": "code",
   "execution_count": 30,
   "metadata": {},
   "outputs": [],
   "source": [
    "from sklearn.model_selection import train_test_split\n",
    "\n",
    "X_train, X_val, y_train, y_val = train_test_split(X, y, random_state=49)"
   ]
  },
  {
   "cell_type": "code",
   "execution_count": 31,
   "metadata": {},
   "outputs": [
    {
     "data": {
      "text/plain": [
       "GradientBoostingRegressor(alpha=0.9, criterion='friedman_mse', init=None,\n",
       "             learning_rate=0.1, loss='ls', max_depth=2, max_features=None,\n",
       "             max_leaf_nodes=None, min_impurity_decrease=0.0,\n",
       "             min_impurity_split=None, min_samples_leaf=1,\n",
       "             min_samples_split=2, min_weight_fraction_leaf=0.0,\n",
       "             n_estimators=120, presort='auto', random_state=42,\n",
       "             subsample=1.0, verbose=0, warm_start=False)"
      ]
     },
     "execution_count": 31,
     "metadata": {},
     "output_type": "execute_result"
    }
   ],
   "source": [
    "# 예측기 120개를 사용한다.\n",
    "gbrt = GradientBoostingRegressor(max_depth=2, n_estimators=120, random_state=42)\n",
    "gbrt.fit(X_train, y_train)"
   ]
  },
  {
   "cell_type": "markdown",
   "metadata": {},
   "source": [
    "120개의 예측기를 모두 순회하며, mse를 구한다. 따라서 에러를 담은 리스트의 크기는 120이 될 것이다."
   ]
  },
  {
   "cell_type": "code",
   "execution_count": 32,
   "metadata": {},
   "outputs": [],
   "source": [
    "from sklearn.metrics import mean_squared_error\n",
    "\n",
    "errors = [mean_squared_error(y_val, y_pred)\n",
    "          for y_pred in gbrt.staged_predict(X_val)]"
   ]
  },
  {
   "cell_type": "code",
   "execution_count": 33,
   "metadata": {},
   "outputs": [
    {
     "name": "stdout",
     "output_type": "stream",
     "text": [
      "예측기들의 에러 크기 : 120\n"
     ]
    },
    {
     "data": {
      "text/plain": [
       "[0.03976434066090687,\n",
       " 0.03301153878946109,\n",
       " 0.027663386192027795,\n",
       " 0.023337263188229852,\n",
       " 0.020390590545872743]"
      ]
     },
     "execution_count": 33,
     "metadata": {},
     "output_type": "execute_result"
    }
   ],
   "source": [
    "print('예측기들의 에러 크기 :', len(errors))\n",
    "errors[:5]"
   ]
  },
  {
   "cell_type": "markdown",
   "metadata": {},
   "source": [
    "그 중에서 mse의 크기가 가장 작은 예측기를 선택한다."
   ]
  },
  {
   "cell_type": "code",
   "execution_count": 34,
   "metadata": {},
   "outputs": [
    {
     "data": {
      "text/plain": [
       "55"
      ]
     },
     "execution_count": 34,
     "metadata": {},
     "output_type": "execute_result"
    }
   ],
   "source": [
    "bst_n_estimators = np.argmin(errors)\n",
    "bst_n_estimators"
   ]
  },
  {
   "cell_type": "markdown",
   "metadata": {},
   "source": [
    "가장 작은 mse를 가지는 예측기의 개수를 underfitting과 overfitting 사이를 적절하게 균형잡게 하는 예측기의 개수로 이용하자."
   ]
  },
  {
   "cell_type": "code",
   "execution_count": 35,
   "metadata": {},
   "outputs": [],
   "source": [
    "gbrt_best = GradientBoostingRegressor(\n",
    "    max_depth=2,\n",
    "    n_estimators=bst_n_estimators, \n",
    "    random_state=42\n",
    ")"
   ]
  },
  {
   "cell_type": "code",
   "execution_count": 36,
   "metadata": {},
   "outputs": [
    {
     "data": {
      "text/plain": [
       "GradientBoostingRegressor(alpha=0.9, criterion='friedman_mse', init=None,\n",
       "             learning_rate=0.1, loss='ls', max_depth=2, max_features=None,\n",
       "             max_leaf_nodes=None, min_impurity_decrease=0.0,\n",
       "             min_impurity_split=None, min_samples_leaf=1,\n",
       "             min_samples_split=2, min_weight_fraction_leaf=0.0,\n",
       "             n_estimators=55, presort='auto', random_state=42,\n",
       "             subsample=1.0, verbose=0, warm_start=False)"
      ]
     },
     "execution_count": 36,
     "metadata": {},
     "output_type": "execute_result"
    }
   ],
   "source": [
    "gbrt_best.fit(X_train, y_train)"
   ]
  },
  {
   "cell_type": "markdown",
   "metadata": {},
   "source": [
    "예측기의 갯수에 따른 mse의 변화를 시각화해보자."
   ]
  },
  {
   "cell_type": "code",
   "execution_count": 37,
   "metadata": {},
   "outputs": [
    {
     "data": {
      "image/png": "[encoded data removed]",
      "text/plain": [
       "<matplotlib.figure.Figure at 0x1a1d9a26a0>"
      ]
     },
     "metadata": {
      "needs_background": "light"
     },
     "output_type": "display_data"
    }
   ],
   "source": [
    "min_error = np.min(errors)\n",
    "\n",
    "plt.figure(figsize=(11, 4))\n",
    "\n",
    "plt.subplot(121)\n",
    "plt.plot(errors, \"b.-\")\n",
    "plt.plot([bst_n_estimators, bst_n_estimators], [0, min_error], \"k--\")\n",
    "plt.plot([0, 120], [min_error, min_error], \"k--\")\n",
    "plt.plot(bst_n_estimators, min_error, \"ko\")\n",
    "plt.text(bst_n_estimators, min_error*1.2, \"Minimum\", ha=\"center\", fontsize=14)\n",
    "plt.axis([0, 120, 0, 0.01])\n",
    "plt.xlabel(\"Number of trees\")\n",
    "plt.title(\"Validation error\", fontsize=14)\n",
    "\n",
    "plt.subplot(122)\n",
    "plot_predictions([gbrt_best], X, y, axes=[-0.5, 0.5, -0.1, 0.8])\n",
    "plt.title(\"Best model (%d trees)\" % bst_n_estimators, fontsize=14)\n",
    "\n",
    "plt.show()"
   ]
  },
  {
   "cell_type": "markdown",
   "metadata": {},
   "source": [
    "### 최적의 트리 수를 찾기 위한 방법 : 조기 종료 기법 2\n",
    "- 검증 오차가 더 이상 향상되지 않으면 훈련을 멈춘다."
   ]
  },
  {
   "cell_type": "code",
   "execution_count": 38,
   "metadata": {},
   "outputs": [],
   "source": [
    "gbrt = GradientBoostingRegressor(\n",
    "    max_depth=2, \n",
    "    warm_start=True, \n",
    "    random_state=42\n",
    ")"
   ]
  },
  {
   "cell_type": "code",
   "execution_count": 39,
   "metadata": {},
   "outputs": [],
   "source": [
    "min_val_error = float(\"inf\")\n",
    "error_going_up = 0\n",
    "for n_estimators in range(1, 120):\n",
    "    # 학습기의 개수를 1~120으로 변화시켜가며 테스트한다.\n",
    "    gbrt.n_estimators = n_estimators\n",
    "    # 학습한다.\n",
    "    gbrt.fit(X_train, y_train)\n",
    "    # 예측값을 구한다.\n",
    "    y_pred = gbrt.predict(X_val)\n",
    "    # MSE\n",
    "    val_error = mean_squared_error(y_val, y_pred)\n",
    "    # 지금까지 발생했던 가장 작은 에러보다, 더 작은 에러가 발생하면,\n",
    "    # 가장 작은 에러에 현재 발생한 에러를 대입한다.\n",
    "    if val_error < min_val_error:\n",
    "        min_val_error = val_error\n",
    "        error_going_up = 0\n",
    "    # 지금까지 발생했던 에러보다, 현재 발생하는 에러가 큰 경우가 6번 연속인 경우,\n",
    "    # 학습을 끝낸다.\n",
    "    else:\n",
    "        error_going_up += 1\n",
    "        if error_going_up == 5:\n",
    "            break  # Early stopping"
   ]
  },
  {
   "cell_type": "code",
   "execution_count": 40,
   "metadata": {},
   "outputs": [
    {
     "name": "stdout",
     "output_type": "stream",
     "text": [
      "61\n"
     ]
    }
   ],
   "source": [
    "print(gbrt.n_estimators)"
   ]
  },
  {
   "cell_type": "code",
   "execution_count": 41,
   "metadata": {},
   "outputs": [
    {
     "name": "stdout",
     "output_type": "stream",
     "text": [
      "Minimum validation MSE: 0.002712853325235463\n"
     ]
    }
   ],
   "source": [
    "print(\"Minimum validation MSE:\", min_val_error)"
   ]
  },
  {
   "cell_type": "markdown",
   "metadata": {},
   "source": [
    "Sklearn에서 제공하는 `GradientBoostringRegressor`는 각 트리가 훈련할 때 사용할 훈련 샘플의 비율을 지정할 수 있다. \n",
    "\n",
    "이 경우, 각 base learner는 random하게 선택된 훈련 샘플로 학습된다. 따라서 편향이 높아지는 대신, 분산이 낮아지게 된다."
   ]
  },
  {
   "cell_type": "markdown",
   "metadata": {},
   "source": [
    "## 3. XgBoost"
   ]
  },
  {
   "cell_type": "markdown",
   "metadata": {},
   "source": [
    "`xgboost`를 설치한다."
   ]
  },
  {
   "cell_type": "code",
   "execution_count": 43,
   "metadata": {},
   "outputs": [],
   "source": [
    "import xgboost"
   ]
  },
  {
   "cell_type": "markdown",
   "metadata": {},
   "source": [
    "Xgboost를 학습하는 것은 다음과 같다."
   ]
  },
  {
   "cell_type": "code",
   "execution_count": 46,
   "metadata": {},
   "outputs": [
    {
     "name": "stdout",
     "output_type": "stream",
     "text": [
      "Validation MSE: 0.0028512559726563943\n"
     ]
    }
   ],
   "source": [
    "xgb_reg = xgboost.XGBRegressor(random_state=42)\n",
    "xgb_reg.fit(X_train, y_train)\n",
    "\n",
    "y_pred = xgb_reg.predict(X_val)\n",
    "val_error = mean_squared_error(y_val, y_pred)\n",
    "\n",
    "print(\"Validation MSE:\", val_error)"
   ]
  },
  {
   "cell_type": "markdown",
   "metadata": {},
   "source": [
    "Xgboost를 학습하면서, 학습 도중 과대/과소 적합을 검증 할 수 있고, 성능을 측정할 수 있다.\n",
    "\n",
    "학습시에, `eval_set`을 사용하면 된다."
   ]
  },
  {
   "cell_type": "code",
   "execution_count": 47,
   "metadata": {},
   "outputs": [
    {
     "name": "stdout",
     "output_type": "stream",
     "text": [
      "[0]\tvalidation_0-rmse:0.286719\n",
      "Will train until validation_0-rmse hasn't improved in 2 rounds.\n",
      "[1]\tvalidation_0-rmse:0.258221\n",
      "[2]\tvalidation_0-rmse:0.232634\n",
      "[3]\tvalidation_0-rmse:0.210526\n",
      "[4]\tvalidation_0-rmse:0.190232\n",
      "[5]\tvalidation_0-rmse:0.172196\n",
      "[6]\tvalidation_0-rmse:0.156394\n",
      "[7]\tvalidation_0-rmse:0.142241\n",
      "[8]\tvalidation_0-rmse:0.129789\n",
      "[9]\tvalidation_0-rmse:0.118752\n",
      "[10]\tvalidation_0-rmse:0.108388\n",
      "[11]\tvalidation_0-rmse:0.100155\n",
      "[12]\tvalidation_0-rmse:0.09208\n",
      "[13]\tvalidation_0-rmse:0.084791\n",
      "[14]\tvalidation_0-rmse:0.078699\n",
      "[15]\tvalidation_0-rmse:0.073248\n",
      "[16]\tvalidation_0-rmse:0.069391\n",
      "[17]\tvalidation_0-rmse:0.066277\n",
      "[18]\tvalidation_0-rmse:0.063458\n",
      "[19]\tvalidation_0-rmse:0.060326\n",
      "[20]\tvalidation_0-rmse:0.0578\n",
      "[21]\tvalidation_0-rmse:0.055643\n",
      "[22]\tvalidation_0-rmse:0.053943\n",
      "[23]\tvalidation_0-rmse:0.053138\n",
      "[24]\tvalidation_0-rmse:0.052415\n",
      "[25]\tvalidation_0-rmse:0.051821\n",
      "[26]\tvalidation_0-rmse:0.051226\n",
      "[27]\tvalidation_0-rmse:0.051135\n",
      "[28]\tvalidation_0-rmse:0.05091\n",
      "[29]\tvalidation_0-rmse:0.050893\n",
      "[30]\tvalidation_0-rmse:0.050725\n",
      "[31]\tvalidation_0-rmse:0.050471\n",
      "[32]\tvalidation_0-rmse:0.050285\n",
      "[33]\tvalidation_0-rmse:0.050492\n",
      "[34]\tvalidation_0-rmse:0.050348\n",
      "Stopping. Best iteration:\n",
      "[32]\tvalidation_0-rmse:0.050285\n",
      "\n",
      "Validation MSE: 0.002528626115371327\n"
     ]
    }
   ],
   "source": [
    "xgb_reg.fit(X_train, y_train, eval_set=[(X_val, y_val)], early_stopping_rounds=2)\n",
    "\n",
    "y_pred = xgb_reg.predict(X_val)\n",
    "val_error = mean_squared_error(y_val, y_pred)\n",
    "\n",
    "print(\"Validation MSE:\", val_error)"
   ]
  },
  {
   "cell_type": "markdown",
   "metadata": {},
   "source": [
    "Gradient boosted regression tree의 MSE와 비교했을 때 성능이 더 좋다.\n",
    "\n",
    "또한 xgboost는 시스템 최적화를 목표로 하였기 때문에, 속도가 빠르다."
   ]
  },
  {
   "cell_type": "code",
   "execution_count": 51,
   "metadata": {},
   "outputs": [
    {
     "name": "stdout",
     "output_type": "stream",
     "text": [
      "6.19 ms ± 669 µs per loop (mean ± std. dev. of 7 runs, 100 loops each)\n"
     ]
    }
   ],
   "source": [
    "%timeit xgboost.XGBRegressor().fit(X_train, y_train)"
   ]
  },
  {
   "cell_type": "code",
   "execution_count": 52,
   "metadata": {},
   "outputs": [
    {
     "name": "stdout",
     "output_type": "stream",
     "text": [
      "19.1 ms ± 3.7 ms per loop (mean ± std. dev. of 7 runs, 100 loops each)\n"
     ]
    }
   ],
   "source": [
    "%timeit GradientBoostingRegressor().fit(X_train, y_train)"
   ]
  },
  {
   "cell_type": "markdown",
   "metadata": {},
   "source": [
    "## 4. Stacking"
   ]
  },
  {
   "cell_type": "markdown",
   "metadata": {},
   "source": [
    "**Stacked generalization(Stacking)** : Ensemble에 속한 모든 예측기의 예측을 취합하는 간단한 함수(예를 들어, 투표 or 평균)를 사용하는 대신, 예측기의 모든 결과를 취합하는 새로운 학습 모델을 추가적으로 만드는 것이다. 각각의 예측기의 결과를 마지막 meta learner 또는 blender가 입력으로 받아 최종 예측을 출력한다."
   ]
  },
  {
   "cell_type": "markdown",
   "metadata": {},
   "source": [
    "Meta learner or Blender를 학습시키는 일반적인 방법은 hold out 세트를 이용하는 것이다.\n",
    " - 먼저 훈련 세트를 두 개의 subset으로 나눈다.\n",
    "     - 첫 번째 subset은 첫 번째 layer의 모델들을 학습하는데 사용\n",
    "     - 두 번째 subset은 학습된 첫 번째 layer의 모델들로부터 예측값을 얻어, 두 번째 layer를 훈련시키기 위한 input을 생성하는데 사용\n",
    " - 첫 번째 layer의 모델(예측기)들을, 첫 번째 subset을 이용하여 훈련시킨다.\n",
    " - 첫 번째 layer의 모델(예측기)들을 사용해 두 번째 subset에 대한 예측을 생성한다.\n",
    " - 첫 번째 layer의 모델(예측기)들에 의하여, 두 번째 layer(메타 학습기)에 사용할 새로운 훈련 세트가 생성된다.\n",
    " - Target 값은 기존 학습셋에서의 값을 그대로 사용한다.\n",
    " - 메타 학습기가 새 훈련 세트로 훈련한다. 즉, 첫 번째 layer의 예측을 가지고 target value를 예측하도록 학습하는 것이다."
   ]
  }
 ],
 "metadata": {
  "kernelspec": {
   "display_name": "Python 3",
   "language": "python",
   "name": "python3"
  },
  "language_info": {
   "codemirror_mode": {
    "name": "ipython",
    "version": 3
   },
   "file_extension": ".py",
   "mimetype": "text/x-python",
   "name": "python",
   "nbconvert_exporter": "python",
   "pygments_lexer": "ipython3",
   "version": "3.6.7"
  }
 },
 "nbformat": 4,
 "nbformat_minor": 2
}
