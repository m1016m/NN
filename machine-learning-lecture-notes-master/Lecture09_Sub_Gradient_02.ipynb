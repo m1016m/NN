{
 "cells": [
  {
   "cell_type": "markdown",
   "metadata": {},
   "source": [
    "# 경사하강법"
   ]
  },
  {
   "cell_type": "code",
   "execution_count": 12,
   "metadata": {},
   "outputs": [],
   "source": [
    "import matplotlib.pyplot as plt\n",
    "import numpy as np"
   ]
  },
  {
   "cell_type": "markdown",
   "metadata": {},
   "source": [
    "## $f(x, y) = (1-x)^2+100(y-x^2)^2$ 의 최소값을 경사하강법을 (또는 최대값을 경사상승법을) 사용하여 구하라. 해당 함수는 Rosenbrock function이다."
   ]
  },
  {
   "cell_type": "markdown",
   "metadata": {},
   "source": [
    "### 1.1. gradient를 구한다."
   ]
  },
  {
   "cell_type": "markdown",
   "metadata": {},
   "source": [
    "$$\\frac{\\partial}{\\partial x}f(x, y)=400x^3 - 400xy +2x -2$$ $$\\frac{\\partial}{\\partial y}f(x, y)=200y-200x^2$$"
   ]
  },
  {
   "cell_type": "code",
   "execution_count": 13,
   "metadata": {},
   "outputs": [],
   "source": [
    "def get_gradient(v):\n",
    "    \"\"\"편미분 함수를 구한다. 즉 시점에서의 gradient\"\"\"\n",
    "    return [400 * v[0] ** 3 - 400 * v[0] * v[1] + 2 * v[0] - 2, 200 * v[1] - 200 * v[0] ** 2]"
   ]
  },
  {
   "cell_type": "markdown",
   "metadata": {},
   "source": [
    "### 1.2. step을 구한다."
   ]
  },
  {
   "cell_type": "markdown",
   "metadata": {},
   "source": [
    "$$x_{t+1} = x_{t} -\\rho \\frac{\\partial}{\\partial x}f(x, y)=x_{t}-\\rho \\times (400x^3 - 400xy +2x -2)$$\n",
    "$$y_{t+1} = y_{t} -\\rho \\frac{\\partial}{\\partial y}f(x, y)=y_{t}-\\rho \\times (200y-200x^2)$$"
   ]
  },
  {
   "cell_type": "code",
   "execution_count": 14,
   "metadata": {},
   "outputs": [],
   "source": [
    "def step(v, gradient, step_size):\n",
    "    \"\"\"현재 위치에서 step_size와 gradient 이용하여 이동한다.\"\"\"\n",
    "    return [v_i - step_size * direction_i \n",
    "            for v_i, direction_i in zip(v, gradient)]"
   ]
  },
  {
   "cell_type": "markdown",
   "metadata": {},
   "source": [
    "### 1.3. 시작점은 랜덤하게 선택해보자."
   ]
  },
  {
   "cell_type": "code",
   "execution_count": 15,
   "metadata": {},
   "outputs": [
    {
     "data": {
      "text/plain": [
       "[-1, 0]"
      ]
     },
     "execution_count": 15,
     "metadata": {},
     "output_type": "execute_result"
    }
   ],
   "source": [
    "import numpy as np\n",
    "\n",
    "random_generator = np.random.RandomState(42)\n",
    "\n",
    "# 첫번째 시작점 x_0, y_0를 선택한다.\n",
    "v = [random_generator.randint(-1, 1) for _ in range(2)]\n",
    "v"
   ]
  },
  {
   "cell_type": "markdown",
   "metadata": {},
   "source": [
    "### 4. alpha (학습률)를 설정하자."
   ]
  },
  {
   "cell_type": "code",
   "execution_count": 16,
   "metadata": {},
   "outputs": [],
   "source": [
    "alpha = 0.0001"
   ]
  },
  {
   "cell_type": "markdown",
   "metadata": {},
   "source": [
    "### 5. 알고리즘을 멈출 조건을 설정하자.\n",
    "\n",
    "이전의 위치와 현재의 위치가 tolerance 보다 작으면 멈춘다. 즉 $$\\text{dist}(v_t, v_{t+1}) < \\text{tolerance} \\text{  where  } v=(x, y)$$ 이면 멈춘다."
   ]
  },
  {
   "cell_type": "code",
   "execution_count": 17,
   "metadata": {},
   "outputs": [],
   "source": [
    "import math\n",
    "def distance(v, w):\n",
    "    return math.sqrt(sum([(v_i - w_i)**2 for v_i, w_i in zip(v, w)]))"
   ]
  },
  {
   "cell_type": "code",
   "execution_count": 18,
   "metadata": {},
   "outputs": [
    {
     "name": "stdout",
     "output_type": "stream",
     "text": [
      "[-0.19761380324149116, 0.043302073938762155]\n",
      "[0.18222993666997303, 0.03063037818988261]\n",
      "[0.3913056052634935, 0.15015858076679264]\n",
      "[0.5108042594356964, 0.25846952517092364]\n",
      "[0.5912087224977017, 0.34750822139323573]\n",
      "[0.6504802693429919, 0.42143310658913863]\n",
      "[0.6966173215665018, 0.48383663322696574]\n",
      "[0.7338323898045546, 0.5372700080914804]\n",
      "[0.7646092036191753, 0.5835479273748608]\n",
      "[0.790533604573907, 0.6239962271197904]\n",
      "[0.8126795642755671, 0.6596113523365783]\n",
      "[0.8318080366483152, 0.691161374078296]\n",
      "[0.8484778053083784, 0.7192513519983372]\n",
      "[0.8631112361911418, 0.7443668584048279]\n",
      "[0.8760352885843747, 0.7669038002787215]\n",
      "[0.887508175158854, 0.7871893983845436]\n",
      "[0.8977373048777475, 0.8054972994700824]\n",
      "[0.906891720937204, 0.8220586948835326]\n",
      "[0.915110944769114, 0.8370706566284047]\n",
      "[0.9225114053373618, 0.8507024933824777]\n",
      "[0.9291912048147963, 0.8631006705368324]\n",
      "[0.9352337124933495, 0.8743926708098393]\n",
      "[0.9407103170120498, 0.8846900610198617]\n",
      "[0.9456825633095024, 0.8940909555760577]\n",
      "[0.9502038326574638, 0.9026820155736011]\n",
      "[0.9543206785019789, 0.9105400861784873]\n",
      "[0.9580738996455882, 0.9177335492253579]\n",
      "[0.9614994106038576, 0.924323449353174]\n",
      "[0.9646289536303837, 0.9303644383970737]\n",
      "[0.9674906859023721, 0.9359055726776225]\n",
      "[0.9701096673609708, 0.9409909902799217]\n",
      "[0.9725082688143022, 0.9456604897005887]\n",
      "[0.9747065155291661, 0.9499500268718956]\n",
      "[0.9767223782405146, 0.9538921442016891]\n",
      "[0.9785720210027852, 0.9575163426448309]\n",
      "[0.9802700133862697, 0.9608494057644081]\n",
      "[0.9818295130359528, 0.9639156831147456]\n",
      "[0.983262423451869, 0.9667373389838252]\n",
      "[0.9845795309400119, 0.9693345714954947]\n",
      "[0.9857906239628246, 0.9717258062353616]\n",
      "[0.9869045975448282, 0.9739278678857423]\n",
      "[0.987929544929304, 0.9759561328014752]\n",
      "[0.9888728383112627, 0.9778246650042732]\n"
     ]
    }
   ],
   "source": [
    "cnt = 0  # 중간 결과값을 출력할 때 사용하기 위함\n",
    "tol = 0.000001\n",
    "\n",
    "gradients = []  # Gradient의 변화\n",
    "plot_points = []  # Plotting을 위한 것\n",
    "\n",
    "while True:\n",
    "    cnt += 1\n",
    "    gradient = get_gradient(v)  # 시점에서의 gradient\n",
    "    next_v = step(v, gradient, alpha)\n",
    "    if not cnt % 2000:\n",
    "        plot_points.append(next_v)\n",
    "        gradients.append(next_v)\n",
    "        print(next_v)  # Debugging 용\n",
    "    if distance(next_v, v) < tol:\n",
    "        break\n",
    "    \n",
    "    v = next_v"
   ]
  },
  {
   "cell_type": "code",
   "execution_count": 19,
   "metadata": {},
   "outputs": [],
   "source": [
    "# Numpy array로 변경하면 사용이 편하다.\n",
    "gradients = np.array(gradients)\n",
    "\n",
    "x = gradients[:, 0]\n",
    "y = gradients[:, 1]"
   ]
  },
  {
   "cell_type": "code",
   "execution_count": 20,
   "metadata": {},
   "outputs": [],
   "source": [
    "# 등고선을 그리기 위해서는 meshgrid가 필요함\n",
    "X, Y = np.meshgrid(x, y)\n",
    "Z = (1-X) ** 2 + 100*(Y-X ** 2) ** 2"
   ]
  },
  {
   "cell_type": "code",
   "execution_count": 21,
   "metadata": {},
   "outputs": [],
   "source": [
    "# 최소값의 변화를 확인하기 위하여 plot\n",
    "plot_points = np.array(plot_points)\n",
    "\n",
    "px = plot_points[:, 0]\n",
    "py = plot_points[:, 1]"
   ]
  },
  {
   "cell_type": "code",
   "execution_count": 22,
   "metadata": {},
   "outputs": [
    {
     "data": {
      "image/png": "[encoded data removed]",
      "text/plain": [
       "<matplotlib.figure.Figure at 0x10e4be240>"
      ]
     },
     "metadata": {
      "needs_background": "light"
     },
     "output_type": "display_data"
    }
   ],
   "source": [
    "contours = plt.contourf(x, y, Z, 20, cmap='RdGy')\n",
    "plt.plot(px, py, \"b-o\")\n",
    "plt.colorbar();"
   ]
  },
  {
   "cell_type": "code",
   "execution_count": null,
   "metadata": {},
   "outputs": [],
   "source": []
  }
 ],
 "metadata": {
  "anaconda-cloud": {},
  "kernelspec": {
   "display_name": "Python 3",
   "language": "python",
   "name": "python3"
  },
  "language_info": {
   "codemirror_mode": {
    "name": "ipython",
    "version": 3
   },
   "file_extension": ".py",
   "mimetype": "text/x-python",
   "name": "python",
   "nbconvert_exporter": "python",
   "pygments_lexer": "ipython3",
   "version": "3.6.6"
  }
 },
 "nbformat": 4,
 "nbformat_minor": 1
}
