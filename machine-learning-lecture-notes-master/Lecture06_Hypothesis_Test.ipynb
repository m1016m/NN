{
 "cells": [
  {
   "cell_type": "markdown",
   "metadata": {},
   "source": [
    "# 1. T-test"
   ]
  },
  {
   "cell_type": "markdown",
   "metadata": {},
   "source": [
    "Types of t-test\n",
    "- An independent sample t-test compares the means for two groups\n",
    "- A paired sample t-test compares means from the same group at different times\n",
    "- An one sample t-test tests the mean of a single group against a known mean"
   ]
  },
  {
   "cell_type": "markdown",
   "metadata": {},
   "source": [
    "Steps\n",
    "1. Determine a null and alternate hypothesis.\n",
    "2. Collect sample data.\n",
    "3. Determine a confidence interval and degrees of freedom.\n",
    "4. Calculate the t-statistc.\n",
    "5. Caculate the critical t-value from the t distribution.\n",
    " - A large t-score tells you the groups are different.\n",
    " - A small t-score tells you that the groups are similar.\n",
    "6. Compare the critical t-values with the calculated t statistic."
   ]
  },
  {
   "cell_type": "code",
   "execution_count": 1,
   "metadata": {},
   "outputs": [],
   "source": [
    "import numpy as np\n",
    "from scipy import stats"
   ]
  },
  {
   "cell_type": "markdown",
   "metadata": {},
   "source": [
    "> T test 모듈을 사용하지 않고 구해보기"
   ]
  },
  {
   "cell_type": "markdown",
   "metadata": {},
   "source": [
    "- $H_0$ : 두 집단의 평균은 같다. 즉 $\\mu_1 = \\mu_2$\n",
    "- $H_1$ : 두 집단의 평균은 같지 않다. 즉 $\\mu_1 \\neq \\mu_2$"
   ]
  },
  {
   "cell_type": "code",
   "execution_count": 2,
   "metadata": {},
   "outputs": [],
   "source": [
    "#  크기가 100인 2개 그룹의 random data를 생성\n",
    "n = 20\n",
    "\n",
    "# Gaussian distribution data with mean = 2 and var = 1\n",
    "group_a = np.random.randn(n) + 2\n",
    "# Gaussian distribution data with mean = 0 and var = 1\n",
    "group_b = np.random.randn(n)"
   ]
  },
  {
   "cell_type": "code",
   "execution_count": 3,
   "metadata": {},
   "outputs": [
    {
     "name": "stdout",
     "output_type": "stream",
     "text": [
      "Group A [4.16501603 2.76535089 2.48023999 3.97729739 0.89417203]\n",
      "Group B [-0.65120933  1.31345838  1.29784776 -0.23273527  2.89356947]\n"
     ]
    }
   ],
   "source": [
    "print('Group A', group_a[:5])\n",
    "print('Group B', group_b[:5])"
   ]
  },
  {
   "cell_type": "code",
   "execution_count": 4,
   "metadata": {},
   "outputs": [
    {
     "data": {
      "text/plain": [
       "1.2488360023905005"
      ]
     },
     "execution_count": 4,
     "metadata": {},
     "output_type": "execute_result"
    }
   ],
   "source": [
    "var_a = group_a.var(ddof=1)  # 표본평균은 n-1로 나누어준다. (n - ddof)\n",
    "var_b = group_b.var(ddof=1)\n",
    "\n",
    "# Std deviation (두 집단의 모분산이 같다고 가정 가정)\n",
    "s = np.sqrt((var_a + var_b)/2)\n",
    "s"
   ]
  },
  {
   "cell_type": "markdown",
   "metadata": {},
   "source": [
    "분산에 대해서는 [scipy.stats.ttest_ind](https://docs.scipy.org/doc/scipy/reference/generated/scipy.stats.ttest_ind.html#r3566833beaa2-1)를 참고하면 된다."
   ]
  },
  {
   "cell_type": "code",
   "execution_count": 5,
   "metadata": {},
   "outputs": [
    {
     "data": {
      "text/plain": [
       "5.524544117296061"
      ]
     },
     "execution_count": 5,
     "metadata": {},
     "output_type": "execute_result"
    }
   ],
   "source": [
    "# Calculate the t-statistics\n",
    "t1 = (group_a.mean() - group_b.mean())/(s*np.sqrt(2/n))\n",
    "t1"
   ]
  },
  {
   "cell_type": "code",
   "execution_count": 6,
   "metadata": {},
   "outputs": [
    {
     "data": {
      "text/plain": [
       "38"
      ]
     },
     "execution_count": 6,
     "metadata": {},
     "output_type": "execute_result"
    }
   ],
   "source": [
    "# Degree of freedom\n",
    "df = 2*n - 2\n",
    "df"
   ]
  },
  {
   "cell_type": "code",
   "execution_count": 7,
   "metadata": {},
   "outputs": [],
   "source": [
    "# 1 tailed p-value\n",
    "p1 = 1 - stats.t.cdf(t1, df=df)"
   ]
  },
  {
   "cell_type": "code",
   "execution_count": 8,
   "metadata": {},
   "outputs": [
    {
     "name": "stdout",
     "output_type": "stream",
     "text": [
      "t = 5.524544117296061\n",
      "p = 2.5553559546143134e-06\n"
     ]
    }
   ],
   "source": [
    "print('t =', t1)\n",
    "print('p =', 2*p1)"
   ]
  },
  {
   "cell_type": "markdown",
   "metadata": {},
   "source": [
    "> `ttest_ind`"
   ]
  },
  {
   "cell_type": "code",
   "execution_count": 9,
   "metadata": {},
   "outputs": [
    {
     "name": "stdout",
     "output_type": "stream",
     "text": [
      "t2 = 5.524544117296061\n",
      "p2 = 2.5553559546522812e-06\n"
     ]
    }
   ],
   "source": [
    "t2, p2 = stats.ttest_ind(group_a, group_b)\n",
    "\n",
    "print(\"t2 =\", t2)\n",
    "print(\"p2 =\",p2)  # 2 tailed p-value"
   ]
  }
 ],
 "metadata": {
  "kernelspec": {
   "display_name": "Python 3",
   "language": "python",
   "name": "python3"
  },
  "language_info": {
   "codemirror_mode": {
    "name": "ipython",
    "version": 3
   },
   "file_extension": ".py",
   "mimetype": "text/x-python",
   "name": "python",
   "nbconvert_exporter": "python",
   "pygments_lexer": "ipython3",
   "version": "3.6.6"
  }
 },
 "nbformat": 4,
 "nbformat_minor": 2
}
