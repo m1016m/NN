{
 "cells": [
  {
   "cell_type": "code",
   "execution_count": 29,
   "metadata": {},
   "outputs": [],
   "source": [
    "import warnings\n",
    "warnings.filterwarnings('ignore')"
   ]
  },
  {
   "cell_type": "code",
   "execution_count": 30,
   "metadata": {},
   "outputs": [],
   "source": [
    "import numpy as np"
   ]
  },
  {
   "cell_type": "markdown",
   "metadata": {},
   "source": [
    "---"
   ]
  },
  {
   "cell_type": "markdown",
   "metadata": {},
   "source": [
    "# Latent Semantic Analysis 실습 2"
   ]
  },
  {
   "cell_type": "markdown",
   "metadata": {},
   "source": [
    "(예제) 다음과 같이 document와 query가 주어졌다.\n",
    "\n",
    "$d_1$ : \"Machine learning is super fun\"\n",
    "\n",
    "$d_2$ : \"Python is super, super cool\"\n",
    "\n",
    "$d_3$ : \"Statistics is cool, too\"\n",
    "\n",
    "$d_4$ : \"Data science is fun\"\n",
    "\n",
    "$d_5$ : \"Python is great for machine learning\"\n",
    "\n",
    "$d_6$ : \"I like football\"\n",
    "    \n",
    "$d_7$ : \"Football is great to watch\"\n",
    "\n",
    "$query$ : \"machine learning python\""
   ]
  },
  {
   "cell_type": "code",
   "execution_count": 1,
   "metadata": {},
   "outputs": [],
   "source": [
    "# Matrix를 생성하기 위하여, index의 고정이 필요하고, 이를 위해서 순서를 정확히 보장하기 위해 OrderDict을 사용한다.\n",
    "from collections import OrderedDict\n",
    "\n",
    "# Corpus를 생성한다.\n",
    "corpus = OrderedDict(\n",
    "    {\n",
    "        'cool':0, \n",
    "        'data':1,\n",
    "        'football':2,\n",
    "        'fun':3,\n",
    "        'great':4,\n",
    "        'learning':5,\n",
    "        'like':6,\n",
    "        'machine':7,\n",
    "        'python':8,\n",
    "        'science':9,\n",
    "        'statistics':10,\n",
    "        'super':11,\n",
    "        'watch':12\n",
    "    }\n",
    ")"
   ]
  },
  {
   "cell_type": "code",
   "execution_count": 2,
   "metadata": {},
   "outputs": [
    {
     "data": {
      "text/plain": [
       "OrderedDict([('cool', 0),\n",
       "             ('data', 1),\n",
       "             ('football', 2),\n",
       "             ('fun', 3),\n",
       "             ('great', 4),\n",
       "             ('learning', 5),\n",
       "             ('like', 6),\n",
       "             ('machine', 7),\n",
       "             ('python', 8),\n",
       "             ('science', 9),\n",
       "             ('statistics', 10),\n",
       "             ('super', 11),\n",
       "             ('watch', 12)])"
      ]
     },
     "execution_count": 2,
     "metadata": {},
     "output_type": "execute_result"
    }
   ],
   "source": [
    "corpus"
   ]
  },
  {
   "cell_type": "code",
   "execution_count": 9,
   "metadata": {},
   "outputs": [],
   "source": [
    "d1 = \"Machine learning is super fun\"\n",
    "d2 = \"Python is super, super cool\"\n",
    "d3 = \"Statistics is cool, too\"\n",
    "d4 = \"Data science is fun\"\n",
    "d5 = \"Python is great for machine learning\"\n",
    "d6 = \"I like football\"\n",
    "d7 = \"Football is great to watch\"\n",
    "\n",
    "docs = [d1, d2, d3, d4, d5, d6, d7]"
   ]
  },
  {
   "cell_type": "code",
   "execution_count": 10,
   "metadata": {},
   "outputs": [
    {
     "data": {
      "text/plain": [
       "['Machine learning is super fun',\n",
       " 'Python is super, super cool',\n",
       " 'Statistics is cool, too',\n",
       " 'Data science is fun',\n",
       " 'Python is great for machine learning',\n",
       " 'I like football',\n",
       " 'Football is great to watch']"
      ]
     },
     "execution_count": 10,
     "metadata": {},
     "output_type": "execute_result"
    }
   ],
   "source": [
    "docs"
   ]
  },
  {
   "cell_type": "markdown",
   "metadata": {},
   "source": [
    "## 1. Document-Word matrix 생성"
   ]
  },
  {
   "cell_type": "markdown",
   "metadata": {},
   "source": [
    "### 1.1. 전처리 (Python 진영에서는 전문적인 형태소분석기 konlpy를 사용하면 된다.)"
   ]
  },
  {
   "cell_type": "code",
   "execution_count": 11,
   "metadata": {},
   "outputs": [
    {
     "data": {
      "text/plain": [
       "['Machine', 'learning', 'is', 'super', 'fun']"
      ]
     },
     "execution_count": 11,
     "metadata": {},
     "output_type": "execute_result"
    }
   ],
   "source": [
    "# 각 문서를 빈 여백을 기준으로 나눈다.\n",
    "d1_tokens = d1.split(' ')\n",
    "d1_tokens"
   ]
  },
  {
   "cell_type": "code",
   "execution_count": 12,
   "metadata": {},
   "outputs": [
    {
     "data": {
      "text/plain": [
       "['machine', 'learning', 'is', 'super', 'fun']"
      ]
     },
     "execution_count": 12,
     "metadata": {},
     "output_type": "execute_result"
    }
   ],
   "source": [
    "# 대소문자의 구분을 없앤다.\n",
    "d1_tokens = map(str.lower, d1_tokens)  # 또는 [s.lower for s in d1_tokens]를 사용\n",
    "d1_tokens = list(d1_tokens)\n",
    "d1_tokens"
   ]
  },
  {
   "cell_type": "code",
   "execution_count": 13,
   "metadata": {},
   "outputs": [],
   "source": [
    "import re"
   ]
  },
  {
   "cell_type": "code",
   "execution_count": 14,
   "metadata": {},
   "outputs": [
    {
     "data": {
      "text/plain": [
       "['machine', 'learning', 'is', 'super', 'fun']"
      ]
     },
     "execution_count": 14,
     "metadata": {},
     "output_type": "execute_result"
    }
   ],
   "source": [
    "# '-'를 제외한 구두점만 제거한다. (아주 간단하게)\n",
    "d1_tokens = [re.sub(r'[^a-zA-Z0-9-]', '', token) for token in d1_tokens]\n",
    "d1_tokens"
   ]
  },
  {
   "cell_type": "markdown",
   "metadata": {},
   "source": [
    "---\n",
    "\n",
    "(Advanced)"
   ]
  },
  {
   "cell_type": "code",
   "execution_count": 15,
   "metadata": {},
   "outputs": [
    {
     "name": "stdout",
     "output_type": "stream",
     "text": [
      "!\"#$%&'()*+,-./:;<=>?@[\\]^_`{|}~\n"
     ]
    },
    {
     "data": {
      "text/plain": [
       "'teststringwowgood'"
      ]
     },
     "execution_count": 15,
     "metadata": {},
     "output_type": "execute_result"
    }
   ],
   "source": [
    "# 구두점을 제거하는 방법은 다음과 같이 하면 된다.\n",
    "import string\n",
    "print(string.punctuation)\n",
    "\n",
    "s = 'test-string,wow.good!'\n",
    "translator=str.maketrans('','',string.punctuation)\n",
    "s.translate(translator)"
   ]
  },
  {
   "cell_type": "code",
   "execution_count": 16,
   "metadata": {},
   "outputs": [
    {
     "data": {
      "text/plain": [
       "'asd-'"
      ]
     },
     "execution_count": 16,
     "metadata": {},
     "output_type": "execute_result"
    }
   ],
   "source": [
    "# a-z and A-Z and 0-9 and -를 제외한(^) 단어는 empty string과 교체한다.\n",
    "re.sub(r'[^a-zA-Z0-9-]', '','asd-')"
   ]
  },
  {
   "cell_type": "markdown",
   "metadata": {},
   "source": [
    "---"
   ]
  },
  {
   "cell_type": "code",
   "execution_count": 17,
   "metadata": {},
   "outputs": [],
   "source": [
    "# 함수로 정의한다.\n",
    "def parse_document(doc):\n",
    "    tokens = doc.split(' ')\n",
    "    tokens = map(str.lower, tokens)\n",
    "    tokens = list(tokens)\n",
    "    tokens = [re.sub(r'[^a-zA-Z0-9-]', '', token) for token in tokens]\n",
    "    \n",
    "    return tokens"
   ]
  },
  {
   "cell_type": "code",
   "execution_count": 18,
   "metadata": {},
   "outputs": [
    {
     "name": "stdout",
     "output_type": "stream",
     "text": [
      "['machine', 'learning', 'is', 'super', 'fun']\n",
      "['python', 'is', 'super', 'super', 'cool']\n",
      "['statistics', 'is', 'cool', 'too']\n",
      "['data', 'science', 'is', 'fun']\n",
      "['python', 'is', 'great', 'for', 'machine', 'learning']\n",
      "['i', 'like', 'football']\n",
      "['football', 'is', 'great', 'to', 'watch']\n"
     ]
    }
   ],
   "source": [
    "# 사실 이 과정에서, 과거형은 현재형으로, 축약형 that's는 that is로 변경해주는 등\n",
    "# \"형태소 분석\" 과정이 필요하나 그것은 NLP 전처리 과정에 속함으로 우선은 여기까지만 작업한다.\n",
    "d2_tokens = parse_document(d2)\n",
    "d3_tokens = parse_document(d3)\n",
    "d4_tokens = parse_document(d4)\n",
    "d5_tokens = parse_document(d5)\n",
    "d6_tokens = parse_document(d6)\n",
    "d7_tokens = parse_document(d7)\n",
    "\n",
    "print(d1_tokens)\n",
    "print(d2_tokens)\n",
    "print(d3_tokens)\n",
    "print(d4_tokens)\n",
    "print(d5_tokens)\n",
    "print(d6_tokens)\n",
    "print(d7_tokens)"
   ]
  },
  {
   "cell_type": "markdown",
   "metadata": {},
   "source": [
    "### 1.2. Document vector를 생성한다."
   ]
  },
  {
   "cell_type": "code",
   "execution_count": 21,
   "metadata": {},
   "outputs": [
    {
     "name": "stdout",
     "output_type": "stream",
     "text": [
      "cool 0\n",
      "data 1\n",
      "football 2\n",
      "fun 3\n",
      "great 4\n",
      "learning 5\n",
      "like 6\n",
      "machine 7\n",
      "python 8\n",
      "science 9\n",
      "statistics 10\n",
      "super 11\n",
      "watch 12\n"
     ]
    }
   ],
   "source": [
    "# 먼저 corpus내의 iterator 내용을 확인하자.\n",
    "for v, i in corpus.items():\n",
    "    print(v, i)"
   ]
  },
  {
   "cell_type": "markdown",
   "metadata": {},
   "source": [
    "#### <font color=red>Document를 구성하는 vector의 길이는 corpus의 길이와 같다.</font>"
   ]
  },
  {
   "cell_type": "code",
   "execution_count": 22,
   "metadata": {},
   "outputs": [
    {
     "data": {
      "text/plain": [
       "odict_values([0, 1, 2, 3, 4, 5, 6, 7, 8, 9, 10, 11, 12])"
      ]
     },
     "execution_count": 22,
     "metadata": {},
     "output_type": "execute_result"
    }
   ],
   "source": [
    "corpus.values()"
   ]
  },
  {
   "cell_type": "markdown",
   "metadata": {},
   "source": [
    "- 첫번째 문장 `Machine learning is super fun`은,\n",
    "\n",
    "- 전처리 후 `'machine', 'learning', 'is', 'super', 'fun'` tokens가 되며,\n",
    "\n",
    "- 전체 corpus을 entry로 가진 vector `(cool:없음) (data:없음) (football:없음) fun (great:없음) learning (like:없음) machine (python:없음) (science:없음) (statistics:없음) super (watch:없음)`에 대응되고,\n",
    "\n",
    "- 최종적으로 document vector `0 0 0 1 0 1 0 1 0 0 0 1 0`에 대응된다."
   ]
  },
  {
   "cell_type": "code",
   "execution_count": 23,
   "metadata": {},
   "outputs": [
    {
     "data": {
      "text/plain": [
       "odict_items([('cool', 0), ('data', 1), ('football', 2), ('fun', 3), ('great', 4), ('learning', 5), ('like', 6), ('machine', 7), ('python', 8), ('science', 9), ('statistics', 10), ('super', 11), ('watch', 12)])"
      ]
     },
     "execution_count": 23,
     "metadata": {},
     "output_type": "execute_result"
    }
   ],
   "source": [
    "corpus.items()"
   ]
  },
  {
   "cell_type": "code",
   "execution_count": 24,
   "metadata": {},
   "outputs": [
    {
     "data": {
      "text/plain": [
       "['machine', 'learning', 'is', 'super', 'fun']"
      ]
     },
     "execution_count": 24,
     "metadata": {},
     "output_type": "execute_result"
    }
   ],
   "source": [
    "d1_tokens"
   ]
  },
  {
   "cell_type": "code",
   "execution_count": 25,
   "metadata": {},
   "outputs": [
    {
     "data": {
      "text/plain": [
       "[0, 0, 0, 1, 0, 1, 0, 1, 0, 0, 0, 1, 0]"
      ]
     },
     "execution_count": 25,
     "metadata": {},
     "output_type": "execute_result"
    }
   ],
   "source": [
    "# d1 vector를 생성해보자.\n",
    "d1_vec = []\n",
    "for v, _ in corpus.items():\n",
    "    if v in d1_tokens:\n",
    "        d1_vec.append(1)\n",
    "    else:\n",
    "        d1_vec.append(0)\n",
    "d1_vec"
   ]
  },
  {
   "cell_type": "code",
   "execution_count": 26,
   "metadata": {},
   "outputs": [],
   "source": [
    "# Document vector를 생성하는 코드를 함수로 바꿔보자.\n",
    "def get_doc_vector(tokens):\n",
    "    doc_vec = [1 if v in tokens else 0 for v, _ in corpus.items()]\n",
    "    return doc_vec"
   ]
  },
  {
   "cell_type": "code",
   "execution_count": 27,
   "metadata": {},
   "outputs": [
    {
     "name": "stdout",
     "output_type": "stream",
     "text": [
      "[0, 0, 0, 1, 0, 1, 0, 1, 0, 0, 0, 1, 0]\n",
      "[1, 0, 0, 0, 0, 0, 0, 0, 1, 0, 0, 1, 0]\n",
      "[1, 0, 0, 0, 0, 0, 0, 0, 0, 0, 1, 0, 0]\n",
      "[0, 1, 0, 1, 0, 0, 0, 0, 0, 1, 0, 0, 0]\n",
      "[0, 0, 0, 0, 1, 1, 0, 1, 1, 0, 0, 0, 0]\n",
      "[0, 0, 1, 0, 0, 0, 1, 0, 0, 0, 0, 0, 0]\n",
      "[0, 0, 1, 0, 1, 0, 0, 0, 0, 0, 0, 0, 1]\n"
     ]
    }
   ],
   "source": [
    "d2_vec = get_doc_vector(d2_tokens)\n",
    "d3_vec = get_doc_vector(d3_tokens)\n",
    "d4_vec = get_doc_vector(d4_tokens)\n",
    "d5_vec = get_doc_vector(d5_tokens)\n",
    "d6_vec = get_doc_vector(d6_tokens)\n",
    "d7_vec = get_doc_vector(d7_tokens)\n",
    "\n",
    "print(d1_vec)\n",
    "print(d2_vec)\n",
    "print(d3_vec)\n",
    "print(d4_vec)\n",
    "print(d5_vec)\n",
    "print(d6_vec)\n",
    "print(d7_vec)"
   ]
  },
  {
   "cell_type": "markdown",
   "metadata": {},
   "source": [
    "### 1.3. Document-Word matrix를 생성한다."
   ]
  },
  {
   "cell_type": "code",
   "execution_count": 31,
   "metadata": {},
   "outputs": [
    {
     "data": {
      "text/plain": [
       "array([[0, 0, 0, 1, 0, 1, 0, 1, 0, 0, 0, 1, 0],\n",
       "       [1, 0, 0, 0, 0, 0, 0, 0, 1, 0, 0, 1, 0],\n",
       "       [1, 0, 0, 0, 0, 0, 0, 0, 0, 0, 1, 0, 0],\n",
       "       [0, 1, 0, 1, 0, 0, 0, 0, 0, 1, 0, 0, 0],\n",
       "       [0, 0, 0, 0, 1, 1, 0, 1, 1, 0, 0, 0, 0],\n",
       "       [0, 0, 1, 0, 0, 0, 1, 0, 0, 0, 0, 0, 0],\n",
       "       [0, 0, 1, 0, 1, 0, 0, 0, 0, 0, 0, 0, 1]])"
      ]
     },
     "execution_count": 31,
     "metadata": {},
     "output_type": "execute_result"
    }
   ],
   "source": [
    "# 최종 matrix Word-Document matrix\n",
    "A = np.array([d1_vec, d2_vec, d3_vec, d4_vec, d5_vec, d6_vec, d7_vec])\n",
    "A"
   ]
  },
  {
   "cell_type": "markdown",
   "metadata": {},
   "source": [
    "## 2. Doc-Doc matrix 와 Word-Word matrix를 생성한다."
   ]
  },
  {
   "cell_type": "markdown",
   "metadata": {},
   "source": [
    "### 2.1. Doc-Doc matrix $AA^T$ :  문서 $i$와 문서 $j$가 $b$개의 공통 단어를 가지고 있으면 $B[i, j]=b$"
   ]
  },
  {
   "cell_type": "code",
   "execution_count": 32,
   "metadata": {},
   "outputs": [
    {
     "data": {
      "text/plain": [
       "array([[4, 1, 0, 1, 2, 0, 0],\n",
       "       [1, 3, 1, 0, 1, 0, 0],\n",
       "       [0, 1, 2, 0, 0, 0, 0],\n",
       "       [1, 0, 0, 3, 0, 0, 0],\n",
       "       [2, 1, 0, 0, 4, 0, 1],\n",
       "       [0, 0, 0, 0, 0, 2, 1],\n",
       "       [0, 0, 0, 0, 1, 1, 3]])"
      ]
     },
     "execution_count": 32,
     "metadata": {},
     "output_type": "execute_result"
    }
   ],
   "source": [
    "doc_mat = np.dot(A, A.T)\n",
    "doc_mat"
   ]
  },
  {
   "cell_type": "markdown",
   "metadata": {},
   "source": [
    "### 2.2. Word-Word matrix $A^TA$ : 단어 $i$와 단어 $j$가 문서 $c$개 에서 함께 발생했으면 $C[i,j]=c$"
   ]
  },
  {
   "cell_type": "code",
   "execution_count": 33,
   "metadata": {},
   "outputs": [
    {
     "data": {
      "text/plain": [
       "array([[2, 0, 0, 0, 0, 0, 0, 0, 1, 0, 1, 1, 0],\n",
       "       [0, 1, 0, 1, 0, 0, 0, 0, 0, 1, 0, 0, 0],\n",
       "       [0, 0, 2, 0, 1, 0, 1, 0, 0, 0, 0, 0, 1],\n",
       "       [0, 1, 0, 2, 0, 1, 0, 1, 0, 1, 0, 1, 0],\n",
       "       [0, 0, 1, 0, 2, 1, 0, 1, 1, 0, 0, 0, 1],\n",
       "       [0, 0, 0, 1, 1, 2, 0, 2, 1, 0, 0, 1, 0],\n",
       "       [0, 0, 1, 0, 0, 0, 1, 0, 0, 0, 0, 0, 0],\n",
       "       [0, 0, 0, 1, 1, 2, 0, 2, 1, 0, 0, 1, 0],\n",
       "       [1, 0, 0, 0, 1, 1, 0, 1, 2, 0, 0, 1, 0],\n",
       "       [0, 1, 0, 1, 0, 0, 0, 0, 0, 1, 0, 0, 0],\n",
       "       [1, 0, 0, 0, 0, 0, 0, 0, 0, 0, 1, 0, 0],\n",
       "       [1, 0, 0, 1, 0, 1, 0, 1, 1, 0, 0, 2, 0],\n",
       "       [0, 0, 1, 0, 1, 0, 0, 0, 0, 0, 0, 0, 1]])"
      ]
     },
     "execution_count": 33,
     "metadata": {},
     "output_type": "execute_result"
    }
   ],
   "source": [
    "word_mat = np.dot(A.T, A)\n",
    "word_mat"
   ]
  },
  {
   "cell_type": "markdown",
   "metadata": {},
   "source": [
    "## 3. SVD(Singular Value Decomposition)"
   ]
  },
  {
   "cell_type": "markdown",
   "metadata": {},
   "source": [
    "### $$A=U \\Sigma V^T$$"
   ]
  },
  {
   "cell_type": "code",
   "execution_count": 34,
   "metadata": {},
   "outputs": [],
   "source": [
    "U, sig, V_T = np.linalg.svd(A)"
   ]
  },
  {
   "cell_type": "markdown",
   "metadata": {},
   "source": [
    "### 3.1. $U$의 컬럼은 $AA^T$의 고유벡터들이다.  즉 Doc-Doc matrix 데이터를 생성하는 축들이다."
   ]
  },
  {
   "cell_type": "code",
   "execution_count": 35,
   "metadata": {},
   "outputs": [
    {
     "data": {
      "text/plain": [
       "array([[-0.63555233,  0.3116475 , -0.23588417,  0.0923833 , -0.51003069,\n",
       "         0.29231986, -0.29864837],\n",
       "       [-0.35219853,  0.13826479,  0.61288984, -0.36051167, -0.04467366,\n",
       "        -0.56373943, -0.17730917],\n",
       "       [-0.07303416,  0.07324226,  0.43497297, -0.43325945,  0.1676411 ,\n",
       "         0.73984157,  0.19213866],\n",
       "       [-0.16627132,  0.35104399, -0.57669202, -0.55020151,  0.4027139 ,\n",
       "        -0.16590483,  0.155318  ],\n",
       "       [-0.63765049, -0.26214197,  0.05160136,  0.40140898,  0.39896807,\n",
       "        -0.03886768,  0.44744312],\n",
       "       [-0.03657726, -0.38783282, -0.12179755, -0.3522012 , -0.60221382,\n",
       "        -0.113457  ,  0.57778327],\n",
       "       [-0.17638947, -0.73214047, -0.17161637, -0.29306375,  0.16048032,\n",
       "         0.08645119, -0.53318928]])"
      ]
     },
     "execution_count": 35,
     "metadata": {},
     "output_type": "execute_result"
    }
   ],
   "source": [
    "U"
   ]
  },
  {
   "cell_type": "markdown",
   "metadata": {},
   "source": [
    "> $AA^T$ 의 eigenvector (컬럼들)"
   ]
  },
  {
   "cell_type": "code",
   "execution_count": 36,
   "metadata": {},
   "outputs": [],
   "source": [
    "# np.linalg.eig(np.dot(A, A.T))"
   ]
  },
  {
   "cell_type": "markdown",
   "metadata": {},
   "source": [
    "### 3.2. $V$의 컬럼은 $AA^T$의 고유벡터들이다. 즉 Word-Word matrix 데이터를 생성하는 축들이다."
   ]
  },
  {
   "cell_type": "code",
   "execution_count": 37,
   "metadata": {},
   "outputs": [
    {
     "data": {
      "text/plain": [
       "array([[-0.16280159,  0.10726903,  0.56753028, -0.47167366,  0.09339555,\n",
       "         0.15827037,  0.01428834, -0.11369133, -0.20704032,  0.03298642,\n",
       "        -0.46399237, -0.33237781,  0.02832841],\n",
       "       [-0.06365747,  0.17803733, -0.31234068, -0.32694004,  0.30586704,\n",
       "        -0.14910562,  0.14965023,  0.36329084, -0.49577965, -0.35164399,\n",
       "         0.26687418, -0.19166032, -0.11061159],\n",
       "       [-0.08153494, -0.56801159, -0.15891516, -0.38342851, -0.335503  ,\n",
       "        -0.02427125,  0.04296669,  0.21060964,  0.23009486,  0.06441144,\n",
       "        -0.04761734, -0.16005546, -0.50409511],\n",
       "       [-0.30698056,  0.33609413, -0.4400973 , -0.27204415, -0.08150866,\n",
       "         0.11361448, -0.13810005, -0.30264492,  0.40962447, -0.41313829,\n",
       "        -0.22319577,  0.043474  ,  0.06863482],\n",
       "       [-0.31165761, -0.50426555, -0.06500102,  0.06438076,  0.42490916,\n",
       "         0.04276529, -0.08261717, -0.31394715, -0.29811439, -0.13523936,\n",
       "        -0.1814318 ,  0.44723235, -0.11115103],\n",
       "       [-0.48744948,  0.02510749, -0.09980894,  0.29342062, -0.08435367,\n",
       "         0.22778809,  0.14336504, -0.37964684, -0.1478498 ,  0.19818597,\n",
       "         0.33701334, -0.491527  , -0.16032123],\n",
       "       [-0.01400371, -0.19669535, -0.06596646, -0.20928454, -0.45739012,\n",
       "        -0.10196856,  0.55669919, -0.21060964, -0.23009486, -0.06441144,\n",
       "         0.04761734,  0.16005546,  0.50409511],\n",
       "       [-0.48744948,  0.02510749, -0.09980894,  0.29342062, -0.08435367,\n",
       "         0.22778809,  0.14336504,  0.63109722, -0.0114254 ,  0.09249607,\n",
       "        -0.36669574,  0.07998492,  0.19574354],\n",
       "       [-0.37896663, -0.06282621,  0.35989337,  0.02430195,  0.26909174,\n",
       "        -0.54158824,  0.2602764 ,  0.06249678,  0.45738959, -0.15544268,\n",
       "         0.2111142 , -0.03569028,  0.07572872],\n",
       "       [-0.06365747,  0.17803733, -0.31234068, -0.32694004,  0.30586704,\n",
       "        -0.14910562,  0.14965023, -0.06064591,  0.08615518,  0.76478228,\n",
       "        -0.04367841,  0.14818633,  0.04197677],\n",
       "       [-0.02796134,  0.03714593,  0.23558459, -0.25745088,  0.12732584,\n",
       "         0.66492659,  0.18512726,  0.11369133,  0.20704032, -0.03298642,\n",
       "         0.46399237,  0.33237781, -0.02832841],\n",
       "       [-0.37816335,  0.2281799 ,  0.20418907, -0.15932689, -0.421306  ,\n",
       "        -0.24393613, -0.45858921,  0.05119455, -0.25034927,  0.12245626,\n",
       "         0.25287817,  0.36806808, -0.10405713],\n",
       "       [-0.06753123, -0.37131624, -0.0929487 , -0.17414397,  0.12188713,\n",
       "         0.0776973 , -0.51373249,  0.10333751,  0.06801952,  0.07082792,\n",
       "         0.22904914, -0.28717689,  0.61524614]])"
      ]
     },
     "execution_count": 37,
     "metadata": {},
     "output_type": "execute_result"
    }
   ],
   "source": [
    "# V의 각 컬럼은 A^T*A의 eigenvector 이다.\n",
    "V_T.T"
   ]
  },
  {
   "cell_type": "markdown",
   "metadata": {},
   "source": [
    "> $A^TA$의 eigenvector (컬럼들)"
   ]
  },
  {
   "cell_type": "code",
   "execution_count": 38,
   "metadata": {},
   "outputs": [],
   "source": [
    "# np.linalg.eig(np.dot(A.T, A))"
   ]
  },
  {
   "cell_type": "markdown",
   "metadata": {},
   "source": [
    "## 4. Word vector와 Document vector 생성하기"
   ]
  },
  {
   "cell_type": "markdown",
   "metadata": {},
   "source": [
    "Word vector와 document vector를 생성할 때, 선택하는 singular value의 수가 중요하다. 2차원으로 보여주기 위해 $k=2$로 표현하자."
   ]
  },
  {
   "cell_type": "markdown",
   "metadata": {},
   "source": [
    "### 4.1. Words Vectors"
   ]
  },
  {
   "cell_type": "code",
   "execution_count": 39,
   "metadata": {},
   "outputs": [],
   "source": [
    "word_eigen_vec = V_T.T[:, :2]"
   ]
  },
  {
   "cell_type": "code",
   "execution_count": 40,
   "metadata": {},
   "outputs": [
    {
     "data": {
      "text/plain": [
       "array([[-0.16280159,  0.10726903],\n",
       "       [-0.06365747,  0.17803733],\n",
       "       [-0.08153494, -0.56801159],\n",
       "       [-0.30698056,  0.33609413],\n",
       "       [-0.31165761, -0.50426555],\n",
       "       [-0.48744948,  0.02510749],\n",
       "       [-0.01400371, -0.19669535],\n",
       "       [-0.48744948,  0.02510749],\n",
       "       [-0.37896663, -0.06282621],\n",
       "       [-0.06365747,  0.17803733],\n",
       "       [-0.02796134,  0.03714593],\n",
       "       [-0.37816335,  0.2281799 ],\n",
       "       [-0.06753123, -0.37131624]])"
      ]
     },
     "execution_count": 40,
     "metadata": {},
     "output_type": "execute_result"
    }
   ],
   "source": [
    "# Word-Word matrix의 eigenvectors\n",
    "word_eigen_vec"
   ]
  },
  {
   "cell_type": "code",
   "execution_count": 41,
   "metadata": {},
   "outputs": [
    {
     "data": {
      "text/plain": [
       "array([2.6119688 , 1.97174373, 1.84635579, 1.68288201, 1.31663057,\n",
       "       1.11266654, 1.03787339])"
      ]
     },
     "execution_count": 41,
     "metadata": {},
     "output_type": "execute_result"
    }
   ],
   "source": [
    "# Singular value\n",
    "sig"
   ]
  },
  {
   "cell_type": "markdown",
   "metadata": {},
   "source": [
    "$$\\text{word vector} = \\Sigma V^T$$"
   ]
  },
  {
   "cell_type": "code",
   "execution_count": 42,
   "metadata": {},
   "outputs": [
    {
     "data": {
      "text/plain": [
       "array([[2.6119688 , 0.        ],\n",
       "       [0.        , 1.97174373]])"
      ]
     },
     "execution_count": 42,
     "metadata": {},
     "output_type": "execute_result"
    }
   ],
   "source": [
    "np.diag(sig[:2])"
   ]
  },
  {
   "cell_type": "code",
   "execution_count": 43,
   "metadata": {},
   "outputs": [
    {
     "data": {
      "text/plain": [
       "array([[-0.16280159, -0.06365747, -0.08153494, -0.30698056, -0.31165761,\n",
       "        -0.48744948, -0.01400371, -0.48744948, -0.37896663, -0.06365747,\n",
       "        -0.02796134, -0.37816335, -0.06753123],\n",
       "       [ 0.10726903,  0.17803733, -0.56801159,  0.33609413, -0.50426555,\n",
       "         0.02510749, -0.19669535,  0.02510749, -0.06282621,  0.17803733,\n",
       "         0.03714593,  0.2281799 , -0.37131624]])"
      ]
     },
     "execution_count": 43,
     "metadata": {},
     "output_type": "execute_result"
    }
   ],
   "source": [
    "word_eigen_vec.T"
   ]
  },
  {
   "cell_type": "code",
   "execution_count": 44,
   "metadata": {},
   "outputs": [],
   "source": [
    "word_vec = np.dot(np.diag(sig[:2]), word_eigen_vec.T)"
   ]
  },
  {
   "cell_type": "code",
   "execution_count": 45,
   "metadata": {},
   "outputs": [
    {
     "data": {
      "text/plain": [
       "array([[-0.42523269,  0.21150705],\n",
       "       [-0.16627132,  0.35104399],\n",
       "       [-0.21296672, -1.11997329],\n",
       "       [-0.80182365,  0.66269149],\n",
       "       [-0.81403996, -0.99428243],\n",
       "       [-1.27320282,  0.04950553],\n",
       "       [-0.03657726, -0.38783282],\n",
       "       [-1.27320282,  0.04950553],\n",
       "       [-0.98984902, -0.12387718],\n",
       "       [-0.16627132,  0.35104399],\n",
       "       [-0.07303416,  0.07324226],\n",
       "       [-0.98775086,  0.44991228],\n",
       "       [-0.17638947, -0.73214047]])"
      ]
     },
     "execution_count": 45,
     "metadata": {},
     "output_type": "execute_result"
    }
   ],
   "source": [
    "# Sigular value가 weight로 사용된 word vector\n",
    "word_vec.T"
   ]
  },
  {
   "cell_type": "code",
   "execution_count": 46,
   "metadata": {},
   "outputs": [
    {
     "data": {
      "text/plain": [
       "array([[-0.42523269, -0.16627132, -0.21296672, -0.80182365, -0.81403996,\n",
       "        -1.27320282, -0.03657726, -1.27320282, -0.98984902, -0.16627132,\n",
       "        -0.07303416, -0.98775086, -0.17638947],\n",
       "       [ 0.21150705,  0.35104399, -1.11997329,  0.66269149, -0.99428243,\n",
       "         0.04950553, -0.38783282,  0.04950553, -0.12387718,  0.35104399,\n",
       "         0.07324226,  0.44991228, -0.73214047]])"
      ]
     },
     "execution_count": 46,
     "metadata": {},
     "output_type": "execute_result"
    }
   ],
   "source": [
    "word_vec"
   ]
  },
  {
   "cell_type": "code",
   "execution_count": 47,
   "metadata": {},
   "outputs": [
    {
     "data": {
      "text/plain": [
       "OrderedDict([('cool', 0),\n",
       "             ('data', 1),\n",
       "             ('football', 2),\n",
       "             ('fun', 3),\n",
       "             ('great', 4),\n",
       "             ('learning', 5),\n",
       "             ('like', 6),\n",
       "             ('machine', 7),\n",
       "             ('python', 8),\n",
       "             ('science', 9),\n",
       "             ('statistics', 10),\n",
       "             ('super', 11),\n",
       "             ('watch', 12)])"
      ]
     },
     "execution_count": 47,
     "metadata": {},
     "output_type": "execute_result"
    }
   ],
   "source": [
    "corpus"
   ]
  },
  {
   "cell_type": "code",
   "execution_count": 48,
   "metadata": {},
   "outputs": [
    {
     "data": {
      "text/plain": [
       "odict_keys(['cool', 'data', 'football', 'fun', 'great', 'learning', 'like', 'machine', 'python', 'science', 'statistics', 'super', 'watch'])"
      ]
     },
     "execution_count": 48,
     "metadata": {},
     "output_type": "execute_result"
    }
   ],
   "source": [
    "# Plotting 을 위해 다음과 같이 x축 y축을 구분한다.\n",
    "# x 축\n",
    "w_x = word_vec[0]\n",
    "# y 축\n",
    "w_y = word_vec[1]\n",
    "# Words를 plotting에 나타내기 위해서\n",
    "words = corpus.keys()\n",
    "words"
   ]
  },
  {
   "cell_type": "code",
   "execution_count": 51,
   "metadata": {},
   "outputs": [
    {
     "data": {
      "image/png": "[encoded data removed]",
      "text/plain": [
       "<Figure size 576x576 with 1 Axes>"
      ]
     },
     "metadata": {},
     "output_type": "display_data"
    }
   ],
   "source": [
    "import seaborn as sns\n",
    "import matplotlib.pyplot as plt\n",
    "import matplotlib as mpl\n",
    "\n",
    "mpl.rcParams['figure.figsize'] = (8, 8)\n",
    "\n",
    "fig, ax = plt.subplots()\n",
    "\n",
    "# Scatter\n",
    "ax.scatter(w_x, w_y, s=100)\n",
    "\n",
    "# Scatter에 라벨링을 한다.\n",
    "for i, txt in enumerate(words):\n",
    "    ax.annotate(txt, (w_x[i], w_y[i]), fontsize=20)  # free와 live가 겹쳐지는 위치"
   ]
  },
  {
   "cell_type": "markdown",
   "metadata": {},
   "source": [
    "### 4.2. Document Vectors"
   ]
  },
  {
   "cell_type": "code",
   "execution_count": 52,
   "metadata": {},
   "outputs": [],
   "source": [
    "doc_eigen_vec = U[:, :2]"
   ]
  },
  {
   "cell_type": "code",
   "execution_count": 53,
   "metadata": {},
   "outputs": [
    {
     "data": {
      "text/plain": [
       "array([[-0.63555233,  0.3116475 ],\n",
       "       [-0.35219853,  0.13826479],\n",
       "       [-0.07303416,  0.07324226],\n",
       "       [-0.16627132,  0.35104399],\n",
       "       [-0.63765049, -0.26214197],\n",
       "       [-0.03657726, -0.38783282],\n",
       "       [-0.17638947, -0.73214047]])"
      ]
     },
     "execution_count": 53,
     "metadata": {},
     "output_type": "execute_result"
    }
   ],
   "source": [
    "# Doc-Doc matrix의 eigenvectors\n",
    "doc_eigen_vec"
   ]
  },
  {
   "cell_type": "code",
   "execution_count": 54,
   "metadata": {},
   "outputs": [
    {
     "data": {
      "text/plain": [
       "array([2.6119688 , 1.97174373, 1.84635579, 1.68288201, 1.31663057,\n",
       "       1.11266654, 1.03787339])"
      ]
     },
     "execution_count": 54,
     "metadata": {},
     "output_type": "execute_result"
    }
   ],
   "source": [
    "# Singular value\n",
    "sig"
   ]
  },
  {
   "cell_type": "code",
   "execution_count": 55,
   "metadata": {},
   "outputs": [],
   "source": [
    "# Sigular value가 weight로 사용된 doc vector\n",
    "doc_vec = np.dot(doc_eigen_vec, np.diag(sig[:2]))"
   ]
  },
  {
   "cell_type": "code",
   "execution_count": 56,
   "metadata": {},
   "outputs": [
    {
     "data": {
      "text/plain": [
       "array([[-1.66004286,  0.614489  ],\n",
       "       [-0.91993157,  0.27262272],\n",
       "       [-0.19076294,  0.14441497],\n",
       "       [-0.43429549,  0.69216879],\n",
       "       [-1.6655232 , -0.51687678],\n",
       "       [-0.09553865, -0.76470694],\n",
       "       [-0.46072378, -1.44359338]])"
      ]
     },
     "execution_count": 56,
     "metadata": {},
     "output_type": "execute_result"
    }
   ],
   "source": [
    "doc_vec"
   ]
  },
  {
   "cell_type": "code",
   "execution_count": 57,
   "metadata": {},
   "outputs": [],
   "source": [
    "# Plotting을 위해서 다음과 같이 나눈다.\n",
    "doc_x = doc_vec[:, 0]\n",
    "doc_y = doc_vec[:, 1]"
   ]
  },
  {
   "cell_type": "code",
   "execution_count": 58,
   "metadata": {},
   "outputs": [
    {
     "data": {
      "image/png": "[encoded data removed]",
      "text/plain": [
       "<Figure size 576x576 with 1 Axes>"
      ]
     },
     "metadata": {},
     "output_type": "display_data"
    }
   ],
   "source": [
    "fig, ax = plt.subplots()\n",
    "\n",
    "# Scatter\n",
    "ax.scatter(doc_x, doc_y, marker='*', s=100)\n",
    "\n",
    "# Scatter에 라벨링을 한다.\n",
    "for i, txt in enumerate(['d1', 'd2', 'd3', 'd4', 'd5', 'd6', 'd7']):\n",
    "    ax.annotate(txt, (doc_x[i], doc_y[i]), fontsize=20)"
   ]
  },
  {
   "cell_type": "code",
   "execution_count": 59,
   "metadata": {},
   "outputs": [
    {
     "data": {
      "image/png": "[encoded data removed]",
      "text/plain": [
       "<Figure size 576x576 with 1 Axes>"
      ]
     },
     "metadata": {},
     "output_type": "display_data"
    }
   ],
   "source": [
    "# Document와 word를 함께 나타내보겠다.\n",
    "fig, ax = plt.subplots()\n",
    "ax.scatter(w_x, w_y, s=100)\n",
    "for i, txt in enumerate(words):\n",
    "    ax.annotate(txt, (w_x[i], w_y[i]), fontsize=20)\n",
    "    \n",
    "ax.scatter(doc_x, doc_y, marker='*', s=100)\n",
    "for i, txt in enumerate(['d1', 'd2', 'd3', 'd4', 'd5', 'd6', 'd7']):\n",
    "    ax.annotate(txt, (doc_x[i], doc_y[i]), fontsize=20)"
   ]
  },
  {
   "cell_type": "markdown",
   "metadata": {},
   "source": [
    "## 5. Query, document distance 구하기"
   ]
  },
  {
   "cell_type": "markdown",
   "metadata": {},
   "source": [
    "### 5.1. Query"
   ]
  },
  {
   "cell_type": "code",
   "execution_count": 62,
   "metadata": {},
   "outputs": [
    {
     "name": "stdout",
     "output_type": "stream",
     "text": [
      "machine [-1.27320282  0.04950553]\n",
      "python [-0.98984902 -0.12387718]\n",
      "learning [-1.27320282  0.04950553]\n"
     ]
    }
   ],
   "source": [
    "# Query : die, dagger\n",
    "q1 = word_vec[:, 7]\n",
    "print('machine', q1)\n",
    "\n",
    "q2 = word_vec[:, 8]\n",
    "print('python', q2)\n",
    "\n",
    "q3 = word_vec[:, 5]\n",
    "print('learning', q3)"
   ]
  },
  {
   "cell_type": "code",
   "execution_count": 63,
   "metadata": {},
   "outputs": [
    {
     "name": "stdout",
     "output_type": "stream",
     "text": [
      "machine python learning : [-1.17875156 -0.00828871]\n"
     ]
    }
   ],
   "source": [
    "query = (q1 + q2 + q3) / 3\n",
    "print('machine python learning :', query)"
   ]
  },
  {
   "cell_type": "markdown",
   "metadata": {},
   "source": [
    "### 5.2. Query와 document의 거리 : Word embedding 공간에서는 cosine similarity를 사용\n",
    "$$\\text{Cosine Similarity} = \\frac{d_i q}{|d_i| |q|}$$"
   ]
  },
  {
   "cell_type": "code",
   "execution_count": 64,
   "metadata": {},
   "outputs": [],
   "source": [
    "def get_consine_similarity(doc, query):\n",
    "    dot_prod = np.dot(doc, query)\n",
    "    len_doc = np.sqrt(sum(doc ** 2))\n",
    "    len_query = np.sqrt(sum(query ** 2))\n",
    "    \n",
    "    return dot_prod / (len_doc * len_query)"
   ]
  },
  {
   "cell_type": "code",
   "execution_count": 65,
   "metadata": {},
   "outputs": [],
   "source": [
    "result = {}\n",
    "for idx, doc in zip(docs, doc_vec):\n",
    "    result[get_consine_similarity(doc, query)] = idx"
   ]
  },
  {
   "cell_type": "code",
   "execution_count": 66,
   "metadata": {},
   "outputs": [
    {
     "data": {
      "text/plain": [
       "['Machine learning is super fun',\n",
       " 'Python is super, super cool',\n",
       " 'Statistics is cool, too',\n",
       " 'Data science is fun',\n",
       " 'Python is great for machine learning',\n",
       " 'I like football',\n",
       " 'Football is great to watch']"
      ]
     },
     "execution_count": 66,
     "metadata": {},
     "output_type": "execute_result"
    }
   ],
   "source": [
    "docs"
   ]
  },
  {
   "cell_type": "code",
   "execution_count": 67,
   "metadata": {},
   "outputs": [
    {
     "data": {
      "text/plain": [
       "{0.130945501416146: 'I like football',\n",
       " 0.31073285924247535: 'Football is great to watch',\n",
       " 0.5255159978291322: 'Data science is fun',\n",
       " 0.7930342446275301: 'Statistics is cool, too',\n",
       " 0.9353474497542472: 'Machine learning is super fun',\n",
       " 0.9567621655734274: 'Python is super, super cool',\n",
       " 0.9571262278922466: 'Python is great for machine learning'}"
      ]
     },
     "execution_count": 67,
     "metadata": {},
     "output_type": "execute_result"
    }
   ],
   "source": [
    "result"
   ]
  },
  {
   "cell_type": "markdown",
   "metadata": {},
   "source": [
    "### 5.3. 최종 결과"
   ]
  },
  {
   "cell_type": "code",
   "execution_count": 68,
   "metadata": {},
   "outputs": [
    {
     "data": {
      "text/plain": [
       "[(0.9571262278922466, 'Python is great for machine learning'),\n",
       " (0.9567621655734274, 'Python is super, super cool'),\n",
       " (0.9353474497542472, 'Machine learning is super fun'),\n",
       " (0.7930342446275301, 'Statistics is cool, too'),\n",
       " (0.5255159978291322, 'Data science is fun'),\n",
       " (0.31073285924247535, 'Football is great to watch'),\n",
       " (0.130945501416146, 'I like football')]"
      ]
     },
     "execution_count": 68,
     "metadata": {},
     "output_type": "execute_result"
    }
   ],
   "source": [
    "import operator\n",
    "\n",
    "# 최종결과를 sorting하라!\n",
    "sorted(result.items(), key=operator.itemgetter(0), reverse=True)"
   ]
  },
  {
   "cell_type": "code",
   "execution_count": 69,
   "metadata": {},
   "outputs": [
    {
     "data": {
      "text/plain": [
       "Text(-1.17875,-0.00828871,'query')"
      ]
     },
     "execution_count": 69,
     "metadata": {},
     "output_type": "execute_result"
    },
    {
     "data": {
      "image/png": "[encoded data removed]",
      "text/plain": [
       "<Figure size 576x576 with 1 Axes>"
      ]
     },
     "metadata": {},
     "output_type": "display_data"
    }
   ],
   "source": [
    "fig, ax = plt.subplots()\n",
    "ax.scatter(w_x, w_y, s=100)\n",
    "for i, txt in enumerate(words):\n",
    "    ax.annotate(txt, (w_x[i], w_y[i]), fontsize=20)\n",
    "    \n",
    "ax.scatter(doc_x, doc_y, marker='*', s=100)\n",
    "for i, txt in enumerate(['d1', 'd2', 'd3', 'd4', 'd5', 'd6', 'd7']):\n",
    "    ax.annotate(txt, (doc_x[i], doc_y[i]), fontsize=20)\n",
    "    \n",
    "ax.scatter(query[0], query[1], marker='v', s=200, color='red')\n",
    "ax.annotate('query', (query[0], query[1]), fontsize=20)"
   ]
  },
  {
   "cell_type": "markdown",
   "metadata": {},
   "source": [
    "---"
   ]
  }
 ],
 "metadata": {
  "kernelspec": {
   "display_name": "Python 3",
   "language": "python",
   "name": "python3"
  },
  "language_info": {
   "codemirror_mode": {
    "name": "ipython",
    "version": 3
   },
   "file_extension": ".py",
   "mimetype": "text/x-python",
   "name": "python",
   "nbconvert_exporter": "python",
   "pygments_lexer": "ipython3",
   "version": "3.6.3"
  }
 },
 "nbformat": 4,
 "nbformat_minor": 2
}
