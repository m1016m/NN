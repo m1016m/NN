{
 "cells": [
  {
   "cell_type": "markdown",
   "metadata": {},
   "source": [
    "# 경사하강법"
   ]
  },
  {
   "cell_type": "markdown",
   "metadata": {},
   "source": [
    "## 1.  $f(x,y)=(x-2)^2+(y-2)^2+4$ 의 최소값을 경사하강법을 이용하여 구하라."
   ]
  },
  {
   "cell_type": "markdown",
   "metadata": {},
   "source": [
    "### 1.1. gradient를 구한다."
   ]
  },
  {
   "cell_type": "markdown",
   "metadata": {},
   "source": [
    "$$\\frac{\\partial}{\\partial x}f(x, y)=2(x-2)$$ $$\\frac{\\partial}{\\partial y}f(x, y)=2(y-2)$$"
   ]
  },
  {
   "cell_type": "code",
   "execution_count": 1,
   "metadata": {},
   "outputs": [],
   "source": [
    "def get_gradient(v):\n",
    "    \"\"\"편미분 함수를 구한다. 즉 시점에서의 gradient\"\"\"\n",
    "    return [2 * (v_i - 2) for v_i in v]"
   ]
  },
  {
   "cell_type": "markdown",
   "metadata": {},
   "source": [
    "### 1.2. step을 구한다."
   ]
  },
  {
   "cell_type": "markdown",
   "metadata": {},
   "source": [
    "$$x_{t+1} = x_{t} -\\rho \\frac{\\partial}{\\partial x}f(x, y)=x_{t}-\\rho \\times 2(x-2)$$\n",
    "$$y_{t+1} = y_{t} -\\rho \\frac{\\partial}{\\partial y}f(x, y)=y_{t}-\\rho \\times 2(y-2)$$"
   ]
  },
  {
   "cell_type": "code",
   "execution_count": 2,
   "metadata": {},
   "outputs": [],
   "source": [
    "def step(v, gradient, step_size):\n",
    "    \"\"\"현재 위치에서 step_size와 gradient 이용하여 이동한다.\"\"\"\n",
    "    return [v_i - step_size * direction_i \n",
    "            for v_i, direction_i in zip(v, gradient)]"
   ]
  },
  {
   "cell_type": "markdown",
   "metadata": {},
   "source": [
    "### 1.3. 시작점은 랜덤하게 선택해보자."
   ]
  },
  {
   "cell_type": "code",
   "execution_count": 3,
   "metadata": {},
   "outputs": [
    {
     "data": {
      "text/plain": [
       "[-4, 9]"
      ]
     },
     "execution_count": 3,
     "metadata": {},
     "output_type": "execute_result"
    }
   ],
   "source": [
    "import numpy as np\n",
    "\n",
    "random_generator = np.random.RandomState(42)\n",
    "\n",
    "# 첫번째 시작점 x_0, y_0를 선택한다.\n",
    "v = [random_generator.randint(-10, 10) for _ in range(2)]\n",
    "v"
   ]
  },
  {
   "cell_type": "markdown",
   "metadata": {},
   "source": [
    "### 4. alpha (학습률)를 설정하자."
   ]
  },
  {
   "cell_type": "code",
   "execution_count": 4,
   "metadata": {},
   "outputs": [],
   "source": [
    "alpha = 0.01"
   ]
  },
  {
   "cell_type": "markdown",
   "metadata": {},
   "source": [
    "### 5. 알고리즘을 멈출 조건을 설정하자.\n",
    "\n",
    "이전의 위치와 현재의 위치가 tolerance 보다 작으면 멈춘다. 즉 $$\\text{dist}(v_t, v_{t+1}) < \\text{tolerance} \\text{  where  } v=(x, y)$$ 이면 멈춘다."
   ]
  },
  {
   "cell_type": "code",
   "execution_count": 5,
   "metadata": {},
   "outputs": [],
   "source": [
    "import math\n",
    "def distance(v, w):\n",
    "    return math.sqrt(sum([(v_i - w_i)**2 for v_i, w_i in zip(v, w)]))"
   ]
  },
  {
   "cell_type": "code",
   "execution_count": 6,
   "metadata": {},
   "outputs": [
    {
     "name": "stdout",
     "output_type": "stream",
     "text": [
      "[-2.4314146158724235, 7.169983718517828]\n",
      "[-1.2729059162946232, 5.818390235677062]\n",
      "[-0.41726718564055343, 4.820145049913981]\n",
      "[0.21468114384727552, 4.082871998844846]\n",
      "[0.6814186544753634, 3.538344903112076]\n",
      "[1.0261365588709, 3.136174014650617]\n",
      "[1.2807345521861158, 2.839143022449532]\n",
      "[1.4687727636442554, 2.619765109081703]\n",
      "[1.6076519767439397, 2.4577393604654048]\n",
      "[1.7102238725390735, 2.3380721487044145]\n",
      "[1.7859803055731232, 2.249689643498023]\n",
      "[1.841931666338698, 2.1844130559381862]\n",
      "[1.8832556126511177, 2.136201785240363]\n",
      "[1.9137762025968486, 2.1005944303036768]\n",
      "[1.9363177673252754, 2.0742959381205117]\n",
      "[1.952966270558973, 2.054872684347865]\n",
      "[1.965262340652674, 2.040527269238547]\n",
      "[1.9743438381078438, 2.029932188874182]\n",
      "[1.981051151533985, 2.022106989877018]\n",
      "[1.9860049659922916, 2.0163275396756597]\n",
      "[1.9896637002914348, 2.0120590163266585]\n",
      "[1.9923659283995712, 2.008906416867166]\n",
      "[1.9943617105885405, 2.0065780043133685]\n",
      "[1.9958357336489234, 2.004858310742922]\n",
      "[1.9969244015379088, 2.0035881982057724]\n",
      "[1.9977284580037558, 2.0026501323289514]\n",
      "[1.9983223092662126, 2.001957305856086]\n",
      "[1.9987609094602303, 2.001445605629732]\n",
      "[1.9990848460119461, 2.0010676796527305]\n",
      "[1.9993240955402607, 2.0007885552030302]\n",
      "[1.9995007978496964, 2.0005824025086882]\n",
      "[1.999631304715812, 2.00043014449822]\n"
     ]
    }
   ],
   "source": [
    "cnt = 0  # 중간 결과값을 출력할 때 사용하기 위함\n",
    "tol = 0.00001\n",
    "gradients = []  # Gradient의 변화\n",
    "plot_points = []  # Plotting을 위한 것\n",
    "\n",
    "while True:\n",
    "    cnt += 1\n",
    "    gradient = get_gradient(v)  # 시점에서의 gradient\n",
    "    next_v = step(v, gradient, alpha)\n",
    "    if not cnt % 15:\n",
    "        plot_points.append(next_v)\n",
    "        print(next_v)  # Debugging 용\n",
    "    if distance(next_v, v) < tol:\n",
    "        break\n",
    "    gradients.append(next_v)\n",
    "    v = next_v"
   ]
  },
  {
   "cell_type": "code",
   "execution_count": 7,
   "metadata": {},
   "outputs": [],
   "source": [
    "# Numpy array로 변경하면 사용이 편하다.\n",
    "gradients = np.array(gradients)\n",
    "\n",
    "x = gradients[:, 0]\n",
    "y = gradients[:, 1]"
   ]
  },
  {
   "cell_type": "code",
   "execution_count": 8,
   "metadata": {},
   "outputs": [],
   "source": [
    "# 등고선을 그리기 위해서는 meshgrid가 필요함\n",
    "X, Y = np.meshgrid(x, y)\n",
    "Z = (X-2) ** 2 + (Y-2) ** 2"
   ]
  },
  {
   "cell_type": "code",
   "execution_count": 9,
   "metadata": {},
   "outputs": [],
   "source": [
    "# 최소값의 변화를 확인하기 위하여 plot\n",
    "plot_points = np.array(plot_points)\n",
    "\n",
    "px = plot_points[:, 0]\n",
    "py = plot_points[:, 1]"
   ]
  },
  {
   "cell_type": "code",
   "execution_count": 10,
   "metadata": {},
   "outputs": [],
   "source": [
    "import matplotlib.pyplot as plt"
   ]
  },
  {
   "cell_type": "code",
   "execution_count": 11,
   "metadata": {
    "scrolled": true
   },
   "outputs": [
    {
     "data": {
      "image/png": "[encoded data removed]",
      "text/plain": [
       "<matplotlib.figure.Figure at 0x10d873a20>"
      ]
     },
     "metadata": {
      "needs_background": "light"
     },
     "output_type": "display_data"
    }
   ],
   "source": [
    "contours = plt.contourf(x, y, Z, 20, cmap='RdGy')\n",
    "plt.plot(px, py, \"b-o\")\n",
    "plt.colorbar();"
   ]
  },
  {
   "cell_type": "markdown",
   "metadata": {},
   "source": [
    "\n",
    "\n",
    "## 2. $f(x, y) = (1-x)^2+100(y-x^2)^2$ 의 최소값을 경사하강법을 (또는 최대값을 경사상승법을) 사용하여 구하라. 해당 함수는 Rosenbrock function이다."
   ]
  }
 ],
 "metadata": {
  "anaconda-cloud": {},
  "kernelspec": {
   "display_name": "Python 3",
   "language": "python",
   "name": "python3"
  },
  "language_info": {
   "codemirror_mode": {
    "name": "ipython",
    "version": 3
   },
   "file_extension": ".py",
   "mimetype": "text/x-python",
   "name": "python",
   "nbconvert_exporter": "python",
   "pygments_lexer": "ipython3",
   "version": "3.6.6"
  }
 },
 "nbformat": 4,
 "nbformat_minor": 1
}
