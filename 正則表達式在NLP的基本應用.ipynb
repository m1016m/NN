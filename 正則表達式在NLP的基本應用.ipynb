{
  "nbformat": 4,
  "nbformat_minor": 0,
  "metadata": {
    "colab": {
      "name": "正則表達式在NLP的基本應用.ipynb",
      "version": "0.3.2",
      "provenance": [],
      "include_colab_link": true
    },
    "kernelspec": {
      "name": "python3",
      "display_name": "Python 3"
    }
  },
  "cells": [
    {
      "cell_type": "markdown",
      "metadata": {
        "id": "view-in-github",
        "colab_type": "text"
      },
      "source": [
        "<a href=\"https://colab.research.google.com/github/m1016m/NN/blob/master/%E6%AD%A3%E5%89%87%E8%A1%A8%E9%81%94%E5%BC%8F%E5%9C%A8NLP%E7%9A%84%E5%9F%BA%E6%9C%AC%E6%87%89%E7%94%A8.ipynb\" target=\"_parent\"><img src=\"https://colab.research.google.com/assets/colab-badge.svg\" alt=\"Open In Colab\"/></a>"
      ]
    },
    {
      "cell_type": "code",
      "metadata": {
        "id": "TuQy1WoKjuMn",
        "colab_type": "code",
        "colab": {}
      },
      "source": [
        "#正則表達式在NLP的基本應用\n",
        "#獲取爬蟲這個關鍵字的句子\n",
        "\n",
        "import re\n",
        "text_string = '文本最重要的來源無疑是網格'"
      ],
      "execution_count": 0,
      "outputs": []
    }
  ]
}