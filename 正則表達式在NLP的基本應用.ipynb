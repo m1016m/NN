{
  "nbformat": 4,
  "nbformat_minor": 0,
  "metadata": {
    "colab": {
      "name": "正則表達式在NLP的基本應用.ipynb",
      "version": "0.3.2",
      "provenance": [],
      "collapsed_sections": [],
      "include_colab_link": true
    },
    "kernelspec": {
      "name": "python3",
      "display_name": "Python 3"
    }
  },
  "cells": [
    {
      "cell_type": "markdown",
      "metadata": {
        "id": "view-in-github",
        "colab_type": "text"
      },
      "source": [
        "<a href=\"https://colab.research.google.com/github/m1016m/NN/blob/master/%E6%AD%A3%E5%89%87%E8%A1%A8%E9%81%94%E5%BC%8F%E5%9C%A8NLP%E7%9A%84%E5%9F%BA%E6%9C%AC%E6%87%89%E7%94%A8.ipynb\" target=\"_parent\"><img src=\"https://colab.research.google.com/assets/colab-badge.svg\" alt=\"Open In Colab\"/></a>"
      ]
    },
    {
      "cell_type": "code",
      "metadata": {
        "id": "TuQy1WoKjuMn",
        "colab_type": "code",
        "colab": {
          "base_uri": "https://localhost:8080/",
          "height": 68
        },
        "outputId": "d45bcd12-655b-4f04-ea26-a2e4aba2d55a"
      },
      "source": [
        "#正則表達式在NLP的基本應用\n",
        "#獲取爬蟲這個關鍵字的句子\n",
        "\n",
        "import re\n",
        "text_string = '文本最重要的來源無疑是網格。我們要把網路中的文本獲取形成一個文本數據庫。利用一個爬蟲抓取到網路中的信息。爬蟲的策略有廣度爬取和深度爬取。根據用戶的需求，爬蟲可以有主題爬蟲和通用爬蟲之分。'\n",
        "regex = '爬蟲'\n",
        "p_string = text_string.split('。')\n",
        "for line in p_string :\n",
        "  if re.search(regex , line) is not None: #search 的方法是用來匹配當前是否匹配這個regex\n",
        "      print(line)  \n",
        "#練習抓出文本"
      ],
      "execution_count": 2,
      "outputs": [
        {
          "output_type": "stream",
          "text": [
            "利用一個爬蟲抓取到網路中的信息\n",
            "爬蟲的策略有廣度爬取和深度爬取\n",
            "根據用戶的需求，爬蟲可以有主題爬蟲和通用爬蟲之分\n"
          ],
          "name": "stdout"
        }
      ]
    },
    {
      "cell_type": "code",
      "metadata": {
        "id": "Q2Xx2vl7sIqA",
        "colab_type": "code",
        "colab": {
          "base_uri": "https://localhost:8080/",
          "height": 68
        },
        "outputId": "2620952e-472d-487f-e218-0102ffaf213d"
      },
      "source": [
        "#匹配任一個字符 .代替任何單個字符(換行除外)\n",
        "#'a.c'可匹配 'abc''branch' 不可匹配 'add''crash'\n",
        "#'..t'可匹配 'bat''oat' 不可匹配 'it''table'\n",
        "#找出爬＋任一一個字的句子\n",
        "import re\n",
        "text_string = '文本最重要的來源無疑是網格。我們要把網路中的文本獲取形成一個文本數據庫。利用一個爬蟲抓取到網路中的信息。爬蟲的策略有廣度爬取和深度爬取。根據用戶的需求，爬蟲可以有主題爬蟲和通用爬蟲之分。'\n",
        "regex = '爬.'\n",
        "p_string = text_string.split('。')\n",
        "for line in p_string :\n",
        "  if re.search(regex , line) is not None: #search 的方法是用來匹配當前是否匹配這個regex\n",
        "      print(line) \n",
        "#練習抓出用戶＋任一一個字的句子"
      ],
      "execution_count": 5,
      "outputs": [
        {
          "output_type": "stream",
          "text": [
            "利用一個爬蟲抓取到網路中的信息\n",
            "爬蟲的策略有廣度爬取和深度爬取\n",
            "根據用戶的需求，爬蟲可以有主題爬蟲和通用爬蟲之分\n"
          ],
          "name": "stdout"
        }
      ]
    },
    {
      "cell_type": "code",
      "metadata": {
        "id": "C57rmm3rugde",
        "colab_type": "code",
        "colab": {
          "base_uri": "https://localhost:8080/",
          "height": 34
        },
        "outputId": "f2fd046a-3054-4926-ae77-5c07bd664fa1"
      },
      "source": [
        "#匹配開始和結尾的字符串 ^批配開始 $批配結尾\n",
        "# \"^a\" 代表所有以字母a開頭的字串\n",
        "# \"a$\" 代表所有以字母a結尾的字串\n",
        "import re\n",
        "text_string = '文本最重要的來源無疑是網格。我們要把網路中的文本獲取形成一個文本數據庫。利用一個爬蟲抓取到網路中的信息。爬蟲的策略有廣度爬取和深度爬取。根據用戶的需求，爬蟲可以有主題爬蟲和通用爬蟲之分。'\n",
        "regex = '^文本'\n",
        "p_string = text_string.split('。')\n",
        "for line in p_string :\n",
        "  if re.search(regex , line) is not None: #search 的方法是用來匹配當前是否匹配這個regex\n",
        "      print(line)\n",
        "#練習抓出以'信息'結尾的字串"
      ],
      "execution_count": 6,
      "outputs": [
        {
          "output_type": "stream",
          "text": [
            "文本最重要的來源無疑是網格\n"
          ],
          "name": "stdout"
        }
      ]
    },
    {
      "cell_type": "code",
      "metadata": {
        "id": "xdmY7MIg3ovO",
        "colab_type": "code",
        "colab": {
          "base_uri": "https://localhost:8080/",
          "height": 68
        },
        "outputId": "78edaa1e-6e8a-4732-9702-81b34e38336d"
      },
      "source": [
        "#使用中括號匹配多個字符\n",
        "# []\n",
        "# [bcr]at 代表的是匹配'bat' 'cat' 'rat'\n",
        "import re\n",
        "text_string = ['[重要的]今年第七號颱風23日登陸台灣東部沿海地區','上海發布車庫銷售監管通知：違規者暫停網簽資格','[緊要的]中國對印度發強硬信息，印度急切需要結束對峙']\n",
        "regex = '^\\[[重緊]..\\]'\n",
        "\n",
        "\n",
        "for line in text_string :\n",
        "     if re.search(regex , line) is not None:\n",
        "      print(line)\n",
        "     else:\n",
        "      print('not match')"
      ],
      "execution_count": 9,
      "outputs": [
        {
          "output_type": "stream",
          "text": [
            "[重要的]今年第七號颱風23日登陸台灣東部沿海地區\n",
            "not match\n",
            "[緊要的]中國對印度發強硬信息，印度急切需要結束對峙\n"
          ],
          "name": "stdout"
        }
      ]
    },
    {
      "cell_type": "code",
      "metadata": {
        "id": "qlXhp66_-Jk5",
        "colab_type": "code",
        "colab": {
          "base_uri": "https://localhost:8080/",
          "height": 51
        },
        "outputId": "a5af7f9e-fa04-42ef-d605-e4db5d4c2813"
      },
      "source": [
        "#使用轉義符\\ 因為[]在正則表達式中是特殊符號,假設要匹配\\就必須要四個反斜槓,\\\\\\\\,也可以使用r'\\\\',例如匹配數字可以寫成r'\\d',原本是'\\\\d'\n",
        "import re\n",
        "if re.search('\\\\\\\\','I have one nee\\dle') is not None:\n",
        "  print('match it')\n",
        "else :\n",
        "  print('not match')\n",
        "  \n",
        "  \n",
        "if re.search(r'\\\\','I have one nee\\dle') is not None:\n",
        "  print('match it')\n",
        "else :\n",
        "  print('not match')\n",
        "  "
      ],
      "execution_count": 10,
      "outputs": [
        {
          "output_type": "stream",
          "text": [
            "match it\n",
            "match it\n"
          ],
          "name": "stdout"
        }
      ]
    },
    {
      "cell_type": "code",
      "metadata": {
        "id": "RUckuf0F_p3z",
        "colab_type": "code",
        "colab": {
          "base_uri": "https://localhost:8080/",
          "height": 51
        },
        "outputId": "c94db4a5-8543-42ff-cf32-1f36b63c4ed1"
      },
      "source": [
        "#抽取文本中的數字\n",
        "#匹配年份在1000~2999年\n",
        "import re\n",
        "strings = ['War of 1812' , 'There are 5280 feet to a mile' , 'Happy New Year 2019!']\n",
        "year_string = []\n",
        "for string in strings :\n",
        "  if re.search('[1-2][0-9]{3}',string):#{3}代表重複之前的[0-9]三次，[1-2]匹配年份在1000~2999年\n",
        "    year_string.append(string)\n",
        "print(year_string)\n",
        "\n",
        "#抽取所有的年份\n",
        "#use findall()匹配\n",
        "import re\n",
        "year_string = '2018 was a good year,but 2019 will be better'\n",
        "years = re.findall('[2][0-9]{3}',year_string)\n",
        "print(years)"
      ],
      "execution_count": 15,
      "outputs": [
        {
          "output_type": "stream",
          "text": [
            "['War of 1812', 'Happy New Year 2019!']\n",
            "['2018', '2019']\n"
          ],
          "name": "stdout"
        }
      ]
    }
  ]
}